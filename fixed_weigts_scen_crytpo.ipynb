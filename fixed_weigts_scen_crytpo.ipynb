{
 "cells": [
  {
   "cell_type": "code",
   "execution_count": 1,
   "metadata": {},
   "outputs": [],
   "source": [
    "import pandas as pd\r\n",
    "import numpy as np \r\n",
    "import random\r\n",
    "from sklearn.decomposition import PCA\r\n",
    "from tqdm import tqdm\r\n",
    "import plotly.express as px \r\n",
    "import plotly.io as pio \r\n",
    "pio.renderers.default = \"browser\"\r\n",
    "import ast"
   ]
  },
  {
   "cell_type": "markdown",
   "metadata": {},
   "source": [
    "# Rolling Periods"
   ]
  },
  {
   "cell_type": "code",
   "execution_count": 19,
   "metadata": {},
   "outputs": [],
   "source": [
    "#Finding the initial portoflio from desired investemnt universe \r\n",
    "\r\n",
    "def calculate_pdi(num_assets, num_crytpos, etf_tickers,crypto_tickers, weekly_returns): \r\n",
    "        \r\n",
    "        def meanRetAn(data):             \r\n",
    "            Result = 1\r\n",
    "            \r\n",
    "            for i in data:\r\n",
    "                Result *= (1+i)\r\n",
    "                \r\n",
    "            Result = Result**(1/float(len(data)/52))-1\r\n",
    "            \r\n",
    "            return(Result)\r\n",
    "\r\n",
    "        pca = PCA()\r\n",
    "        PDI_dict = {}\r\n",
    "        samples = []\r\n",
    "        for number in [num_assets]:\r\n",
    "            for i in range(1,30000):\r\n",
    "                for ii in [num_crytpos]:\r\n",
    "                    t = random.sample(etf_tickers,number-ii)\r\n",
    "                    crytpo = random.sample(crypto_tickers,ii)\r\n",
    "                    t.extend(crytpo)\r\n",
    "                    samples.append(t)\r\n",
    "        \r\n",
    "        seen = set()\r\n",
    "        samples_mini = [x for x in samples if frozenset(x) not in seen and not seen.add(frozenset(x))]\r\n",
    "\r\n",
    "        \r\n",
    "        for i,y in tqdm(zip(samples_mini,range(1,len(samples_mini)+1))):\r\n",
    "            #prog = int(y/len(samples_mini)*100)\r\n",
    "            #progress_bar.progress(prog)\r\n",
    "            #status_text.text(\"{}% Complete\".format(prog))\r\n",
    "            n_assets = len(i)\r\n",
    "            portfolio_weights_ew = np.repeat(1/n_assets, n_assets)\r\n",
    "            port_weekly_return = weekly_returns[i].mul(portfolio_weights_ew,axis=1).sum(axis=1)\r\n",
    "            ann_ret = meanRetAn(list(port_weekly_return))\r\n",
    "            an_cov = weekly_returns[i].cov()\r\n",
    "            port_std = np.sqrt(np.dot(portfolio_weights_ew.T, np.dot(an_cov, portfolio_weights_ew)))*np.sqrt(52)\r\n",
    "            corr_matrix = np.array(weekly_returns[i].corr())\r\n",
    "            principalComponents = pca.fit(corr_matrix)\r\n",
    "            PDI = 2*sum(principalComponents.explained_variance_ratio_*range(1,len(principalComponents.explained_variance_ratio_)+1,1))-1\r\n",
    "            \r\n",
    "            PDI_dict[y] = {}\r\n",
    "            PDI_dict[y][\"PDI_INDEX\"] = PDI\r\n",
    "            PDI_dict[y][\"# of Assets\"] = len(i)\r\n",
    "            PDI_dict[y][\"Assets\"] = i\r\n",
    "            PDI_dict[y][\"Sharpe Ratio\"] = ann_ret/port_std\r\n",
    "            PDI_dict[y][\"Annual Return\"] = ann_ret\r\n",
    "            PDI_dict[y][\"Annual STD\"] = port_std\r\n",
    "        \r\n",
    "\r\n",
    "            \r\n",
    "\r\n",
    "\r\n",
    "        PDI_DF = pd.DataFrame(PDI_dict).T\r\n",
    "        PDI_DF[\"Assets\"] = PDI_DF[\"Assets\"].astype(str)\r\n",
    "        PDI_DF[\"# of Assets\"] = PDI_DF[\"# of Assets\"].astype(str)\r\n",
    "        PDI_DF[\"Sharpe Ratio\"] = PDI_DF[\"Sharpe Ratio\"].astype(float)\r\n",
    "        PDI_DF[\"Annual STD\"] = PDI_DF[\"Annual STD\"].astype(float)\r\n",
    "        PDI_DF[\"PDI_INDEX\"] = PDI_DF[\"PDI_INDEX\"].astype(float)\r\n",
    "        PDI_DF[\"Annual Return\"] = PDI_DF[\"Annual Return\"].astype(float)\r\n",
    "\r\n",
    "        return PDI_DF\r\n",
    "\r\n",
    "\r\n",
    "\r\n",
    "############################################################## Trading Strategy #################################################################################\r\n",
    "# Trading algorithm that uses the portfolio chosen, and allocated weights accordingly\r\n",
    "def calculate_pdi_weights( returns,return_mean_range): \r\n",
    "\r\n",
    "    n = len(returns.columns)\r\n",
    "    w = [[(100/n)/100]*n]\r\n",
    "    for i in range(1,30000):\r\n",
    "        weights = [random.random() for _ in range(n)]\r\n",
    "        sum_weights = sum(weights)\r\n",
    "        weights = [1*w/sum_weights for w in weights]\r\n",
    "        w.append(list(np.round(weights,2)))\r\n",
    "    weights_new = []\r\n",
    "    for i in w:\r\n",
    "        if i not in weights_new:\r\n",
    "            weights_new.append(i)\r\n",
    "\r\n",
    "\r\n",
    "    def meanRetAn(data):             \r\n",
    "        Result = 1\r\n",
    "        \r\n",
    "        for i in data:\r\n",
    "            Result *= (1+i)\r\n",
    "            \r\n",
    "        Result = Result**(1/float(len(data)/return_mean_range))-1\r\n",
    "        \r\n",
    "        return(Result)\r\n",
    "\r\n",
    "    pca = PCA()\r\n",
    "    PDI_dict = {}\r\n",
    "\r\n",
    "    for y,num in tqdm(zip(weights_new, range(0,len(weights_new),1))):\r\n",
    "        \r\n",
    "        port_ret  = returns.mul(y,axis=1).sum(axis=1)\r\n",
    "\r\n",
    "        ann_ret = meanRetAn(list(port_ret))\r\n",
    "        an_cov = returns.cov()\r\n",
    "        port_std = np.sqrt(np.dot(np.array(y).T, np.dot(an_cov, y)))*np.sqrt(return_mean_range)\r\n",
    "        corr_matrix = np.array(returns.mul(y).cov())\r\n",
    "        principalComponents = pca.fit(corr_matrix)\r\n",
    "        PDI = 2*sum(principalComponents.explained_variance_ratio_*range(1,len(principalComponents.explained_variance_ratio_)+1,1))-1\r\n",
    "\r\n",
    "        PDI_dict[num ] = {}\r\n",
    "        PDI_dict[num ][\"PDI_INDEX\"] = PDI\r\n",
    "        PDI_dict[num ][\"# of Assets\"] = len(y)\r\n",
    "        PDI_dict[num ][\"Sharpe Ratio\"] = ann_ret/port_std\r\n",
    "        PDI_dict[num ][\"Annual Return\"] = ann_ret\r\n",
    "        PDI_dict[num ][\"weights\"] = y\r\n",
    "        PDI_dict[num ][\"Annual STD\"] = port_std\r\n",
    "\r\n",
    "    df = pd.DataFrame(PDI_dict).T\r\n",
    "    df[\"PDI_INDEX\"] = df[\"PDI_INDEX\"].astype(float)\r\n",
    "    df[\"Sharpe Ratio\"] = df[\"Sharpe Ratio\"].astype(float)\r\n",
    "    df[\"Annual Return\"] = df[\"Annual Return\"].astype(float)\r\n",
    "    df[\"Annual STD\"] = df[\"Annual STD\"].astype(float)\r\n",
    "\r\n",
    "    return df\r\n",
    "\r\n",
    "\r\n",
    "\r\n",
    "############################################################## Trading Strategy #################################################################################\r\n",
    "# Trading algorithm that finds new portfolios each quarter\r\n",
    "def pca_per_weights_rolling(return_data, portfolio, interval, ret_range_mean, max_pdi_train, train_q4):\r\n",
    "        data = return_data.copy() # data containing weekly returns\r\n",
    "        tickers = list(data.columns)\r\n",
    "        data.index = pd.to_datetime(data.index) # Conveting the index which is date to datetime\r\n",
    "        weeks_list = data.index# grabbing all index dates\r\n",
    "        data.index = data.index.to_period(interval) # converting the index to quarterly sets\r\n",
    "        periods = data.index.unique() # taking the unique quarters to loop\r\n",
    "\r\n",
    "        \r\n",
    "        \r\n",
    "\r\n",
    "        #print(periods)\r\n",
    "        first_period = periods[0] # the first period of the time frame\r\n",
    "        remaining_periods = periods[1:] # the remianing periods of the time framr\r\n",
    "        first_periods = periods[:-1] # all periods minus the last\r\n",
    "\r\n",
    "        ########################################  Function for pdi ########## ########## ########## ########## ########### #########  \r\n",
    "        def pdi_period(returns, period, weights):\r\n",
    "            pca = PCA()\r\n",
    "            corr_matrix = np.array(returns.loc[period].mul(weights).cov())\r\n",
    "            principalComponents = pca.fit(corr_matrix)\r\n",
    "            return 2*sum(principalComponents.explained_variance_ratio_*range(1,len(principalComponents.explained_variance_ratio_)+1,1))-1\r\n",
    "        ########## ########## ########## ##########  Mean Annual Return Function ########## ########## ########## ########## ########## \r\n",
    "        def meanRetAn(data):             \r\n",
    "            Result = 1\r\n",
    "            \r\n",
    "            for i in data:\r\n",
    "                Result *= (1+i)\r\n",
    "                \r\n",
    "            Result = Result**(1/float(len(data)/ret_range_mean))-1\r\n",
    "            \r\n",
    "            return(Result)\r\n",
    "\r\n",
    "        ########## ########## ########## ##########  Portfolio Return ########## ########## ########## ########## ########## ########## \r\n",
    "        def port_ret(returns, period, weights): # function for calculating returns\r\n",
    "            portfolio_weights_ew = weights\r\n",
    "            port_return = returns.loc[period].mul(portfolio_weights_ew,axis=1).sum(axis=1)\r\n",
    "            return  port_return\r\n",
    "\r\n",
    "        pdi_performance_w = [] #saving performance of max pdi\r\n",
    "        sharpe_performance_w= [] #saving performance of optimal portfolio of max portfolio\r\n",
    "        equal_performance = [] #saving equal weight portflio performance \r\n",
    "        sharpe_2_performance_w =[]\r\n",
    "\r\n",
    "        weights_pdi_performance_w = [] #weights for max pdi allocation over time\r\n",
    "        weights_sharpe_performance_w= [] #weights for max sharpe ratio allocation over time\r\n",
    "        weights_sharpe_2_performance_w= []\r\n",
    "        weights_equal_performance = [] # weights for equal portfolio over time \"same all periods\"\r\n",
    "\r\n",
    "        periods_weights = [] # saving periods for the weights allocation\r\n",
    "\r\n",
    "        pdi_weights_pdi_performance_w = [] #pdi for max pdi allocation over time\r\n",
    "        pdi_weights_sharpe_performance_w= [] #pdi for max sharpe ratio allocation over time\r\n",
    "        pdi_weights_sharpe_2_performance_w= []\r\n",
    "        pdi_weights_equal_performance = [] #pdi for equal portfolio over time \"same all periods\"\r\n",
    "\r\n",
    "\r\n",
    "\r\n",
    "\r\n",
    "        \r\n",
    "        assets = [] # store asstes for all periods\r\n",
    "        assets.append(portfolio) # appending portfolio\r\n",
    "        ############################################################ Calculate first period ####################################################################################\r\n",
    "        print(first_period)\r\n",
    "        periods_weights.append(first_period)\r\n",
    "        first_period_df = calculate_pdi_weights( returns = train_q4[train_q4.index == \"2015Q4\"],return_mean_range = 12)\r\n",
    "\r\n",
    "        ################################################## Taking the higest PDI ###########################################################################################\r\n",
    "\r\n",
    "        id = first_period_df[\"PDI_INDEX\"].idxmax()\r\n",
    "        port_max_pdi_weights = first_period_df[\"weights\"][id] # getting weights for period\r\n",
    "        port_max_pdi_weights_pdi = first_period_df[\"PDI_INDEX\"][id] # getting weights for period\r\n",
    "        \r\n",
    "        weights_pdi_performance_w.append(port_max_pdi_weights) # saving weights for period\r\n",
    "        port_max_ret_period = port_ret(data, first_period,port_max_pdi_weights)  # calculating return for periods \r\n",
    "        pdi_performance_w.extend(port_max_ret_period) # saving return \r\n",
    "        pdi_weights_pdi_performance_w.append(port_max_pdi_weights_pdi) # calculating pdi for first period\r\n",
    "\r\n",
    "        ################################################## Taking the higest Sharpe Ration - PDI ##########################################################################\r\n",
    "        id_sharpe = first_period_df[\"Sharpe Ratio\"].idxmax()\r\n",
    "        port_max_sharpe_weights = first_period_df[\"weights\"][id_sharpe] # getting weights for period\r\n",
    "        port_max_sharpe_weights_pdi = first_period_df[\"PDI_INDEX\"][id_sharpe] # getting weights for period\r\n",
    "\r\n",
    "        weights_sharpe_performance_w.append(port_max_sharpe_weights)   # saving weights for periods\r\n",
    "        port_max_ret_period_sharpe = port_ret(data, first_period,port_max_sharpe_weights)  # calculating return for periods \r\n",
    "        sharpe_performance_w.extend(port_max_ret_period_sharpe) # saving return \r\n",
    "        pdi_weights_sharpe_performance_w.append(port_max_sharpe_weights_pdi) # calculating pdi for first period\r\n",
    "\r\n",
    "\r\n",
    "        ################################################## Taking the higest Sharpe Ration - PDI ##########################################################################\r\n",
    "        if len(first_period_df[first_period_df[\"PDI_INDEX\"] > 2]) == 0:\r\n",
    "            mini_df = first_period_df.copy()\r\n",
    "        else:\r\n",
    "            mini_df = first_period_df[first_period_df[\"PDI_INDEX\"] > 2].copy()\r\n",
    "\r\n",
    "        id_sharpe_2 = mini_df[\"Sharpe Ratio\"].idxmax()\r\n",
    "        port_max_sharpe_2_weights = mini_df[\"weights\"][id_sharpe_2] # getting weights for period\r\n",
    "        port_max_sharpe_2_weights_pdi = mini_df[\"PDI_INDEX\"][id_sharpe_2] # getting weights for period\r\n",
    "\r\n",
    "        weights_sharpe_2_performance_w.append(port_max_sharpe_2_weights)   # saving weights for periods\r\n",
    "        port_max_ret_period_sharpe_2 = port_ret(data, first_period,port_max_sharpe_2_weights)  # calculating return for periods \r\n",
    "        sharpe_2_performance_w.extend(port_max_ret_period_sharpe_2) # saving return \r\n",
    "        pdi_weights_sharpe_2_performance_w.append(port_max_sharpe_2_weights_pdi) # calculating pdi for first period\r\n",
    "\r\n",
    "        ################################################################## Equal Weigths Portoflio ##########################################################################\r\n",
    "\r\n",
    "        equal_weights = first_period_df.iloc[0][\"weights\"] # getting weights for period\r\n",
    "        \r\n",
    "\r\n",
    "        weights_equal_performance.append(equal_weights)  # saving weights for periods\r\n",
    "        port_max_ret_period_equal = port_ret(data, first_period,equal_weights) # calculating return for periods \r\n",
    "        equal_performance.extend(port_max_ret_period_equal) # saving return \r\n",
    "        pdi_weights_equal_performance.append(max_pdi_train) # calculating pdi for first period\r\n",
    "\r\n",
    "        ######################################################## Calculation of portfolio perfomnce #############################################################################\r\n",
    "\r\n",
    "        for init_time, next_time in zip(first_periods, remaining_periods):\r\n",
    "            ############ Portfolio Creation ##############################\r\n",
    "            print(\"Rolling range for calculatio: {} - period of return: {}\".format(init_time, next_time))\r\n",
    "            PDI_DF = calculate_pdi_weights(returns = data.loc[init_time].dropna(axis=1), return_mean_range = ret_range_mean)\r\n",
    "            periods_weights.append(next_time) # saving first period\r\n",
    "            assets.append(portfolio) # appending portfolio\r\n",
    "\r\n",
    "            ################################################## Taking the higest PDI ##########################################################################\r\n",
    "\r\n",
    "            id = PDI_DF[\"PDI_INDEX\"].idxmax()\r\n",
    "            port_max_pdi_weights = PDI_DF[\"weights\"][id] # getting weights for period\r\n",
    "            port_max_pdi_weights_pdi = PDI_DF[\"PDI_INDEX\"][id] # getting weights for period\r\n",
    "            \r\n",
    "            weights_pdi_performance_w.append(port_max_pdi_weights) # saving weights for period\r\n",
    "            port_max_ret_period = port_ret(data, next_time,port_max_pdi_weights)  # calculating return for periods \r\n",
    "            pdi_performance_w.extend(port_max_ret_period) # saving return \r\n",
    "            pdi_weights_pdi_performance_w.append(port_max_pdi_weights_pdi) # calculating pdi for first period\r\n",
    "\r\n",
    "            ################################################## Taking the higest Sharpe Ration - PDI ##########################################################################\r\n",
    "            id_sharpe = PDI_DF[\"Sharpe Ratio\"].idxmax()\r\n",
    "            port_max_sharpe_weights = PDI_DF[\"weights\"][id_sharpe] # getting weights for period\r\n",
    "            port_max_sharpe_weights_pdi = PDI_DF[\"PDI_INDEX\"][id_sharpe] # getting weights for period\r\n",
    "\r\n",
    "            weights_sharpe_performance_w.append(port_max_sharpe_weights)   # saving weights for periods\r\n",
    "            port_max_ret_period_sharpe = port_ret(data, next_time,port_max_sharpe_weights)  # calculating return for periods \r\n",
    "            sharpe_performance_w.extend(port_max_ret_period_sharpe) # saving return \r\n",
    "            pdi_weights_sharpe_performance_w.append(port_max_sharpe_weights_pdi) # calculating pdi for first period\r\n",
    "\r\n",
    "\r\n",
    "            ################################################## Taking the higest Sharpe Ration - PDI ##########################################################################\r\n",
    "            if len(PDI_DF[PDI_DF[\"PDI_INDEX\"] > 2]) == 0:\r\n",
    "                mini_df = PDI_DF.copy()\r\n",
    "            else:\r\n",
    "                mini_df = PDI_DF[PDI_DF[\"PDI_INDEX\"] > 2].copy()\r\n",
    "            id_sharpe_2 = mini_df[\"Sharpe Ratio\"].idxmax()\r\n",
    "            port_max_sharpe_2_weights = mini_df[\"weights\"][id_sharpe_2] # getting weights for period\r\n",
    "            port_max_sharpe_2_weights_pdi = mini_df[\"PDI_INDEX\"][id_sharpe_2] # getting weights for period\r\n",
    "\r\n",
    "            weights_sharpe_2_performance_w.append(port_max_sharpe_2_weights)   # saving weights for periods\r\n",
    "            port_max_ret_period_sharpe_2 = port_ret(data, next_time,port_max_sharpe_2_weights)  # calculating return for periods \r\n",
    "            sharpe_2_performance_w.extend(port_max_ret_period_sharpe_2) # saving return \r\n",
    "            pdi_weights_sharpe_2_performance_w.append(port_max_sharpe_2_weights_pdi) # calculating pdi for first period\r\n",
    "\r\n",
    "            ################################################################## Equal Weigths Portoflio ##########################################################################\r\n",
    "\r\n",
    "            equal_weights = PDI_DF.iloc[0][\"weights\"] # getting weights for period\r\n",
    "            \r\n",
    "\r\n",
    "            weights_equal_performance.append(equal_weights)  # saving weights for periods\r\n",
    "            port_max_ret_period_equal = port_ret(data, next_time,equal_weights) # calculating return for periods \r\n",
    "            equal_performance.extend(port_max_ret_period_equal) # saving return \r\n",
    "            pdi_weights_equal_performance.append(pdi_period(data,next_time,equal_weights)) # calculating pdi for first period\r\n",
    "\r\n",
    "\r\n",
    "\r\n",
    "\r\n",
    "\r\n",
    "\r\n",
    "        performance_frame = pd.DataFrame()\r\n",
    "        performance_frame[\"Time\"] = weeks_list\r\n",
    "        performance_frame[\"Equal Weights\"] = equal_performance\r\n",
    "        performance_frame[\"Max PDI Weights\"] = pdi_performance_w\r\n",
    "        performance_frame[\"Max Sharpe Ratio Weights - PDI 2\"] = sharpe_2_performance_w\r\n",
    "        performance_frame[\"Max Sharpe Ratio Weights\"] = sharpe_performance_w\r\n",
    "        performance_frame[\"Equal Weights Cummulative\"] = performance_frame[\"Equal Weights\"].cumsum(axis=0)\r\n",
    "        performance_frame[\"Max PDI Weights Cummulative\"] = performance_frame[\"Max PDI Weights\"].cumsum(axis=0) # cummulative returns max pdi\r\n",
    "        performance_frame[\"Max Sharpe Ratio Weights Cummulative\"] = performance_frame[\"Max Sharpe Ratio Weights\"].cumsum(axis=0) #cummulative return sharpe ratio\r\n",
    "        performance_frame[\"Max Sharpe Ratio Weights Cummulative - PDI 2\"] = performance_frame[\"Max Sharpe Ratio Weights - PDI 2\"].cumsum(axis=0) #cummulative return sharpe ratio\r\n",
    "\r\n",
    "        weights_frame = pd.DataFrame()\r\n",
    "        weights_frame[\"Period\"] = periods_weights\r\n",
    "        weights_frame[\"Weights Max PDI\"] = weights_pdi_performance_w\r\n",
    "        weights_frame[\"Weights Max Sharpe\"] = weights_sharpe_performance_w\r\n",
    "        weights_frame[\"Weights Max Sharpe - PDI 2\"] = weights_sharpe_2_performance_w\r\n",
    "        weights_frame[\"Weights Equal\"] = weights_equal_performance\r\n",
    "        weights_frame[\"Weights Max PDI - PDI Rolling 52\"] = pdi_weights_pdi_performance_w\r\n",
    "        weights_frame[\"Weights Max sharpe - PDI Rolling 52\"] = pdi_weights_sharpe_performance_w\r\n",
    "        weights_frame[\"Weights Max Sharpe - PDI 2 Rolling 52\"] = pdi_weights_sharpe_2_performance_w\r\n",
    "        weights_frame[\"Weights equal - PDI\"] = pdi_weights_equal_performance\r\n",
    "        weights_frame[\"Assets\"] = assets\r\n",
    "\r\n",
    "\r\n",
    "\r\n",
    "\r\n",
    "\r\n",
    "\r\n",
    "\r\n",
    "        return performance_frame, weights_frame\r\n",
    "\r\n"
   ]
  },
  {
   "cell_type": "code",
   "execution_count": 20,
   "metadata": {},
   "outputs": [
    {
     "data": {
      "text/plain": [
       "'#Getting Data\\nour_uni = pd.read_csv(\"our_uni.csv\", index_col=\"Ticker\") # our defined universe\\n\\n\\nreturns_crypto = pd.read_csv(\"crypto_weekly.csv\" , index_col=\"Date\")\\ntick_crypto = list(returns_crypto.columns)\\nreturns_crypto.index = pd.to_datetime(returns_crypto.index)\\nreturns_weekly = pd.read_csv(\"weeklyReturns.csv\", index_col=\"Date\") # loading returns dataframe\\nreturns_weekly = returns_weekly[[\\'IWO\\', \\'IHI\\', \\'VIOG\\', \\'PSJ\\', \\'XMHQ\\', \\'BBP\\', \\'ARKW\\', \\'DWAS\\', \\'FYC\\', \\'FEMS\\', \\'XTN\\', \\'KRE\\', \\'IYH\\', \\'IAK\\', \\'SIZE\\', \\'IAT\\']]\\netf_tick = [\\'IWO\\', \\'IHI\\', \\'VIOG\\', \\'PSJ\\', \\'XMHQ\\', \\'BBP\\', \\'ARKW\\', \\'DWAS\\', \\'FYC\\', \\'FEMS\\', \\'XTN\\', \\'KRE\\', \\'IYH\\', \\'IAK\\', \\'SIZE\\', \\'IAT\\']\\nreturns_weekly.index = pd.to_datetime(returns_weekly.index) # converting returns dataframe to datetime\\nreturns_merge = pd.merge(returns_crypto,returns_weekly,left_index=True,right_index=True)'"
      ]
     },
     "execution_count": 20,
     "metadata": {},
     "output_type": "execute_result"
    }
   ],
   "source": [
    "\"\"\"#Getting Data\r\n",
    "our_uni = pd.read_csv(\"our_uni.csv\", index_col=\"Ticker\") # our defined universe\r\n",
    "\r\n",
    "\r\n",
    "returns_crypto = pd.read_csv(\"crypto_weekly.csv\" , index_col=\"Date\")\r\n",
    "tick_crypto = list(returns_crypto.columns)\r\n",
    "returns_crypto.index = pd.to_datetime(returns_crypto.index)\r\n",
    "returns_weekly = pd.read_csv(\"weeklyReturns.csv\", index_col=\"Date\") # loading returns dataframe\r\n",
    "returns_weekly = returns_weekly[['IWO', 'IHI', 'VIOG', 'PSJ', 'XMHQ', 'BBP', 'ARKW', 'DWAS', 'FYC', 'FEMS', 'XTN', 'KRE', 'IYH', 'IAK', 'SIZE', 'IAT']]\r\n",
    "etf_tick = ['IWO', 'IHI', 'VIOG', 'PSJ', 'XMHQ', 'BBP', 'ARKW', 'DWAS', 'FYC', 'FEMS', 'XTN', 'KRE', 'IYH', 'IAK', 'SIZE', 'IAT']\r\n",
    "returns_weekly.index = pd.to_datetime(returns_weekly.index) # converting returns dataframe to datetime\r\n",
    "returns_merge = pd.merge(returns_crypto,returns_weekly,left_index=True,right_index=True)\"\"\""
   ]
  },
  {
   "cell_type": "code",
   "execution_count": 21,
   "metadata": {},
   "outputs": [
    {
     "name": "stdout",
     "output_type": "stream",
     "text": [
      "---------------------- Calculating diversification and performnce for training period -------------------------------\n"
     ]
    },
    {
     "name": "stderr",
     "output_type": "stream",
     "text": [
      "20976it [01:36, 217.00it/s]\n"
     ]
    },
    {
     "name": "stdout",
     "output_type": "stream",
     "text": [
      "---------------------- Selcted Portfolio -------------------------------\n",
      "['ARKW', 'PSJ', 'BBP', 'IAK', 'KRE', 'XVG-USD']\n",
      "------------------------------------------------------------------------\n",
      "-----------------------------------  Calculating Performance of selected portfolio -----------------------------------\n",
      "2016Q1\n"
     ]
    },
    {
     "name": "stderr",
     "output_type": "stream",
     "text": [
      "29993it [01:10, 423.42it/s]\n"
     ]
    },
    {
     "name": "stdout",
     "output_type": "stream",
     "text": [
      "Rolling range for calculatio: 2016Q1 - period of return: 2016Q2\n"
     ]
    },
    {
     "name": "stderr",
     "output_type": "stream",
     "text": [
      "29993it [01:06, 449.44it/s]\n"
     ]
    },
    {
     "name": "stdout",
     "output_type": "stream",
     "text": [
      "Rolling range for calculatio: 2016Q2 - period of return: 2016Q3\n"
     ]
    },
    {
     "name": "stderr",
     "output_type": "stream",
     "text": [
      "29994it [01:08, 437.67it/s]\n"
     ]
    },
    {
     "name": "stdout",
     "output_type": "stream",
     "text": [
      "Rolling range for calculatio: 2016Q3 - period of return: 2016Q4\n"
     ]
    },
    {
     "name": "stderr",
     "output_type": "stream",
     "text": [
      "29991it [01:07, 445.04it/s]\n"
     ]
    },
    {
     "name": "stdout",
     "output_type": "stream",
     "text": [
      "Rolling range for calculatio: 2016Q4 - period of return: 2017Q1\n"
     ]
    },
    {
     "name": "stderr",
     "output_type": "stream",
     "text": [
      "29991it [01:06, 453.51it/s]\n"
     ]
    },
    {
     "name": "stdout",
     "output_type": "stream",
     "text": [
      "Rolling range for calculatio: 2017Q1 - period of return: 2017Q2\n"
     ]
    },
    {
     "name": "stderr",
     "output_type": "stream",
     "text": [
      "29993it [01:08, 435.01it/s]\n"
     ]
    },
    {
     "name": "stdout",
     "output_type": "stream",
     "text": [
      "Rolling range for calculatio: 2017Q2 - period of return: 2017Q3\n"
     ]
    },
    {
     "name": "stderr",
     "output_type": "stream",
     "text": [
      "29992it [01:08, 439.05it/s]\n"
     ]
    },
    {
     "name": "stdout",
     "output_type": "stream",
     "text": [
      "Rolling range for calculatio: 2017Q3 - period of return: 2017Q4\n"
     ]
    },
    {
     "name": "stderr",
     "output_type": "stream",
     "text": [
      "29998it [01:08, 438.72it/s]\n"
     ]
    },
    {
     "name": "stdout",
     "output_type": "stream",
     "text": [
      "Rolling range for calculatio: 2017Q4 - period of return: 2018Q1\n"
     ]
    },
    {
     "name": "stderr",
     "output_type": "stream",
     "text": [
      "29994it [01:07, 442.54it/s]\n"
     ]
    },
    {
     "name": "stdout",
     "output_type": "stream",
     "text": [
      "Rolling range for calculatio: 2018Q1 - period of return: 2018Q2\n"
     ]
    },
    {
     "name": "stderr",
     "output_type": "stream",
     "text": [
      "29991it [01:06, 447.71it/s]\n"
     ]
    },
    {
     "name": "stdout",
     "output_type": "stream",
     "text": [
      "Rolling range for calculatio: 2018Q2 - period of return: 2018Q3\n"
     ]
    },
    {
     "name": "stderr",
     "output_type": "stream",
     "text": [
      "29994it [01:05, 455.96it/s]\n"
     ]
    },
    {
     "name": "stdout",
     "output_type": "stream",
     "text": [
      "Rolling range for calculatio: 2018Q3 - period of return: 2018Q4\n"
     ]
    },
    {
     "name": "stderr",
     "output_type": "stream",
     "text": [
      "29992it [01:09, 433.90it/s]\n"
     ]
    },
    {
     "name": "stdout",
     "output_type": "stream",
     "text": [
      "Rolling range for calculatio: 2018Q4 - period of return: 2019Q1\n"
     ]
    },
    {
     "name": "stderr",
     "output_type": "stream",
     "text": [
      "29993it [01:08, 440.04it/s]\n"
     ]
    },
    {
     "name": "stdout",
     "output_type": "stream",
     "text": [
      "Rolling range for calculatio: 2019Q1 - period of return: 2019Q2\n"
     ]
    },
    {
     "name": "stderr",
     "output_type": "stream",
     "text": [
      "29988it [01:08, 438.88it/s]\n"
     ]
    },
    {
     "name": "stdout",
     "output_type": "stream",
     "text": [
      "Rolling range for calculatio: 2019Q2 - period of return: 2019Q3\n"
     ]
    },
    {
     "name": "stderr",
     "output_type": "stream",
     "text": [
      "29994it [01:10, 428.46it/s]\n"
     ]
    },
    {
     "name": "stdout",
     "output_type": "stream",
     "text": [
      "Rolling range for calculatio: 2019Q3 - period of return: 2019Q4\n"
     ]
    },
    {
     "name": "stderr",
     "output_type": "stream",
     "text": [
      "29990it [01:06, 448.65it/s]\n"
     ]
    },
    {
     "name": "stdout",
     "output_type": "stream",
     "text": [
      "Rolling range for calculatio: 2019Q4 - period of return: 2020Q1\n"
     ]
    },
    {
     "name": "stderr",
     "output_type": "stream",
     "text": [
      "29998it [01:08, 438.60it/s]\n"
     ]
    },
    {
     "name": "stdout",
     "output_type": "stream",
     "text": [
      "Rolling range for calculatio: 2020Q1 - period of return: 2020Q2\n"
     ]
    },
    {
     "name": "stderr",
     "output_type": "stream",
     "text": [
      "29991it [01:25, 350.78it/s]\n"
     ]
    },
    {
     "name": "stdout",
     "output_type": "stream",
     "text": [
      "Rolling range for calculatio: 2020Q2 - period of return: 2020Q3\n"
     ]
    },
    {
     "name": "stderr",
     "output_type": "stream",
     "text": [
      "29994it [01:12, 415.40it/s]\n"
     ]
    },
    {
     "name": "stdout",
     "output_type": "stream",
     "text": [
      "Rolling range for calculatio: 2020Q3 - period of return: 2020Q4\n"
     ]
    },
    {
     "name": "stderr",
     "output_type": "stream",
     "text": [
      "29993it [01:13, 410.10it/s]\n"
     ]
    },
    {
     "name": "stdout",
     "output_type": "stream",
     "text": [
      "----------------------------------- Done -----------------------------------\n",
      "----------------------------------- Access dataframes - performance and weights  -----------------------------------\n",
      "---------------------- Calculating diversification and performnce for training period -------------------------------\n"
     ]
    },
    {
     "name": "stderr",
     "output_type": "stream",
     "text": [
      "24077it [02:07, 188.98it/s]\n"
     ]
    },
    {
     "name": "stdout",
     "output_type": "stream",
     "text": [
      "---------------------- Selcted Portfolio -------------------------------\n",
      "['ARKW', 'BBP', 'PSJ', 'KRE', 'XVG-USD', 'DASH-USD']\n",
      "------------------------------------------------------------------------\n",
      "-----------------------------------  Calculating Performance of selected portfolio -----------------------------------\n",
      "2016Q1\n"
     ]
    },
    {
     "name": "stderr",
     "output_type": "stream",
     "text": [
      "29998it [01:09, 433.02it/s]\n"
     ]
    },
    {
     "name": "stdout",
     "output_type": "stream",
     "text": [
      "Rolling range for calculatio: 2016Q1 - period of return: 2016Q2\n"
     ]
    },
    {
     "name": "stderr",
     "output_type": "stream",
     "text": [
      "29992it [01:07, 446.23it/s]\n"
     ]
    },
    {
     "name": "stdout",
     "output_type": "stream",
     "text": [
      "Rolling range for calculatio: 2016Q2 - period of return: 2016Q3\n"
     ]
    },
    {
     "name": "stderr",
     "output_type": "stream",
     "text": [
      "29989it [01:08, 438.17it/s]\n"
     ]
    },
    {
     "name": "stdout",
     "output_type": "stream",
     "text": [
      "Rolling range for calculatio: 2016Q3 - period of return: 2016Q4\n"
     ]
    },
    {
     "name": "stderr",
     "output_type": "stream",
     "text": [
      "29989it [01:08, 435.12it/s]\n"
     ]
    },
    {
     "name": "stdout",
     "output_type": "stream",
     "text": [
      "Rolling range for calculatio: 2016Q4 - period of return: 2017Q1\n"
     ]
    },
    {
     "name": "stderr",
     "output_type": "stream",
     "text": [
      "29991it [01:08, 437.63it/s]\n"
     ]
    },
    {
     "name": "stdout",
     "output_type": "stream",
     "text": [
      "Rolling range for calculatio: 2017Q1 - period of return: 2017Q2\n"
     ]
    },
    {
     "name": "stderr",
     "output_type": "stream",
     "text": [
      "29989it [01:08, 439.23it/s]\n"
     ]
    },
    {
     "name": "stdout",
     "output_type": "stream",
     "text": [
      "Rolling range for calculatio: 2017Q2 - period of return: 2017Q3\n"
     ]
    },
    {
     "name": "stderr",
     "output_type": "stream",
     "text": [
      "29991it [01:09, 433.37it/s]\n"
     ]
    },
    {
     "name": "stdout",
     "output_type": "stream",
     "text": [
      "Rolling range for calculatio: 2017Q3 - period of return: 2017Q4\n"
     ]
    },
    {
     "name": "stderr",
     "output_type": "stream",
     "text": [
      "29995it [01:07, 445.00it/s]\n"
     ]
    },
    {
     "name": "stdout",
     "output_type": "stream",
     "text": [
      "Rolling range for calculatio: 2017Q4 - period of return: 2018Q1\n"
     ]
    },
    {
     "name": "stderr",
     "output_type": "stream",
     "text": [
      "29990it [01:09, 433.18it/s]\n"
     ]
    },
    {
     "name": "stdout",
     "output_type": "stream",
     "text": [
      "Rolling range for calculatio: 2018Q1 - period of return: 2018Q2\n"
     ]
    },
    {
     "name": "stderr",
     "output_type": "stream",
     "text": [
      "29990it [01:07, 443.07it/s]\n"
     ]
    },
    {
     "name": "stdout",
     "output_type": "stream",
     "text": [
      "Rolling range for calculatio: 2018Q2 - period of return: 2018Q3\n"
     ]
    },
    {
     "name": "stderr",
     "output_type": "stream",
     "text": [
      "29990it [01:07, 447.00it/s]\n"
     ]
    },
    {
     "name": "stdout",
     "output_type": "stream",
     "text": [
      "Rolling range for calculatio: 2018Q3 - period of return: 2018Q4\n"
     ]
    },
    {
     "name": "stderr",
     "output_type": "stream",
     "text": [
      "29994it [01:07, 441.25it/s]\n"
     ]
    },
    {
     "name": "stdout",
     "output_type": "stream",
     "text": [
      "Rolling range for calculatio: 2018Q4 - period of return: 2019Q1\n"
     ]
    },
    {
     "name": "stderr",
     "output_type": "stream",
     "text": [
      "29991it [01:08, 438.01it/s]\n"
     ]
    },
    {
     "name": "stdout",
     "output_type": "stream",
     "text": [
      "Rolling range for calculatio: 2019Q1 - period of return: 2019Q2\n"
     ]
    },
    {
     "name": "stderr",
     "output_type": "stream",
     "text": [
      "29993it [01:08, 437.74it/s]\n"
     ]
    },
    {
     "name": "stdout",
     "output_type": "stream",
     "text": [
      "Rolling range for calculatio: 2019Q2 - period of return: 2019Q3\n"
     ]
    },
    {
     "name": "stderr",
     "output_type": "stream",
     "text": [
      "29988it [01:08, 439.17it/s]\n"
     ]
    },
    {
     "name": "stdout",
     "output_type": "stream",
     "text": [
      "Rolling range for calculatio: 2019Q3 - period of return: 2019Q4\n"
     ]
    },
    {
     "name": "stderr",
     "output_type": "stream",
     "text": [
      "29992it [01:07, 442.23it/s]\n"
     ]
    },
    {
     "name": "stdout",
     "output_type": "stream",
     "text": [
      "Rolling range for calculatio: 2019Q4 - period of return: 2020Q1\n"
     ]
    },
    {
     "name": "stderr",
     "output_type": "stream",
     "text": [
      "29989it [01:06, 450.23it/s]\n"
     ]
    },
    {
     "name": "stdout",
     "output_type": "stream",
     "text": [
      "Rolling range for calculatio: 2020Q1 - period of return: 2020Q2\n"
     ]
    },
    {
     "name": "stderr",
     "output_type": "stream",
     "text": [
      "29995it [01:07, 444.24it/s]\n"
     ]
    },
    {
     "name": "stdout",
     "output_type": "stream",
     "text": [
      "Rolling range for calculatio: 2020Q2 - period of return: 2020Q3\n"
     ]
    },
    {
     "name": "stderr",
     "output_type": "stream",
     "text": [
      "29994it [01:07, 446.17it/s]\n"
     ]
    },
    {
     "name": "stdout",
     "output_type": "stream",
     "text": [
      "Rolling range for calculatio: 2020Q3 - period of return: 2020Q4\n"
     ]
    },
    {
     "name": "stderr",
     "output_type": "stream",
     "text": [
      "29993it [01:07, 443.92it/s]\n"
     ]
    },
    {
     "name": "stdout",
     "output_type": "stream",
     "text": [
      "----------------------------------- Done -----------------------------------\n",
      "----------------------------------- Access dataframes - performance and weights  -----------------------------------\n",
      "---------------------- Calculating diversification and performnce for training period -------------------------------\n"
     ]
    },
    {
     "name": "stderr",
     "output_type": "stream",
     "text": [
      "21006it [01:39, 211.49it/s]\n"
     ]
    },
    {
     "name": "stdout",
     "output_type": "stream",
     "text": [
      "---------------------- Selcted Portfolio -------------------------------\n",
      "['XSD', 'PJP', 'VIOG', 'KIE', 'XSW', 'XVG-USD']\n",
      "------------------------------------------------------------------------\n",
      "-----------------------------------  Calculating Performance of selected portfolio -----------------------------------\n",
      "2016Q1\n"
     ]
    },
    {
     "name": "stderr",
     "output_type": "stream",
     "text": [
      "29992it [01:06, 450.42it/s]\n"
     ]
    },
    {
     "name": "stdout",
     "output_type": "stream",
     "text": [
      "Rolling range for calculatio: 2016Q1 - period of return: 2016Q2\n"
     ]
    },
    {
     "name": "stderr",
     "output_type": "stream",
     "text": [
      "29994it [01:09, 428.84it/s]\n"
     ]
    },
    {
     "name": "stdout",
     "output_type": "stream",
     "text": [
      "Rolling range for calculatio: 2016Q2 - period of return: 2016Q3\n"
     ]
    },
    {
     "name": "stderr",
     "output_type": "stream",
     "text": [
      "29992it [01:07, 443.41it/s]\n"
     ]
    },
    {
     "name": "stdout",
     "output_type": "stream",
     "text": [
      "Rolling range for calculatio: 2016Q3 - period of return: 2016Q4\n"
     ]
    },
    {
     "name": "stderr",
     "output_type": "stream",
     "text": [
      "29994it [01:06, 452.37it/s]\n"
     ]
    },
    {
     "name": "stdout",
     "output_type": "stream",
     "text": [
      "Rolling range for calculatio: 2016Q4 - period of return: 2017Q1\n"
     ]
    },
    {
     "name": "stderr",
     "output_type": "stream",
     "text": [
      "29992it [01:06, 453.95it/s]\n"
     ]
    },
    {
     "name": "stdout",
     "output_type": "stream",
     "text": [
      "Rolling range for calculatio: 2017Q1 - period of return: 2017Q2\n"
     ]
    },
    {
     "name": "stderr",
     "output_type": "stream",
     "text": [
      "29991it [01:06, 453.88it/s]\n"
     ]
    },
    {
     "name": "stdout",
     "output_type": "stream",
     "text": [
      "Rolling range for calculatio: 2017Q2 - period of return: 2017Q3\n"
     ]
    },
    {
     "name": "stderr",
     "output_type": "stream",
     "text": [
      "29997it [01:06, 451.55it/s]\n"
     ]
    },
    {
     "name": "stdout",
     "output_type": "stream",
     "text": [
      "Rolling range for calculatio: 2017Q3 - period of return: 2017Q4\n"
     ]
    },
    {
     "name": "stderr",
     "output_type": "stream",
     "text": [
      "29991it [01:06, 454.40it/s]\n"
     ]
    },
    {
     "name": "stdout",
     "output_type": "stream",
     "text": [
      "Rolling range for calculatio: 2017Q4 - period of return: 2018Q1\n"
     ]
    },
    {
     "name": "stderr",
     "output_type": "stream",
     "text": [
      "29996it [01:07, 445.73it/s]\n"
     ]
    },
    {
     "name": "stdout",
     "output_type": "stream",
     "text": [
      "Rolling range for calculatio: 2018Q1 - period of return: 2018Q2\n"
     ]
    },
    {
     "name": "stderr",
     "output_type": "stream",
     "text": [
      "29993it [01:07, 447.49it/s]\n"
     ]
    },
    {
     "name": "stdout",
     "output_type": "stream",
     "text": [
      "Rolling range for calculatio: 2018Q2 - period of return: 2018Q3\n"
     ]
    },
    {
     "name": "stderr",
     "output_type": "stream",
     "text": [
      "29992it [01:07, 444.33it/s]\n"
     ]
    },
    {
     "name": "stdout",
     "output_type": "stream",
     "text": [
      "Rolling range for calculatio: 2018Q3 - period of return: 2018Q4\n"
     ]
    },
    {
     "name": "stderr",
     "output_type": "stream",
     "text": [
      "29992it [01:06, 452.73it/s]\n"
     ]
    },
    {
     "name": "stdout",
     "output_type": "stream",
     "text": [
      "Rolling range for calculatio: 2018Q4 - period of return: 2019Q1\n"
     ]
    },
    {
     "name": "stderr",
     "output_type": "stream",
     "text": [
      "29992it [01:06, 450.02it/s]\n"
     ]
    },
    {
     "name": "stdout",
     "output_type": "stream",
     "text": [
      "Rolling range for calculatio: 2019Q1 - period of return: 2019Q2\n"
     ]
    },
    {
     "name": "stderr",
     "output_type": "stream",
     "text": [
      "29996it [01:16, 392.78it/s]\n"
     ]
    },
    {
     "name": "stdout",
     "output_type": "stream",
     "text": [
      "Rolling range for calculatio: 2019Q2 - period of return: 2019Q3\n"
     ]
    },
    {
     "name": "stderr",
     "output_type": "stream",
     "text": [
      "29984it [01:06, 452.74it/s]\n"
     ]
    },
    {
     "name": "stdout",
     "output_type": "stream",
     "text": [
      "Rolling range for calculatio: 2019Q3 - period of return: 2019Q4\n"
     ]
    },
    {
     "name": "stderr",
     "output_type": "stream",
     "text": [
      "29987it [01:07, 441.33it/s]\n"
     ]
    },
    {
     "name": "stdout",
     "output_type": "stream",
     "text": [
      "Rolling range for calculatio: 2019Q4 - period of return: 2020Q1\n"
     ]
    },
    {
     "name": "stderr",
     "output_type": "stream",
     "text": [
      "29997it [01:05, 458.52it/s]\n"
     ]
    },
    {
     "name": "stdout",
     "output_type": "stream",
     "text": [
      "Rolling range for calculatio: 2020Q1 - period of return: 2020Q2\n"
     ]
    },
    {
     "name": "stderr",
     "output_type": "stream",
     "text": [
      "29987it [01:05, 457.88it/s]\n"
     ]
    },
    {
     "name": "stdout",
     "output_type": "stream",
     "text": [
      "Rolling range for calculatio: 2020Q2 - period of return: 2020Q3\n"
     ]
    },
    {
     "name": "stderr",
     "output_type": "stream",
     "text": [
      "29996it [01:05, 456.79it/s]\n"
     ]
    },
    {
     "name": "stdout",
     "output_type": "stream",
     "text": [
      "Rolling range for calculatio: 2020Q3 - period of return: 2020Q4\n"
     ]
    },
    {
     "name": "stderr",
     "output_type": "stream",
     "text": [
      "29990it [01:04, 461.55it/s]\n"
     ]
    },
    {
     "name": "stdout",
     "output_type": "stream",
     "text": [
      "----------------------------------- Done -----------------------------------\n",
      "----------------------------------- Access dataframes - performance and weights  -----------------------------------\n",
      "---------------------- Calculating diversification and performnce for training period -------------------------------\n"
     ]
    },
    {
     "name": "stderr",
     "output_type": "stream",
     "text": [
      "24121it [01:53, 211.72it/s]\n"
     ]
    },
    {
     "name": "stdout",
     "output_type": "stream",
     "text": [
      "---------------------- Selcted Portfolio -------------------------------\n",
      "['XSW', 'XSD', 'PJP', 'KIE', 'DASH-USD', 'XVG-USD']\n",
      "------------------------------------------------------------------------\n",
      "-----------------------------------  Calculating Performance of selected portfolio -----------------------------------\n",
      "2016Q1\n"
     ]
    },
    {
     "name": "stderr",
     "output_type": "stream",
     "text": [
      "29988it [01:07, 443.00it/s]\n"
     ]
    },
    {
     "name": "stdout",
     "output_type": "stream",
     "text": [
      "Rolling range for calculatio: 2016Q1 - period of return: 2016Q2\n"
     ]
    },
    {
     "name": "stderr",
     "output_type": "stream",
     "text": [
      "29996it [01:05, 456.00it/s]\n"
     ]
    },
    {
     "name": "stdout",
     "output_type": "stream",
     "text": [
      "Rolling range for calculatio: 2016Q2 - period of return: 2016Q3\n"
     ]
    },
    {
     "name": "stderr",
     "output_type": "stream",
     "text": [
      "29991it [01:05, 457.60it/s]\n"
     ]
    },
    {
     "name": "stdout",
     "output_type": "stream",
     "text": [
      "Rolling range for calculatio: 2016Q3 - period of return: 2016Q4\n"
     ]
    },
    {
     "name": "stderr",
     "output_type": "stream",
     "text": [
      "29987it [01:05, 457.30it/s]\n"
     ]
    },
    {
     "name": "stdout",
     "output_type": "stream",
     "text": [
      "Rolling range for calculatio: 2016Q4 - period of return: 2017Q1\n"
     ]
    },
    {
     "name": "stderr",
     "output_type": "stream",
     "text": [
      "29994it [01:06, 453.86it/s]\n"
     ]
    },
    {
     "name": "stdout",
     "output_type": "stream",
     "text": [
      "Rolling range for calculatio: 2017Q1 - period of return: 2017Q2\n"
     ]
    },
    {
     "name": "stderr",
     "output_type": "stream",
     "text": [
      "29994it [01:06, 453.94it/s]\n"
     ]
    },
    {
     "name": "stdout",
     "output_type": "stream",
     "text": [
      "Rolling range for calculatio: 2017Q2 - period of return: 2017Q3\n"
     ]
    },
    {
     "name": "stderr",
     "output_type": "stream",
     "text": [
      "29992it [01:05, 458.01it/s]\n"
     ]
    },
    {
     "name": "stdout",
     "output_type": "stream",
     "text": [
      "Rolling range for calculatio: 2017Q3 - period of return: 2017Q4\n"
     ]
    },
    {
     "name": "stderr",
     "output_type": "stream",
     "text": [
      "29995it [01:05, 455.15it/s]\n"
     ]
    },
    {
     "name": "stdout",
     "output_type": "stream",
     "text": [
      "Rolling range for calculatio: 2017Q4 - period of return: 2018Q1\n"
     ]
    },
    {
     "name": "stderr",
     "output_type": "stream",
     "text": [
      "29986it [01:06, 453.83it/s]\n"
     ]
    },
    {
     "name": "stdout",
     "output_type": "stream",
     "text": [
      "Rolling range for calculatio: 2018Q1 - period of return: 2018Q2\n"
     ]
    },
    {
     "name": "stderr",
     "output_type": "stream",
     "text": [
      "29988it [01:06, 454.15it/s]\n"
     ]
    },
    {
     "name": "stdout",
     "output_type": "stream",
     "text": [
      "Rolling range for calculatio: 2018Q2 - period of return: 2018Q3\n"
     ]
    },
    {
     "name": "stderr",
     "output_type": "stream",
     "text": [
      "29995it [01:07, 443.23it/s]\n"
     ]
    },
    {
     "name": "stdout",
     "output_type": "stream",
     "text": [
      "Rolling range for calculatio: 2018Q3 - period of return: 2018Q4\n"
     ]
    },
    {
     "name": "stderr",
     "output_type": "stream",
     "text": [
      "29989it [01:05, 458.06it/s]\n"
     ]
    },
    {
     "name": "stdout",
     "output_type": "stream",
     "text": [
      "Rolling range for calculatio: 2018Q4 - period of return: 2019Q1\n"
     ]
    },
    {
     "name": "stderr",
     "output_type": "stream",
     "text": [
      "29995it [01:06, 453.71it/s]\n"
     ]
    },
    {
     "name": "stdout",
     "output_type": "stream",
     "text": [
      "Rolling range for calculatio: 2019Q1 - period of return: 2019Q2\n"
     ]
    },
    {
     "name": "stderr",
     "output_type": "stream",
     "text": [
      "29991it [01:05, 455.32it/s]\n"
     ]
    },
    {
     "name": "stdout",
     "output_type": "stream",
     "text": [
      "Rolling range for calculatio: 2019Q2 - period of return: 2019Q3\n"
     ]
    },
    {
     "name": "stderr",
     "output_type": "stream",
     "text": [
      "29986it [01:05, 455.81it/s]\n"
     ]
    },
    {
     "name": "stdout",
     "output_type": "stream",
     "text": [
      "Rolling range for calculatio: 2019Q3 - period of return: 2019Q4\n"
     ]
    },
    {
     "name": "stderr",
     "output_type": "stream",
     "text": [
      "29992it [01:05, 456.07it/s]\n"
     ]
    },
    {
     "name": "stdout",
     "output_type": "stream",
     "text": [
      "Rolling range for calculatio: 2019Q4 - period of return: 2020Q1\n"
     ]
    },
    {
     "name": "stderr",
     "output_type": "stream",
     "text": [
      "29991it [01:05, 455.43it/s]\n"
     ]
    },
    {
     "name": "stdout",
     "output_type": "stream",
     "text": [
      "Rolling range for calculatio: 2020Q1 - period of return: 2020Q2\n"
     ]
    },
    {
     "name": "stderr",
     "output_type": "stream",
     "text": [
      "29995it [01:06, 453.77it/s]\n"
     ]
    },
    {
     "name": "stdout",
     "output_type": "stream",
     "text": [
      "Rolling range for calculatio: 2020Q2 - period of return: 2020Q3\n"
     ]
    },
    {
     "name": "stderr",
     "output_type": "stream",
     "text": [
      "29987it [01:05, 454.77it/s]\n"
     ]
    },
    {
     "name": "stdout",
     "output_type": "stream",
     "text": [
      "Rolling range for calculatio: 2020Q3 - period of return: 2020Q4\n"
     ]
    },
    {
     "name": "stderr",
     "output_type": "stream",
     "text": [
      "29991it [01:05, 455.21it/s]\n"
     ]
    },
    {
     "name": "stdout",
     "output_type": "stream",
     "text": [
      "----------------------------------- Done -----------------------------------\n",
      "----------------------------------- Access dataframes - performance and weights  -----------------------------------\n"
     ]
    }
   ],
   "source": [
    "np.random.seed(42)\r\n",
    "random.seed(42)\r\n",
    "#Defining training data\r\n",
    "dicti = {\"MST\": ['SMH', 'SPMD', 'SLYG', 'RPV', 'XSD', 'FIW', 'XTN', 'EZM', 'EWX', 'VIOG', 'XSW', 'KIE', 'PJP', 'PRN', 'XSMO', 'KCE'], \"PDI_Boot\":['IWO', 'IHI', 'VIOG', 'PSJ', 'XMHQ', 'BBP', 'ARKW', 'DWAS', 'FYC', 'FEMS', 'XTN', 'KRE', 'IYH', 'IAK', 'SIZE', 'IAT']}\r\n",
    "result = {}\r\n",
    "for uni in list(dicti.keys()):\r\n",
    "    result[uni] = {}\r\n",
    "    returns_crypto = pd.read_csv(\"crypto_weekly.csv\" , index_col=\"Date\")\r\n",
    "    tick_crypto = list(returns_crypto.columns)\r\n",
    "    returns_crypto.index = pd.to_datetime(returns_crypto.index)\r\n",
    "    returns_weekly = pd.read_csv(\"weeklyReturns.csv\", index_col=\"Date\") # loading returns dataframe\r\n",
    "    returns_weekly = returns_weekly[dicti[uni]]\r\n",
    "    etf_tick = dicti[uni]\r\n",
    "    returns_weekly.index = pd.to_datetime(returns_weekly.index) # converting returns dataframe to datetime\r\n",
    "    returns_merge = pd.merge(returns_crypto,returns_weekly,left_index=True,right_index=True)\r\n",
    "    train_return = returns_merge[returns_merge.index.year <= 2015] # training on data from 2015\r\n",
    "    train_return.index = train_return.index.to_period(\"Q\")\r\n",
    "\r\n",
    "    for num_c in [1,2]:\r\n",
    "        result[uni][\"num_crypto_{}\".format(str(num_c))] = {}\r\n",
    "        for dingo in [\"Sharpe Ratio\"]:\r\n",
    "            result[uni][\"num_crypto_{}\".format(str(num_c))][dingo] = {}\r\n",
    "            for i in [6]:\r\n",
    "                result[uni][\"num_crypto_{}\".format(str(num_c))][dingo][i] = {}\r\n",
    "            \r\n",
    "                print(\"---------------------- Calculating diversification and performnce for training period -------------------------------\")\r\n",
    "                pdi_train = calculate_pdi(num_assets = i, num_crytpos=num_c, etf_tickers = etf_tick ,crypto_tickers=tick_crypto, weekly_returns = train_return) # training on data from 2015 - getting max PDI portflio\r\n",
    "\r\n",
    "                id_index = pdi_train[dingo].idxmax() # getting index id for max pdi\r\n",
    "                id_index_pdi = pdi_train[\"PDI_INDEX\"][id_index]\r\n",
    "                assets_port = ast.literal_eval(pdi_train.loc[id_index][\"Assets\"]) # max pdi portfolio\r\n",
    "                print(\"---------------------- Selcted Portfolio -------------------------------\")\r\n",
    "                print(assets_port)\r\n",
    "                print(\"------------------------------------------------------------------------\")\r\n",
    "                ini_porti = assets_port # starting portfolio \r\n",
    "                test_retuns = returns_merge[returns_merge.index.year >= 2016]\r\n",
    "                \r\n",
    "                train_return_1 = train_return\r\n",
    "                #train_return_1.index = train_return_1.index.to_period(\"Q\")\r\n",
    "                train_return_1 = train_return_1[assets_port]\r\n",
    "                test_week = test_retuns[assets_port] #returns for selected portfolio\r\n",
    "                print(\"-----------------------------------  Calculating Performance of selected portfolio -----------------------------------\")\r\n",
    "                performance, weights = pca_per_weights_rolling(return_data = test_week, portfolio = ini_porti, interval = \"Q\", train_q4= train_return_1, ret_range_mean = 12, max_pdi_train=id_index_pdi) # running strategy for 2016 and forward\r\n",
    "                result[uni][\"num_crypto_{}\".format(str(num_c))][dingo][i][\"performance\"] = performance\r\n",
    "                result[uni][\"num_crypto_{}\".format(str(num_c))][dingo][i][\"weights\"] = weights\r\n",
    "                print(\"----------------------------------- Done -----------------------------------\")\r\n",
    "                print(\"----------------------------------- Access dataframes - performance and weights  -----------------------------------\")"
   ]
  },
  {
   "cell_type": "code",
   "execution_count": 79,
   "metadata": {},
   "outputs": [],
   "source": [
    "for i in ['MST', 'PDI_Boot']:\r\n",
    "    for ii in [\"num_crypto_1\",\"num_crypto_2\"]:\r\n",
    "        for iii in [\"Sharpe Ratio\"]:\r\n",
    "            result[i][ii][iii][6]['performance'].to_csv(\"{}_{}_{}_performance.csv\".format(i,ii,iii))\r\n",
    "            result[i][ii][iii][6]['weights'].to_csv(\"{}_{}_{}_weights.csv\".format(i,ii,iii))\r\n",
    "\r\n"
   ]
  },
  {
   "cell_type": "code",
   "execution_count": 22,
   "metadata": {},
   "outputs": [],
   "source": [
    "px.line(result[\"MST\"][\"num_crypto_2\"][\"Sharpe Ratio\"][6][\"performance\"], x=\"Time\", y=[\"Equal Weights Cummulative\",\"Max PDI Weights Cummulative\",\"Max Sharpe Ratio Weights Cummulative\",\"Max Sharpe Ratio Weights Cummulative - PDI 2\"])\r\n"
   ]
  },
  {
   "cell_type": "code",
   "execution_count": 81,
   "metadata": {},
   "outputs": [],
   "source": [
    "etf_per = pd.read_csv(\"MST_FIXED_weights_1_Sharpe Ratio_performance.csv\")"
   ]
  },
  {
   "cell_type": "code",
   "execution_count": 82,
   "metadata": {},
   "outputs": [],
   "source": [
    "eq_weights_cum = []\r\n",
    "\r\n",
    "eq_weights_cum.append( etf_per[\"Time\"])\r\n",
    "eq_weights_cum.append(etf_per[\"Equal Weights Cummulative\"])\r\n",
    "eq_weights_cum.append(result[\"MST\"][\"num_crypto_1\"][\"Sharpe Ratio\"][6][\"performance\"][\"Equal Weights Cummulative\"])\r\n",
    "eq_weights_cum.append(result[\"MST\"][\"num_crypto_2\"][\"Sharpe Ratio\"][6][\"performance\"][\"Equal Weights Cummulative\"])\r\n"
   ]
  },
  {
   "cell_type": "code",
   "execution_count": 23,
   "metadata": {},
   "outputs": [],
   "source": [
    "etf_c = pd.read_csv(\"MST_num_crypto_1_Sharpe Ratio_performance.csv\")\r\n",
    "etf_c_2 = pd.read_csv(\"MST_num_crypto_2_Sharpe Ratio_performance.csv\")\r\n",
    "etf = pd.read_csv(\"MST_FIXED_weights_1_Sharpe Ratio_performance.csv\")\r\n",
    "etf_c = etf_c.set_index(\"Time\").drop(columns=[\"Unnamed: 0\"])\r\n",
    "etf_c = etf_c.add_suffix('_1_Crypto')\r\n",
    "etf_c_2 = etf_c_2.set_index(\"Time\").drop(columns=[\"Unnamed: 0\"])\r\n",
    "etf_c_2 = etf_c_2.add_suffix('_2_Crypto')\r\n",
    "etf = etf.set_index(\"Time\").drop(columns=[\"Unnamed: 0\"])\r\n",
    "merge = pd.merge(etf_c,etf, left_index=True,right_index=True)\r\n",
    "merge_merge = pd.merge(merge, etf_c_2,left_index=True,right_index=True)\r\n",
    "merge_merge.rename(columns = {\"Max PDI Weights Cummulative_1_Crypto\":\"Max PDI 1 Crypto\",\"Max PDI Weights Cummulative_2_Crypto\":\"Max PDI 2 Crypto\",\"Max PDI Weights Cummulative\":\"Max PDI ETF\",\r\n",
    "\"Max Sharpe Ratio Weights Cummulative_1_Crypto\":\"Max Sharpe 1 Crypto\",\"Max Sharpe Ratio Weights Cummulative_2_Crypto\":\"Max Sharpe 2 Crypto\",\"Max Sharpe Ratio Weights Cummulative\":\"Max Sharpe ETF\",\r\n",
    "\"Equal Weights Cummulative_1_Crypto\":\"1/N 1 Crypto\",\"Equal Weights Cummulative_2_Crypto\":\"1/N 2 Crypto\",\"Equal Weights Cummulative\":\"1/N ETF\"},inplace=True)\r\n",
    "plots = [[\"Max PDI 1 Crypto\",\"Max PDI 2 Crypto\",\"Max PDI ETF\",\"URTH\"],[\"Max Sharpe 1 Crypto\",\"Max Sharpe 2 Crypto\",\"Max Sharpe ETF\",\"URTH\"],[\"1/N 1 Crypto\",\"1/N 2 Crypto\",\"1/N ETF\",\"URTH\"]]\r\n",
    "returns_urth = pd.read_csv(\"weeklyReturns.csv\", index_col=\"Date\")\r\n",
    "returns_urth.index = pd.to_datetime(returns_urth.index)\r\n",
    "returns_urth = returns_urth[returns_urth.index.year > 2015]\r\n",
    "urt = pd.DataFrame(returns_urth[\"URTH\"].cumsum(axis=0))\r\n",
    "merge_merge[\"URTH\"] = list(urt[\"URTH\"])\r\n",
    "for i in plots:\r\n",
    "    fig = px.line(merge_merge, x=merge_merge.index , y = i)\r\n",
    "    fig.update_layout(legend_title = \"Allocation Strategy\", width = 1200, height = 600)\r\n",
    "    fig.update_yaxes(title=\"Cumulative Returns\")\r\n",
    "\r\n",
    "    fig.update_layout(legend=dict(\r\n",
    "    orientation=\"h\",\r\n",
    "    yanchor=\"bottom\",\r\n",
    "    y=1.02,\r\n",
    "    xanchor=\"right\",\r\n",
    "    x=1\r\n",
    "    ))\r\n",
    "    \r\n",
    "    fig.update_xaxes(title=\"Time\")\r\n",
    "    fig.show()\r\n",
    "    \r\n",
    "    "
   ]
  },
  {
   "cell_type": "code",
   "execution_count": 104,
   "metadata": {},
   "outputs": [
    {
     "data": {
      "text/html": [
       "<div>\n",
       "<style scoped>\n",
       "    .dataframe tbody tr th:only-of-type {\n",
       "        vertical-align: middle;\n",
       "    }\n",
       "\n",
       "    .dataframe tbody tr th {\n",
       "        vertical-align: top;\n",
       "    }\n",
       "\n",
       "    .dataframe thead th {\n",
       "        text-align: right;\n",
       "    }\n",
       "</style>\n",
       "<table border=\"1\" class=\"dataframe\">\n",
       "  <thead>\n",
       "    <tr style=\"text-align: right;\">\n",
       "      <th></th>\n",
       "      <th>Unnamed: 0</th>\n",
       "      <th>Period</th>\n",
       "      <th>Weights Max PDI</th>\n",
       "      <th>Weights max sharpe</th>\n",
       "      <th>Weights max sharpe -PDI &gt;2</th>\n",
       "      <th>Weights equal</th>\n",
       "      <th>Weights max PDI - PDI</th>\n",
       "      <th>Weights max sharpe - PDI</th>\n",
       "      <th>Weights max sharpe - PDI &gt;2 - PDI</th>\n",
       "      <th>Weights equal - PDI</th>\n",
       "      <th>Assets</th>\n",
       "    </tr>\n",
       "  </thead>\n",
       "  <tbody>\n",
       "    <tr>\n",
       "      <th>0</th>\n",
       "      <td>0</td>\n",
       "      <td>2016Q1</td>\n",
       "      <td>[0.16666667 0.16666667 0.16666667 0.16666667 0...</td>\n",
       "      <td>[0.16666667 0.16666667 0.16666667 0.16666667 0...</td>\n",
       "      <td>[0.16666667 0.16666667 0.16666667 0.16666667 0...</td>\n",
       "      <td>[0.16666667 0.16666667 0.16666667 0.16666667 0...</td>\n",
       "      <td>1.251329</td>\n",
       "      <td>1.251329</td>\n",
       "      <td>1.251329</td>\n",
       "      <td>1.251329</td>\n",
       "      <td>['SPMD', 'PJP', 'XSW', 'SLYG', 'XSD', 'KIE']</td>\n",
       "    </tr>\n",
       "    <tr>\n",
       "      <th>1</th>\n",
       "      <td>1</td>\n",
       "      <td>2016Q2</td>\n",
       "      <td>[0.18, 0.18, 0.13, 0.18, 0.12, 0.2]</td>\n",
       "      <td>[0.06, 0.01, 0.0, 0.09, 0.58, 0.27]</td>\n",
       "      <td>[0.06, 0.01, 0.0, 0.09, 0.58, 0.27]</td>\n",
       "      <td>[0.16666666666666669, 0.16666666666666669, 0.1...</td>\n",
       "      <td>1.710153</td>\n",
       "      <td>1.006386</td>\n",
       "      <td>1.006386</td>\n",
       "      <td>1.826106</td>\n",
       "      <td>['SPMD', 'PJP', 'XSW', 'SLYG', 'XSD', 'KIE']</td>\n",
       "    </tr>\n",
       "    <tr>\n",
       "      <th>2</th>\n",
       "      <td>2</td>\n",
       "      <td>2016Q3</td>\n",
       "      <td>[0.15, 0.17, 0.22, 0.09, 0.14, 0.23]</td>\n",
       "      <td>[0.06, 0.5, 0.41, 0.0, 0.01, 0.02]</td>\n",
       "      <td>[0.06, 0.5, 0.41, 0.0, 0.01, 0.02]</td>\n",
       "      <td>[0.16666666666666669, 0.16666666666666669, 0.1...</td>\n",
       "      <td>1.476563</td>\n",
       "      <td>1.502588</td>\n",
       "      <td>1.502588</td>\n",
       "      <td>1.449534</td>\n",
       "      <td>['SPMD', 'PJP', 'XSW', 'SLYG', 'XSD', 'KIE']</td>\n",
       "    </tr>\n",
       "    <tr>\n",
       "      <th>3</th>\n",
       "      <td>3</td>\n",
       "      <td>2016Q4</td>\n",
       "      <td>[0.33, 0.39, 0.0, 0.01, 0.2, 0.08]</td>\n",
       "      <td>[0.02, 0.0, 0.43, 0.01, 0.37, 0.17]</td>\n",
       "      <td>[0.02, 0.0, 0.43, 0.01, 0.37, 0.17]</td>\n",
       "      <td>[0.16666666666666669, 0.16666666666666669, 0.1...</td>\n",
       "      <td>1.620874</td>\n",
       "      <td>1.023583</td>\n",
       "      <td>1.023583</td>\n",
       "      <td>1.641646</td>\n",
       "      <td>['SPMD', 'PJP', 'XSW', 'SLYG', 'XSD', 'KIE']</td>\n",
       "    </tr>\n",
       "    <tr>\n",
       "      <th>4</th>\n",
       "      <td>4</td>\n",
       "      <td>2017Q1</td>\n",
       "      <td>[0.12, 0.2, 0.14, 0.08, 0.2, 0.26]</td>\n",
       "      <td>[0.18, 0.01, 0.03, 0.05, 0.04, 0.69]</td>\n",
       "      <td>[0.18, 0.01, 0.03, 0.05, 0.04, 0.69]</td>\n",
       "      <td>[0.16666666666666669, 0.16666666666666669, 0.1...</td>\n",
       "      <td>1.299512</td>\n",
       "      <td>1.000747</td>\n",
       "      <td>1.000747</td>\n",
       "      <td>1.300860</td>\n",
       "      <td>['SPMD', 'PJP', 'XSW', 'SLYG', 'XSD', 'KIE']</td>\n",
       "    </tr>\n",
       "    <tr>\n",
       "      <th>5</th>\n",
       "      <td>5</td>\n",
       "      <td>2017Q2</td>\n",
       "      <td>[0.06, 0.13, 0.22, 0.16, 0.2, 0.22]</td>\n",
       "      <td>[0.0, 0.22, 0.59, 0.02, 0.14, 0.02]</td>\n",
       "      <td>[0.0, 0.22, 0.59, 0.02, 0.14, 0.02]</td>\n",
       "      <td>[0.16666666666666669, 0.16666666666666669, 0.1...</td>\n",
       "      <td>1.421064</td>\n",
       "      <td>1.116706</td>\n",
       "      <td>1.116706</td>\n",
       "      <td>1.970726</td>\n",
       "      <td>['SPMD', 'PJP', 'XSW', 'SLYG', 'XSD', 'KIE']</td>\n",
       "    </tr>\n",
       "    <tr>\n",
       "      <th>6</th>\n",
       "      <td>6</td>\n",
       "      <td>2017Q3</td>\n",
       "      <td>[0.23, 0.2, 0.04, 0.18, 0.17, 0.19]</td>\n",
       "      <td>[0.02, 0.1, 0.43, 0.0, 0.02, 0.43]</td>\n",
       "      <td>[0.02, 0.1, 0.43, 0.0, 0.02, 0.43]</td>\n",
       "      <td>[0.16666666666666669, 0.16666666666666669, 0.1...</td>\n",
       "      <td>1.943994</td>\n",
       "      <td>1.846470</td>\n",
       "      <td>1.846470</td>\n",
       "      <td>1.408806</td>\n",
       "      <td>['SPMD', 'PJP', 'XSW', 'SLYG', 'XSD', 'KIE']</td>\n",
       "    </tr>\n",
       "    <tr>\n",
       "      <th>7</th>\n",
       "      <td>7</td>\n",
       "      <td>2017Q4</td>\n",
       "      <td>[0.31, 0.13, 0.07, 0.17, 0.12, 0.2]</td>\n",
       "      <td>[0.52, 0.01, 0.29, 0.06, 0.0, 0.12]</td>\n",
       "      <td>[0.52, 0.01, 0.29, 0.06, 0.0, 0.12]</td>\n",
       "      <td>[0.16666666666666669, 0.16666666666666669, 0.1...</td>\n",
       "      <td>2.129647</td>\n",
       "      <td>1.115293</td>\n",
       "      <td>1.115293</td>\n",
       "      <td>1.386472</td>\n",
       "      <td>['SPMD', 'PJP', 'XSW', 'SLYG', 'XSD', 'KIE']</td>\n",
       "    </tr>\n",
       "    <tr>\n",
       "      <th>8</th>\n",
       "      <td>8</td>\n",
       "      <td>2018Q1</td>\n",
       "      <td>[0.23, 0.17, 0.11, 0.2, 0.11, 0.18]</td>\n",
       "      <td>[0.44, 0.01, 0.19, 0.0, 0.01, 0.35]</td>\n",
       "      <td>[0.44, 0.01, 0.19, 0.0, 0.01, 0.35]</td>\n",
       "      <td>[0.16666666666666669, 0.16666666666666669, 0.1...</td>\n",
       "      <td>1.468400</td>\n",
       "      <td>1.018891</td>\n",
       "      <td>1.018891</td>\n",
       "      <td>1.088628</td>\n",
       "      <td>['SPMD', 'PJP', 'XSW', 'SLYG', 'XSD', 'KIE']</td>\n",
       "    </tr>\n",
       "    <tr>\n",
       "      <th>9</th>\n",
       "      <td>9</td>\n",
       "      <td>2018Q2</td>\n",
       "      <td>[0.15, 0.18, 0.14, 0.19, 0.11, 0.22]</td>\n",
       "      <td>[0.13, 0.04, 0.64, 0.05, 0.0, 0.13]</td>\n",
       "      <td>[0.13, 0.04, 0.64, 0.05, 0.0, 0.13]</td>\n",
       "      <td>[0.16666666666666669, 0.16666666666666669, 0.1...</td>\n",
       "      <td>1.404697</td>\n",
       "      <td>1.000151</td>\n",
       "      <td>1.000151</td>\n",
       "      <td>1.070777</td>\n",
       "      <td>['SPMD', 'PJP', 'XSW', 'SLYG', 'XSD', 'KIE']</td>\n",
       "    </tr>\n",
       "    <tr>\n",
       "      <th>10</th>\n",
       "      <td>10</td>\n",
       "      <td>2018Q3</td>\n",
       "      <td>[0.18, 0.18, 0.14, 0.17, 0.05, 0.29]</td>\n",
       "      <td>[0.28, 0.09, 0.02, 0.58, 0.03, 0.0]</td>\n",
       "      <td>[0.28, 0.09, 0.02, 0.58, 0.03, 0.0]</td>\n",
       "      <td>[0.16666666666666669, 0.16666666666666669, 0.1...</td>\n",
       "      <td>1.607650</td>\n",
       "      <td>1.000683</td>\n",
       "      <td>1.000683</td>\n",
       "      <td>1.881578</td>\n",
       "      <td>['SPMD', 'PJP', 'XSW', 'SLYG', 'XSD', 'KIE']</td>\n",
       "    </tr>\n",
       "    <tr>\n",
       "      <th>11</th>\n",
       "      <td>11</td>\n",
       "      <td>2018Q4</td>\n",
       "      <td>[0.14, 0.2, 0.13, 0.19, 0.13, 0.21]</td>\n",
       "      <td>[0.02, 0.07, 0.25, 0.04, 0.01, 0.61]</td>\n",
       "      <td>[0.02, 0.07, 0.25, 0.04, 0.01, 0.61]</td>\n",
       "      <td>[0.16666666666666669, 0.16666666666666669, 0.1...</td>\n",
       "      <td>1.425444</td>\n",
       "      <td>1.073402</td>\n",
       "      <td>1.073402</td>\n",
       "      <td>1.133413</td>\n",
       "      <td>['SPMD', 'PJP', 'XSW', 'SLYG', 'XSD', 'KIE']</td>\n",
       "    </tr>\n",
       "    <tr>\n",
       "      <th>12</th>\n",
       "      <td>12</td>\n",
       "      <td>2019Q1</td>\n",
       "      <td>[0.14, 0.18, 0.15, 0.16, 0.13, 0.23]</td>\n",
       "      <td>[0.05, 0.01, 0.02, 0.06, 0.8, 0.06]</td>\n",
       "      <td>[0.05, 0.01, 0.02, 0.06, 0.8, 0.06]</td>\n",
       "      <td>[0.16666666666666669, 0.16666666666666669, 0.1...</td>\n",
       "      <td>2.073348</td>\n",
       "      <td>1.000015</td>\n",
       "      <td>1.000015</td>\n",
       "      <td>1.969673</td>\n",
       "      <td>['SPMD', 'PJP', 'XSW', 'SLYG', 'XSD', 'KIE']</td>\n",
       "    </tr>\n",
       "    <tr>\n",
       "      <th>13</th>\n",
       "      <td>13</td>\n",
       "      <td>2019Q2</td>\n",
       "      <td>[0.12, 0.15, 0.17, 0.15, 0.14, 0.28]</td>\n",
       "      <td>[0.03, 0.01, 0.44, 0.0, 0.11, 0.4]</td>\n",
       "      <td>[0.03, 0.01, 0.44, 0.0, 0.11, 0.4]</td>\n",
       "      <td>[0.16666666666666669, 0.16666666666666669, 0.1...</td>\n",
       "      <td>1.695858</td>\n",
       "      <td>1.255720</td>\n",
       "      <td>1.255720</td>\n",
       "      <td>1.277914</td>\n",
       "      <td>['SPMD', 'PJP', 'XSW', 'SLYG', 'XSD', 'KIE']</td>\n",
       "    </tr>\n",
       "    <tr>\n",
       "      <th>14</th>\n",
       "      <td>14</td>\n",
       "      <td>2019Q3</td>\n",
       "      <td>[0.2, 0.13, 0.15, 0.2, 0.07, 0.25]</td>\n",
       "      <td>[0.11, 0.01, 0.02, 0.11, 0.07, 0.67]</td>\n",
       "      <td>[0.11, 0.01, 0.02, 0.11, 0.07, 0.67]</td>\n",
       "      <td>[0.16666666666666669, 0.16666666666666669, 0.1...</td>\n",
       "      <td>1.206594</td>\n",
       "      <td>1.001208</td>\n",
       "      <td>1.001208</td>\n",
       "      <td>1.207668</td>\n",
       "      <td>['SPMD', 'PJP', 'XSW', 'SLYG', 'XSD', 'KIE']</td>\n",
       "    </tr>\n",
       "    <tr>\n",
       "      <th>15</th>\n",
       "      <td>15</td>\n",
       "      <td>2019Q4</td>\n",
       "      <td>[0.16, 0.2, 0.18, 0.13, 0.13, 0.19]</td>\n",
       "      <td>[0.0, 0.0, 0.1, 0.03, 0.47, 0.4]</td>\n",
       "      <td>[0.0, 0.0, 0.1, 0.03, 0.47, 0.4]</td>\n",
       "      <td>[0.16666666666666669, 0.16666666666666669, 0.1...</td>\n",
       "      <td>2.150008</td>\n",
       "      <td>1.005579</td>\n",
       "      <td>1.005579</td>\n",
       "      <td>1.543720</td>\n",
       "      <td>['SPMD', 'PJP', 'XSW', 'SLYG', 'XSD', 'KIE']</td>\n",
       "    </tr>\n",
       "    <tr>\n",
       "      <th>16</th>\n",
       "      <td>16</td>\n",
       "      <td>2020Q1</td>\n",
       "      <td>[0.14, 0.19, 0.16, 0.21, 0.13, 0.17]</td>\n",
       "      <td>[0.14, 0.64, 0.06, 0.02, 0.14, 0.01]</td>\n",
       "      <td>[0.14, 0.64, 0.06, 0.02, 0.14, 0.01]</td>\n",
       "      <td>[0.16666666666666669, 0.16666666666666669, 0.1...</td>\n",
       "      <td>1.020172</td>\n",
       "      <td>1.047600</td>\n",
       "      <td>1.047600</td>\n",
       "      <td>1.014097</td>\n",
       "      <td>['SPMD', 'PJP', 'XSW', 'SLYG', 'XSD', 'KIE']</td>\n",
       "    </tr>\n",
       "    <tr>\n",
       "      <th>17</th>\n",
       "      <td>17</td>\n",
       "      <td>2020Q2</td>\n",
       "      <td>[0.15, 0.36, 0.14, 0.11, 0.13, 0.11]</td>\n",
       "      <td>[0.07, 0.01, 0.38, 0.03, 0.49, 0.01]</td>\n",
       "      <td>[0.07, 0.01, 0.38, 0.03, 0.49, 0.01]</td>\n",
       "      <td>[0.16666666666666669, 0.16666666666666669, 0.1...</td>\n",
       "      <td>1.851626</td>\n",
       "      <td>1.001767</td>\n",
       "      <td>1.001767</td>\n",
       "      <td>1.037649</td>\n",
       "      <td>['SPMD', 'PJP', 'XSW', 'SLYG', 'XSD', 'KIE']</td>\n",
       "    </tr>\n",
       "    <tr>\n",
       "      <th>18</th>\n",
       "      <td>18</td>\n",
       "      <td>2020Q3</td>\n",
       "      <td>[0.08, 0.36, 0.18, 0.13, 0.11, 0.15]</td>\n",
       "      <td>[0.02, 0.53, 0.41, 0.02, 0.0, 0.02]</td>\n",
       "      <td>[0.02, 0.53, 0.41, 0.02, 0.0, 0.02]</td>\n",
       "      <td>[0.16666666666666669, 0.16666666666666669, 0.1...</td>\n",
       "      <td>1.556606</td>\n",
       "      <td>1.172697</td>\n",
       "      <td>1.172697</td>\n",
       "      <td>1.741850</td>\n",
       "      <td>['SPMD', 'PJP', 'XSW', 'SLYG', 'XSD', 'KIE']</td>\n",
       "    </tr>\n",
       "    <tr>\n",
       "      <th>19</th>\n",
       "      <td>19</td>\n",
       "      <td>2020Q4</td>\n",
       "      <td>[0.13, 0.27, 0.15, 0.11, 0.15, 0.18]</td>\n",
       "      <td>[0.03, 0.02, 0.01, 0.0, 0.84, 0.1]</td>\n",
       "      <td>[0.03, 0.02, 0.01, 0.0, 0.84, 0.1]</td>\n",
       "      <td>[0.16666666666666669, 0.16666666666666669, 0.1...</td>\n",
       "      <td>1.931135</td>\n",
       "      <td>1.000211</td>\n",
       "      <td>1.000211</td>\n",
       "      <td>1.631524</td>\n",
       "      <td>['SPMD', 'PJP', 'XSW', 'SLYG', 'XSD', 'KIE']</td>\n",
       "    </tr>\n",
       "  </tbody>\n",
       "</table>\n",
       "</div>"
      ],
      "text/plain": [
       "    Unnamed: 0  Period                                    Weights Max PDI  \\\n",
       "0            0  2016Q1  [0.16666667 0.16666667 0.16666667 0.16666667 0...   \n",
       "1            1  2016Q2                [0.18, 0.18, 0.13, 0.18, 0.12, 0.2]   \n",
       "2            2  2016Q3               [0.15, 0.17, 0.22, 0.09, 0.14, 0.23]   \n",
       "3            3  2016Q4                 [0.33, 0.39, 0.0, 0.01, 0.2, 0.08]   \n",
       "4            4  2017Q1                 [0.12, 0.2, 0.14, 0.08, 0.2, 0.26]   \n",
       "5            5  2017Q2                [0.06, 0.13, 0.22, 0.16, 0.2, 0.22]   \n",
       "6            6  2017Q3                [0.23, 0.2, 0.04, 0.18, 0.17, 0.19]   \n",
       "7            7  2017Q4                [0.31, 0.13, 0.07, 0.17, 0.12, 0.2]   \n",
       "8            8  2018Q1                [0.23, 0.17, 0.11, 0.2, 0.11, 0.18]   \n",
       "9            9  2018Q2               [0.15, 0.18, 0.14, 0.19, 0.11, 0.22]   \n",
       "10          10  2018Q3               [0.18, 0.18, 0.14, 0.17, 0.05, 0.29]   \n",
       "11          11  2018Q4                [0.14, 0.2, 0.13, 0.19, 0.13, 0.21]   \n",
       "12          12  2019Q1               [0.14, 0.18, 0.15, 0.16, 0.13, 0.23]   \n",
       "13          13  2019Q2               [0.12, 0.15, 0.17, 0.15, 0.14, 0.28]   \n",
       "14          14  2019Q3                 [0.2, 0.13, 0.15, 0.2, 0.07, 0.25]   \n",
       "15          15  2019Q4                [0.16, 0.2, 0.18, 0.13, 0.13, 0.19]   \n",
       "16          16  2020Q1               [0.14, 0.19, 0.16, 0.21, 0.13, 0.17]   \n",
       "17          17  2020Q2               [0.15, 0.36, 0.14, 0.11, 0.13, 0.11]   \n",
       "18          18  2020Q3               [0.08, 0.36, 0.18, 0.13, 0.11, 0.15]   \n",
       "19          19  2020Q4               [0.13, 0.27, 0.15, 0.11, 0.15, 0.18]   \n",
       "\n",
       "                                   Weights max sharpe  \\\n",
       "0   [0.16666667 0.16666667 0.16666667 0.16666667 0...   \n",
       "1                 [0.06, 0.01, 0.0, 0.09, 0.58, 0.27]   \n",
       "2                  [0.06, 0.5, 0.41, 0.0, 0.01, 0.02]   \n",
       "3                 [0.02, 0.0, 0.43, 0.01, 0.37, 0.17]   \n",
       "4                [0.18, 0.01, 0.03, 0.05, 0.04, 0.69]   \n",
       "5                 [0.0, 0.22, 0.59, 0.02, 0.14, 0.02]   \n",
       "6                  [0.02, 0.1, 0.43, 0.0, 0.02, 0.43]   \n",
       "7                 [0.52, 0.01, 0.29, 0.06, 0.0, 0.12]   \n",
       "8                 [0.44, 0.01, 0.19, 0.0, 0.01, 0.35]   \n",
       "9                 [0.13, 0.04, 0.64, 0.05, 0.0, 0.13]   \n",
       "10                [0.28, 0.09, 0.02, 0.58, 0.03, 0.0]   \n",
       "11               [0.02, 0.07, 0.25, 0.04, 0.01, 0.61]   \n",
       "12                [0.05, 0.01, 0.02, 0.06, 0.8, 0.06]   \n",
       "13                 [0.03, 0.01, 0.44, 0.0, 0.11, 0.4]   \n",
       "14               [0.11, 0.01, 0.02, 0.11, 0.07, 0.67]   \n",
       "15                   [0.0, 0.0, 0.1, 0.03, 0.47, 0.4]   \n",
       "16               [0.14, 0.64, 0.06, 0.02, 0.14, 0.01]   \n",
       "17               [0.07, 0.01, 0.38, 0.03, 0.49, 0.01]   \n",
       "18                [0.02, 0.53, 0.41, 0.02, 0.0, 0.02]   \n",
       "19                 [0.03, 0.02, 0.01, 0.0, 0.84, 0.1]   \n",
       "\n",
       "                           Weights max sharpe -PDI >2  \\\n",
       "0   [0.16666667 0.16666667 0.16666667 0.16666667 0...   \n",
       "1                 [0.06, 0.01, 0.0, 0.09, 0.58, 0.27]   \n",
       "2                  [0.06, 0.5, 0.41, 0.0, 0.01, 0.02]   \n",
       "3                 [0.02, 0.0, 0.43, 0.01, 0.37, 0.17]   \n",
       "4                [0.18, 0.01, 0.03, 0.05, 0.04, 0.69]   \n",
       "5                 [0.0, 0.22, 0.59, 0.02, 0.14, 0.02]   \n",
       "6                  [0.02, 0.1, 0.43, 0.0, 0.02, 0.43]   \n",
       "7                 [0.52, 0.01, 0.29, 0.06, 0.0, 0.12]   \n",
       "8                 [0.44, 0.01, 0.19, 0.0, 0.01, 0.35]   \n",
       "9                 [0.13, 0.04, 0.64, 0.05, 0.0, 0.13]   \n",
       "10                [0.28, 0.09, 0.02, 0.58, 0.03, 0.0]   \n",
       "11               [0.02, 0.07, 0.25, 0.04, 0.01, 0.61]   \n",
       "12                [0.05, 0.01, 0.02, 0.06, 0.8, 0.06]   \n",
       "13                 [0.03, 0.01, 0.44, 0.0, 0.11, 0.4]   \n",
       "14               [0.11, 0.01, 0.02, 0.11, 0.07, 0.67]   \n",
       "15                   [0.0, 0.0, 0.1, 0.03, 0.47, 0.4]   \n",
       "16               [0.14, 0.64, 0.06, 0.02, 0.14, 0.01]   \n",
       "17               [0.07, 0.01, 0.38, 0.03, 0.49, 0.01]   \n",
       "18                [0.02, 0.53, 0.41, 0.02, 0.0, 0.02]   \n",
       "19                 [0.03, 0.02, 0.01, 0.0, 0.84, 0.1]   \n",
       "\n",
       "                                        Weights equal  Weights max PDI - PDI  \\\n",
       "0   [0.16666667 0.16666667 0.16666667 0.16666667 0...               1.251329   \n",
       "1   [0.16666666666666669, 0.16666666666666669, 0.1...               1.710153   \n",
       "2   [0.16666666666666669, 0.16666666666666669, 0.1...               1.476563   \n",
       "3   [0.16666666666666669, 0.16666666666666669, 0.1...               1.620874   \n",
       "4   [0.16666666666666669, 0.16666666666666669, 0.1...               1.299512   \n",
       "5   [0.16666666666666669, 0.16666666666666669, 0.1...               1.421064   \n",
       "6   [0.16666666666666669, 0.16666666666666669, 0.1...               1.943994   \n",
       "7   [0.16666666666666669, 0.16666666666666669, 0.1...               2.129647   \n",
       "8   [0.16666666666666669, 0.16666666666666669, 0.1...               1.468400   \n",
       "9   [0.16666666666666669, 0.16666666666666669, 0.1...               1.404697   \n",
       "10  [0.16666666666666669, 0.16666666666666669, 0.1...               1.607650   \n",
       "11  [0.16666666666666669, 0.16666666666666669, 0.1...               1.425444   \n",
       "12  [0.16666666666666669, 0.16666666666666669, 0.1...               2.073348   \n",
       "13  [0.16666666666666669, 0.16666666666666669, 0.1...               1.695858   \n",
       "14  [0.16666666666666669, 0.16666666666666669, 0.1...               1.206594   \n",
       "15  [0.16666666666666669, 0.16666666666666669, 0.1...               2.150008   \n",
       "16  [0.16666666666666669, 0.16666666666666669, 0.1...               1.020172   \n",
       "17  [0.16666666666666669, 0.16666666666666669, 0.1...               1.851626   \n",
       "18  [0.16666666666666669, 0.16666666666666669, 0.1...               1.556606   \n",
       "19  [0.16666666666666669, 0.16666666666666669, 0.1...               1.931135   \n",
       "\n",
       "    Weights max sharpe - PDI  Weights max sharpe - PDI >2 - PDI  \\\n",
       "0                   1.251329                           1.251329   \n",
       "1                   1.006386                           1.006386   \n",
       "2                   1.502588                           1.502588   \n",
       "3                   1.023583                           1.023583   \n",
       "4                   1.000747                           1.000747   \n",
       "5                   1.116706                           1.116706   \n",
       "6                   1.846470                           1.846470   \n",
       "7                   1.115293                           1.115293   \n",
       "8                   1.018891                           1.018891   \n",
       "9                   1.000151                           1.000151   \n",
       "10                  1.000683                           1.000683   \n",
       "11                  1.073402                           1.073402   \n",
       "12                  1.000015                           1.000015   \n",
       "13                  1.255720                           1.255720   \n",
       "14                  1.001208                           1.001208   \n",
       "15                  1.005579                           1.005579   \n",
       "16                  1.047600                           1.047600   \n",
       "17                  1.001767                           1.001767   \n",
       "18                  1.172697                           1.172697   \n",
       "19                  1.000211                           1.000211   \n",
       "\n",
       "    Weights equal - PDI                                        Assets  \n",
       "0              1.251329  ['SPMD', 'PJP', 'XSW', 'SLYG', 'XSD', 'KIE']  \n",
       "1              1.826106  ['SPMD', 'PJP', 'XSW', 'SLYG', 'XSD', 'KIE']  \n",
       "2              1.449534  ['SPMD', 'PJP', 'XSW', 'SLYG', 'XSD', 'KIE']  \n",
       "3              1.641646  ['SPMD', 'PJP', 'XSW', 'SLYG', 'XSD', 'KIE']  \n",
       "4              1.300860  ['SPMD', 'PJP', 'XSW', 'SLYG', 'XSD', 'KIE']  \n",
       "5              1.970726  ['SPMD', 'PJP', 'XSW', 'SLYG', 'XSD', 'KIE']  \n",
       "6              1.408806  ['SPMD', 'PJP', 'XSW', 'SLYG', 'XSD', 'KIE']  \n",
       "7              1.386472  ['SPMD', 'PJP', 'XSW', 'SLYG', 'XSD', 'KIE']  \n",
       "8              1.088628  ['SPMD', 'PJP', 'XSW', 'SLYG', 'XSD', 'KIE']  \n",
       "9              1.070777  ['SPMD', 'PJP', 'XSW', 'SLYG', 'XSD', 'KIE']  \n",
       "10             1.881578  ['SPMD', 'PJP', 'XSW', 'SLYG', 'XSD', 'KIE']  \n",
       "11             1.133413  ['SPMD', 'PJP', 'XSW', 'SLYG', 'XSD', 'KIE']  \n",
       "12             1.969673  ['SPMD', 'PJP', 'XSW', 'SLYG', 'XSD', 'KIE']  \n",
       "13             1.277914  ['SPMD', 'PJP', 'XSW', 'SLYG', 'XSD', 'KIE']  \n",
       "14             1.207668  ['SPMD', 'PJP', 'XSW', 'SLYG', 'XSD', 'KIE']  \n",
       "15             1.543720  ['SPMD', 'PJP', 'XSW', 'SLYG', 'XSD', 'KIE']  \n",
       "16             1.014097  ['SPMD', 'PJP', 'XSW', 'SLYG', 'XSD', 'KIE']  \n",
       "17             1.037649  ['SPMD', 'PJP', 'XSW', 'SLYG', 'XSD', 'KIE']  \n",
       "18             1.741850  ['SPMD', 'PJP', 'XSW', 'SLYG', 'XSD', 'KIE']  \n",
       "19             1.631524  ['SPMD', 'PJP', 'XSW', 'SLYG', 'XSD', 'KIE']  "
      ]
     },
     "execution_count": 104,
     "metadata": {},
     "output_type": "execute_result"
    }
   ],
   "source": [
    "etf_1_w"
   ]
  },
  {
   "cell_type": "code",
   "execution_count": 24,
   "metadata": {},
   "outputs": [],
   "source": [
    "etf_c_1_w = pd.read_csv(\"MST_num_crypto_1_Sharpe Ratio_weights.csv\")\r\n",
    "etf_c_2_w = pd.read_csv(\"MST_num_crypto_2_Sharpe Ratio_weights.csv\")\r\n",
    "etf_1_w = pd.read_csv(\"MST_FIXED_weights_1_Sharpe Ratio_weights.csv\")\r\n",
    "etf_1_w = etf_1_w.rename(columns={\"Weights max PDI\":\"Weights Max PDI\"})\r\n",
    "#etf_c_1 = etf_c_1.set_index(\"Time\").drop(columns=[\"Unnamed: 0\"])\r\n",
    "etf_c_1_w = etf_c_1_w.add_suffix('_1_Crypto')\r\n",
    "etf_c_2_w = etf_c_2_w.add_suffix('_2_Crypto')\r\n",
    "#etf_1 = etf_1.set_index(\"Time\").drop(columns=[\"Unnamed: 0\"])\r\n",
    "g_1 = etf_c_1_w[[\"Period_1_Crypto\",\"Weights Max Sharpe_1_Crypto\",\"Assets_1_Crypto\"]]\r\n",
    "g_2 = etf_c_2_w[[\"Period_2_Crypto\",\"Weights Max Sharpe_2_Crypto\",\"Assets_2_Crypto\"]]\r\n",
    "g_0 = etf_1_w[[\"Period\",\"Weights max sharpe\",\"Assets\"]]\r\n",
    "pe_list = []\r\n",
    "we_list = []\r\n",
    "ass_list = []\r\n",
    "for idx in g_1.index:\r\n",
    "    if idx == 0:\r\n",
    "        pe = g_1[\"Period_1_Crypto\"][idx]\r\n",
    "        w_new = g_1[\"Weights Max Sharpe_1_Crypto\"][idx].replace(\" \", \",\")\r\n",
    "        we = ast.literal_eval(w_new)\r\n",
    "        ass = ast.literal_eval(g_1[\"Assets_1_Crypto\"][idx])\r\n",
    "        for i in range(0,len(we)):\r\n",
    "            pe_list.append(pe)\r\n",
    "        we_list.extend(we)\r\n",
    "        ass_list.extend(ass)\r\n",
    "    else:\r\n",
    "        pe = g_1[\"Period_1_Crypto\"][idx]\r\n",
    "        we = ast.literal_eval(g_1[\"Weights Max Sharpe_1_Crypto\"][idx])\r\n",
    "        ass = ast.literal_eval(g_1[\"Assets_1_Crypto\"][idx])\r\n",
    "        for i in range(0,len(we)):\r\n",
    "            pe_list.append(pe)\r\n",
    "        we_list.extend(we)\r\n",
    "        ass_list.extend(ass)\r\n",
    "test = pd.DataFrame()\r\n",
    "test[\"periods\"] = pe_list\r\n",
    "test[\"weights\"] = we_list\r\n",
    "test[\"assets\"] = ass_list\r\n",
    "test[\"weights\"] = test[\"weights\"]\r\n",
    "\r\n",
    "fig = px.bar(test, x=\"periods\", y=\"weights\", color=\"assets\", text=\"assets\")\r\n",
    "fig.update_yaxes(title = \"Weighted Allocation in Portfolio\")\r\n",
    "fig.update_xaxes(title = \"Period of Allocation\")\r\n",
    "fig.update_layout(showlegend = False, width = 800,height=500)\r\n",
    "fig.show()\r\n",
    "\r\n",
    "pe_list = []\r\n",
    "we_list = []\r\n",
    "ass_list = []\r\n",
    "for idx in g_0.index:\r\n",
    "    if idx == 0:\r\n",
    "        pe = g_0[\"Period\"][idx]\r\n",
    "        w_new = g_0[\"Weights max sharpe\"][idx].replace(\" \", \",\")\r\n",
    "        we = ast.literal_eval(w_new)\r\n",
    "        ass = ast.literal_eval(g_0[\"Assets\"][idx])\r\n",
    "        for i in range(0,len(we)):\r\n",
    "            pe_list.append(pe)\r\n",
    "        we_list.extend(we)\r\n",
    "        ass_list.extend(ass)\r\n",
    "    else:\r\n",
    "        pe = g_0[\"Period\"][idx]\r\n",
    "        we = ast.literal_eval(g_0[\"Weights max sharpe\"][idx])\r\n",
    "        ass = ast.literal_eval(g_0[\"Assets\"][idx])\r\n",
    "        for i in range(0,len(we)):\r\n",
    "            pe_list.append(pe)\r\n",
    "        we_list.extend(we)\r\n",
    "        ass_list.extend(ass)\r\n",
    "    \r\n",
    "test = pd.DataFrame()\r\n",
    "test[\"periods\"] = pe_list\r\n",
    "test[\"weights\"] = we_list\r\n",
    "test[\"assets\"] = ass_list\r\n",
    "test[\"weights\"] = test[\"weights\"]\r\n",
    "\r\n",
    "fig = px.bar(test, x=\"periods\", y=\"weights\", color=\"assets\", text=\"assets\")\r\n",
    "fig.update_yaxes(title = \"Weighted Allocation in Portfolio\")\r\n",
    "fig.update_xaxes(title = \"Period of Allocation\")\r\n",
    "fig.update_layout(showlegend = False, width = 800,height=500)\r\n",
    "fig.show()\r\n",
    "\r\n",
    "pe_list = []\r\n",
    "we_list = []\r\n",
    "ass_list = []\r\n",
    "for idx in g_2.index:\r\n",
    "    if idx == 0:\r\n",
    "        pe = g_2[\"Period_2_Crypto\"][idx]\r\n",
    "        w_new = g_2[\"Weights Max Sharpe_2_Crypto\"][idx].replace(\" \", \",\")\r\n",
    "        we = ast.literal_eval(w_new)\r\n",
    "        ass = ast.literal_eval(g_2[\"Assets_2_Crypto\"][idx])\r\n",
    "        for i in range(0,len(we)):\r\n",
    "            pe_list.append(pe)\r\n",
    "        we_list.extend(we)\r\n",
    "        ass_list.extend(ass)\r\n",
    "    else:\r\n",
    "        pe = g_2[\"Period_2_Crypto\"][idx]\r\n",
    "        we = ast.literal_eval(g_2[\"Weights Max Sharpe_2_Crypto\"][idx])\r\n",
    "        ass = ast.literal_eval(g_2[\"Assets_2_Crypto\"][idx])\r\n",
    "        for i in range(0,len(we)):\r\n",
    "            pe_list.append(pe)\r\n",
    "        we_list.extend(we)\r\n",
    "        ass_list.extend(ass)\r\n",
    "test = pd.DataFrame()\r\n",
    "test[\"periods\"] = pe_list\r\n",
    "test[\"weights\"] = we_list\r\n",
    "test[\"assets\"] = ass_list\r\n",
    "test[\"weights\"] = test[\"weights\"]\r\n",
    "\r\n",
    "fig = px.bar(test, x=\"periods\", y=\"weights\", color=\"assets\", text=\"assets\")\r\n",
    "fig.update_yaxes(title = \"Weighted Allocation in Portfolio\")\r\n",
    "fig.update_xaxes(title = \"Period of Allocation\")\r\n",
    "fig.update_layout(showlegend = False, width = 800,height=500)\r\n",
    "fig.show()"
   ]
  },
  {
   "cell_type": "code",
   "execution_count": null,
   "metadata": {},
   "outputs": [],
   "source": []
  },
  {
   "cell_type": "code",
   "execution_count": 40,
   "metadata": {},
   "outputs": [
    {
     "name": "stdout",
     "output_type": "stream",
     "text": [
      "   Period                                    Weights Max PDI  \\\n",
      "0  2015Q1  [0.16666666666666666, 0.16666666666666666, 0.1...   \n",
      "1  2015Q2                 [0.2, 0.21, 0.22, 0.15, 0.22, 0.0]   \n",
      "2  2015Q3                [0.12, 0.3, 0.42, 0.09, 0.04, 0.03]   \n",
      "3  2015Q4               [0.01, 0.36, 0.12, 0.26, 0.22, 0.04]   \n",
      "4  2016Q1                [0.15, 0.19, 0.19, 0.18, 0.29, 0.0]   \n",
      "5  2016Q2               [0.03, 0.31, 0.11, 0.01, 0.51, 0.03]   \n",
      "6  2016Q3               [0.12, 0.18, 0.12, 0.26, 0.31, 0.01]   \n",
      "7  2016Q4               [0.03, 0.34, 0.03, 0.49, 0.08, 0.04]   \n",
      "8  2017Q1                [0.14, 0.23, 0.09, 0.25, 0.29, 0.0]   \n",
      "9  2017Q2               [0.31, 0.35, 0.03, 0.24, 0.05, 0.02]   \n",
      "10 2017Q3                 [0.21, 0.13, 0.22, 0.2, 0.23, 0.0]   \n",
      "11 2017Q4               [0.07, 0.22, 0.17, 0.31, 0.21, 0.01]   \n",
      "12 2018Q1                 [0.06, 0.09, 0.27, 0.2, 0.37, 0.0]   \n",
      "13 2018Q2                [0.22, 0.01, 0.0, 0.19, 0.53, 0.05]   \n",
      "14 2018Q3               [0.02, 0.42, 0.09, 0.16, 0.26, 0.05]   \n",
      "15 2018Q4               [0.24, 0.24, 0.07, 0.02, 0.39, 0.05]   \n",
      "16 2019Q1                 [0.3, 0.06, 0.08, 0.03, 0.42, 0.1]   \n",
      "17 2019Q2                [0.13, 0.19, 0.14, 0.22, 0.3, 0.01]   \n",
      "18 2019Q3                [0.19, 0.14, 0.1, 0.21, 0.35, 0.01]   \n",
      "19 2019Q4               [0.25, 0.13, 0.08, 0.25, 0.22, 0.06]   \n",
      "20 2020Q1               [0.26, 0.17, 0.18, 0.18, 0.15, 0.06]   \n",
      "21 2020Q2               [0.14, 0.15, 0.17, 0.34, 0.14, 0.07]   \n",
      "22 2020Q3               [0.01, 0.01, 0.42, 0.38, 0.02, 0.16]   \n",
      "23 2020Q4                 [0.31, 0.02, 0.0, 0.17, 0.41, 0.1]   \n",
      "\n",
      "                                   Weights Max Sharpe  \\\n",
      "0   [0.16666666666666666, 0.16666666666666666, 0.1...   \n",
      "1                [0.02, 0.02, 0.08, 0.11, 0.05, 0.72]   \n",
      "2                [0.53, 0.14, 0.03, 0.01, 0.27, 0.02]   \n",
      "3                [0.05, 0.02, 0.06, 0.03, 0.35, 0.49]   \n",
      "4                [0.02, 0.72, 0.01, 0.07, 0.15, 0.03]   \n",
      "5                 [0.11, 0.11, 0.09, 0.0, 0.03, 0.66]   \n",
      "6                  [0.51, 0.0, 0.11, 0.33, 0.05, 0.0]   \n",
      "7                 [0.22, 0.59, 0.06, 0.0, 0.11, 0.01]   \n",
      "8                [0.03, 0.33, 0.08, 0.02, 0.51, 0.03]   \n",
      "9                 [0.02, 0.05, 0.01, 0.07, 0.1, 0.75]   \n",
      "10                [0.07, 0.13, 0.01, 0.1, 0.09, 0.61]   \n",
      "11                [0.1, 0.08, 0.05, 0.05, 0.02, 0.69]   \n",
      "12               [0.22, 0.05, 0.04, 0.01, 0.01, 0.67]   \n",
      "13                [0.54, 0.08, 0.07, 0.08, 0.23, 0.0]   \n",
      "14                 [0.1, 0.08, 0.47, 0.34, 0.0, 0.01]   \n",
      "15               [0.37, 0.03, 0.03, 0.08, 0.48, 0.01]   \n",
      "16               [0.04, 0.11, 0.05, 0.02, 0.01, 0.76]   \n",
      "17                 [0.37, 0.26, 0.0, 0.02, 0.25, 0.1]   \n",
      "18                 [0.16, 0.17, 0.02, 0.0, 0.64, 0.0]   \n",
      "19                 [0.1, 0.37, 0.09, 0.03, 0.41, 0.0]   \n",
      "20                [0.08, 0.08, 0.03, 0.62, 0.0, 0.19]   \n",
      "21               [0.04, 0.02, 0.22, 0.02, 0.01, 0.69]   \n",
      "22               [0.15, 0.01, 0.08, 0.09, 0.04, 0.63]   \n",
      "23               [0.11, 0.62, 0.16, 0.01, 0.09, 0.02]   \n",
      "\n",
      "                           Weights Max Sharpe - PDI 2  \\\n",
      "0   [0.16666666666666666, 0.16666666666666666, 0.1...   \n",
      "1                 [0.48, 0.41, 0.0, 0.05, 0.05, 0.01]   \n",
      "2                [0.34, 0.28, 0.02, 0.11, 0.22, 0.02]   \n",
      "3                [0.06, 0.34, 0.07, 0.23, 0.26, 0.04]   \n",
      "4                [0.02, 0.72, 0.01, 0.07, 0.15, 0.03]   \n",
      "5                 [0.11, 0.11, 0.09, 0.0, 0.03, 0.66]   \n",
      "6                [0.23, 0.09, 0.06, 0.28, 0.34, 0.01]   \n",
      "7                [0.24, 0.19, 0.02, 0.27, 0.25, 0.02]   \n",
      "8                [0.03, 0.33, 0.08, 0.02, 0.51, 0.03]   \n",
      "9                [0.34, 0.35, 0.04, 0.19, 0.05, 0.02]   \n",
      "10                 [0.31, 0.13, 0.05, 0.21, 0.3, 0.0]   \n",
      "11               [0.36, 0.01, 0.07, 0.22, 0.32, 0.01]   \n",
      "12                 [0.14, 0.14, 0.26, 0.2, 0.26, 0.0]   \n",
      "13                [0.54, 0.08, 0.07, 0.08, 0.23, 0.0]   \n",
      "14                 [0.1, 0.08, 0.47, 0.34, 0.0, 0.01]   \n",
      "15                [0.19, 0.0, 0.29, 0.11, 0.38, 0.03]   \n",
      "16                 [0.3, 0.06, 0.08, 0.03, 0.42, 0.1]   \n",
      "17                 [0.37, 0.26, 0.0, 0.02, 0.25, 0.1]   \n",
      "18               [0.28, 0.16, 0.08, 0.02, 0.43, 0.02]   \n",
      "19                 [0.2, 0.16, 0.1, 0.21, 0.29, 0.05]   \n",
      "20               [0.04, 0.31, 0.19, 0.34, 0.01, 0.11]   \n",
      "21               [0.04, 0.02, 0.22, 0.02, 0.01, 0.69]   \n",
      "22               [0.15, 0.01, 0.08, 0.09, 0.04, 0.63]   \n",
      "23                 [0.31, 0.02, 0.0, 0.17, 0.41, 0.1]   \n",
      "\n",
      "                                        Weights Equal  \\\n",
      "0   [0.16666666666666666, 0.16666666666666666, 0.1...   \n",
      "1   [0.16666666666666669, 0.16666666666666669, 0.1...   \n",
      "2   [0.16666666666666669, 0.16666666666666669, 0.1...   \n",
      "3   [0.16666666666666669, 0.16666666666666669, 0.1...   \n",
      "4   [0.16666666666666669, 0.16666666666666669, 0.1...   \n",
      "5   [0.16666666666666669, 0.16666666666666669, 0.1...   \n",
      "6   [0.16666666666666669, 0.16666666666666669, 0.1...   \n",
      "7   [0.16666666666666669, 0.16666666666666669, 0.1...   \n",
      "8   [0.16666666666666669, 0.16666666666666669, 0.1...   \n",
      "9   [0.16666666666666669, 0.16666666666666669, 0.1...   \n",
      "10  [0.16666666666666669, 0.16666666666666669, 0.1...   \n",
      "11  [0.16666666666666669, 0.16666666666666669, 0.1...   \n",
      "12  [0.16666666666666669, 0.16666666666666669, 0.1...   \n",
      "13  [0.16666666666666669, 0.16666666666666669, 0.1...   \n",
      "14  [0.16666666666666669, 0.16666666666666669, 0.1...   \n",
      "15  [0.16666666666666669, 0.16666666666666669, 0.1...   \n",
      "16  [0.16666666666666669, 0.16666666666666669, 0.1...   \n",
      "17  [0.16666666666666669, 0.16666666666666669, 0.1...   \n",
      "18  [0.16666666666666669, 0.16666666666666669, 0.1...   \n",
      "19  [0.16666666666666669, 0.16666666666666669, 0.1...   \n",
      "20  [0.16666666666666669, 0.16666666666666669, 0.1...   \n",
      "21  [0.16666666666666669, 0.16666666666666669, 0.1...   \n",
      "22  [0.16666666666666669, 0.16666666666666669, 0.1...   \n",
      "23  [0.16666666666666669, 0.16666666666666669, 0.1...   \n",
      "\n",
      "    Weights Max PDI - PDI Rolling 52  Weights Max sharpe - PDI Rolling 52  \\\n",
      "0                           1.529137                             1.529137   \n",
      "1                           2.078954                             1.000000   \n",
      "2                           2.232402                             1.119439   \n",
      "3                           2.159629                             1.000023   \n",
      "4                           1.668360                             1.138061   \n",
      "5                           1.716729                             1.000000   \n",
      "6                           2.182956                             1.277325   \n",
      "7                           2.665654                             1.003350   \n",
      "8                           1.756995                             1.174105   \n",
      "9                           2.506767                             1.000000   \n",
      "10                          2.581464                             1.000000   \n",
      "11                          2.530990                             1.000000   \n",
      "12                          2.222710                             1.000000   \n",
      "13                          1.767276                             1.006753   \n",
      "14                          1.976205                             1.065730   \n",
      "15                          2.404862                             1.374012   \n",
      "16                          2.033122                             1.000018   \n",
      "17                          1.956275                             1.274271   \n",
      "18                          2.763232                             1.451702   \n",
      "19                          2.347605                             1.033815   \n",
      "20                          2.301009                             1.301014   \n",
      "21                          1.926116                             1.000070   \n",
      "22                          1.582197                             1.000030   \n",
      "23                          2.038073                             1.001128   \n",
      "\n",
      "    Weights Max Sharpe - PDI 2 Rolling 52  Weights equal - PDI  \\\n",
      "0                                1.529137             1.529137   \n",
      "1                                2.025496             1.000524   \n",
      "2                                2.039590             1.001057   \n",
      "3                                2.036506             1.000109   \n",
      "4                                1.138061             1.000045   \n",
      "5                                1.000000             1.000106   \n",
      "6                                2.038134             1.000803   \n",
      "7                                2.037250             1.002146   \n",
      "8                                1.174105             1.000045   \n",
      "9                                2.248899             1.000000   \n",
      "10                               2.384668             1.000014   \n",
      "11                               2.052979             1.000000   \n",
      "12                               2.130615             1.001245   \n",
      "13                               1.006753             1.000427   \n",
      "14                               1.065730             1.005813   \n",
      "15                               2.169201             1.026134   \n",
      "16                               2.033122             1.029515   \n",
      "17                               1.274271             1.001517   \n",
      "18                               2.356877             1.010824   \n",
      "19                               2.007386             1.026202   \n",
      "20                               2.054934             1.035245   \n",
      "21                               1.000070             1.060024   \n",
      "22                               1.000030             1.035959   \n",
      "23                               2.038073             1.001341   \n",
      "\n",
      "                                 Assets  \n",
      "0   [XSW, XSD, VIOG, PJP, KIE, XVG-USD]  \n",
      "1   [XSW, XSD, VIOG, PJP, KIE, XVG-USD]  \n",
      "2   [XSW, XSD, VIOG, PJP, KIE, XVG-USD]  \n",
      "3   [XSW, XSD, VIOG, PJP, KIE, XVG-USD]  \n",
      "4   [XSW, XSD, VIOG, PJP, KIE, XVG-USD]  \n",
      "5   [XSW, XSD, VIOG, PJP, KIE, XVG-USD]  \n",
      "6   [XSW, XSD, VIOG, PJP, KIE, XVG-USD]  \n",
      "7   [XSW, XSD, VIOG, PJP, KIE, XVG-USD]  \n",
      "8   [XSW, XSD, VIOG, PJP, KIE, XVG-USD]  \n",
      "9   [XSW, XSD, VIOG, PJP, KIE, XVG-USD]  \n",
      "10  [XSW, XSD, VIOG, PJP, KIE, XVG-USD]  \n",
      "11  [XSW, XSD, VIOG, PJP, KIE, XVG-USD]  \n",
      "12  [XSW, XSD, VIOG, PJP, KIE, XVG-USD]  \n",
      "13  [XSW, XSD, VIOG, PJP, KIE, XVG-USD]  \n",
      "14  [XSW, XSD, VIOG, PJP, KIE, XVG-USD]  \n",
      "15  [XSW, XSD, VIOG, PJP, KIE, XVG-USD]  \n",
      "16  [XSW, XSD, VIOG, PJP, KIE, XVG-USD]  \n",
      "17  [XSW, XSD, VIOG, PJP, KIE, XVG-USD]  \n",
      "18  [XSW, XSD, VIOG, PJP, KIE, XVG-USD]  \n",
      "19  [XSW, XSD, VIOG, PJP, KIE, XVG-USD]  \n",
      "20  [XSW, XSD, VIOG, PJP, KIE, XVG-USD]  \n",
      "21  [XSW, XSD, VIOG, PJP, KIE, XVG-USD]  \n",
      "22  [XSW, XSD, VIOG, PJP, KIE, XVG-USD]  \n",
      "23  [XSW, XSD, VIOG, PJP, KIE, XVG-USD]  \n",
      "   Period                                    Weights Max PDI  \\\n",
      "0  2015Q1  [0.16666666666666666, 0.16666666666666666, 0.1...   \n",
      "1  2015Q2                [0.25, 0.22, 0.24, 0.15, 0.15, 0.0]   \n",
      "2  2015Q3               [0.26, 0.21, 0.26, 0.22, 0.03, 0.02]   \n",
      "3  2015Q4               [0.08, 0.02, 0.15, 0.05, 0.59, 0.11]   \n",
      "4  2016Q1               [0.08, 0.44, 0.25, 0.17, 0.05, 0.02]   \n",
      "5  2016Q2               [0.08, 0.55, 0.06, 0.07, 0.18, 0.06]   \n",
      "6  2016Q3               [0.26, 0.25, 0.13, 0.21, 0.14, 0.01]   \n",
      "7  2016Q4                [0.42, 0.07, 0.19, 0.11, 0.2, 0.01]   \n",
      "8  2017Q1               [0.47, 0.22, 0.04, 0.19, 0.03, 0.05]   \n",
      "9  2017Q2                [0.07, 0.4, 0.05, 0.17, 0.29, 0.02]   \n",
      "10 2017Q3                  [0.25, 0.01, 0.24, 0.3, 0.2, 0.0]   \n",
      "11 2017Q4               [0.46, 0.25, 0.06, 0.08, 0.14, 0.01]   \n",
      "12 2018Q1                  [0.37, 0.21, 0.2, 0.01, 0.2, 0.0]   \n",
      "13 2018Q2               [0.03, 0.02, 0.47, 0.07, 0.36, 0.06]   \n",
      "14 2018Q3               [0.02, 0.02, 0.46, 0.16, 0.29, 0.04]   \n",
      "15 2018Q4               [0.21, 0.04, 0.35, 0.14, 0.22, 0.04]   \n",
      "16 2019Q1                [0.05, 0.07, 0.32, 0.4, 0.01, 0.16]   \n",
      "17 2019Q2                 [0.1, 0.0, 0.16, 0.54, 0.03, 0.16]   \n",
      "18 2019Q3               [0.24, 0.27, 0.27, 0.18, 0.01, 0.03]   \n",
      "19 2019Q4                [0.26, 0.18, 0.13, 0.2, 0.18, 0.05]   \n",
      "20 2020Q1               [0.22, 0.21, 0.22, 0.18, 0.15, 0.02]   \n",
      "21 2020Q2                [0.29, 0.09, 0.2, 0.19, 0.15, 0.08]   \n",
      "22 2020Q3               [0.19, 0.22, 0.12, 0.13, 0.34, 0.01]   \n",
      "23 2020Q4                [0.33, 0.1, 0.18, 0.09, 0.27, 0.03]   \n",
      "\n",
      "                                   Weights Max Sharpe  \\\n",
      "0   [0.16666666666666666, 0.16666666666666666, 0.1...   \n",
      "1                 [0.04, 0.04, 0.13, 0.1, 0.02, 0.67]   \n",
      "2                [0.02, 0.31, 0.55, 0.06, 0.04, 0.02]   \n",
      "3                [0.08, 0.23, 0.03, 0.02, 0.03, 0.61]   \n",
      "4                  [0.38, 0.44, 0.04, 0.1, 0.04, 0.0]   \n",
      "5                [0.16, 0.01, 0.13, 0.04, 0.03, 0.63]   \n",
      "6                 [0.42, 0.38, 0.01, 0.17, 0.0, 0.01]   \n",
      "7                [0.02, 0.03, 0.41, 0.12, 0.42, 0.01]   \n",
      "8                [0.04, 0.04, 0.72, 0.04, 0.04, 0.13]   \n",
      "9                [0.12, 0.02, 0.01, 0.11, 0.02, 0.72]   \n",
      "10                [0.11, 0.11, 0.01, 0.03, 0.04, 0.7]   \n",
      "11                [0.1, 0.33, 0.02, 0.01, 0.03, 0.51]   \n",
      "12                [0.05, 0.1, 0.02, 0.14, 0.03, 0.66]   \n",
      "13                [0.18, 0.16, 0.01, 0.57, 0.08, 0.0]   \n",
      "14                  [0.6, 0.2, 0.09, 0.04, 0.07, 0.0]   \n",
      "15                [0.57, 0.0, 0.23, 0.14, 0.03, 0.02]   \n",
      "16                [0.09, 0.06, 0.08, 0.04, 0.0, 0.71]   \n",
      "17               [0.56, 0.03, 0.08, 0.28, 0.02, 0.02]   \n",
      "18               [0.51, 0.01, 0.42, 0.01, 0.01, 0.04]   \n",
      "19                 [0.62, 0.0, 0.19, 0.07, 0.11, 0.0]   \n",
      "20               [0.04, 0.07, 0.08, 0.04, 0.61, 0.17]   \n",
      "21                [0.09, 0.65, 0.02, 0.02, 0.02, 0.2]   \n",
      "22                 [0.01, 0.36, 0.0, 0.22, 0.02, 0.4]   \n",
      "23               [0.45, 0.46, 0.02, 0.03, 0.01, 0.03]   \n",
      "\n",
      "                           Weights Max Sharpe - PDI 2  \\\n",
      "0   [0.16666666666666666, 0.16666666666666666, 0.1...   \n",
      "1                [0.01, 0.31, 0.36, 0.04, 0.27, 0.01]   \n",
      "2                 [0.05, 0.19, 0.33, 0.27, 0.15, 0.0]   \n",
      "3                [0.08, 0.23, 0.03, 0.02, 0.03, 0.61]   \n",
      "4                 [0.28, 0.38, 0.07, 0.1, 0.16, 0.02]   \n",
      "5                [0.16, 0.01, 0.13, 0.04, 0.03, 0.63]   \n",
      "6                [0.41, 0.35, 0.03, 0.05, 0.14, 0.02]   \n",
      "7                [0.02, 0.03, 0.41, 0.12, 0.42, 0.01]   \n",
      "8                [0.04, 0.04, 0.72, 0.04, 0.04, 0.13]   \n",
      "9                 [0.46, 0.22, 0.0, 0.04, 0.26, 0.02]   \n",
      "10               [0.06, 0.29, 0.31, 0.01, 0.33, 0.01]   \n",
      "11               [0.05, 0.42, 0.36, 0.06, 0.09, 0.02]   \n",
      "12                  [0.37, 0.21, 0.2, 0.01, 0.2, 0.0]   \n",
      "13               [0.03, 0.02, 0.47, 0.07, 0.36, 0.06]   \n",
      "14                [0.42, 0.02, 0.34, 0.08, 0.14, 0.0]   \n",
      "15                [0.3, 0.02, 0.28, 0.19, 0.17, 0.03]   \n",
      "16                [0.01, 0.31, 0.2, 0.27, 0.05, 0.16]   \n",
      "17               [0.56, 0.03, 0.08, 0.28, 0.02, 0.02]   \n",
      "18                 [0.36, 0.15, 0.4, 0.06, 0.0, 0.04]   \n",
      "19               [0.24, 0.14, 0.13, 0.25, 0.23, 0.01]   \n",
      "20                [0.07, 0.34, 0.29, 0.01, 0.2, 0.09]   \n",
      "21                [0.09, 0.65, 0.02, 0.02, 0.02, 0.2]   \n",
      "22               [0.02, 0.28, 0.14, 0.14, 0.32, 0.09]   \n",
      "23                [0.33, 0.15, 0.14, 0.12, 0.26, 0.0]   \n",
      "\n",
      "                                        Weights Equal  \\\n",
      "0   [0.16666666666666666, 0.16666666666666666, 0.1...   \n",
      "1   [0.16666666666666669, 0.16666666666666669, 0.1...   \n",
      "2   [0.16666666666666669, 0.16666666666666669, 0.1...   \n",
      "3   [0.16666666666666669, 0.16666666666666669, 0.1...   \n",
      "4   [0.16666666666666669, 0.16666666666666669, 0.1...   \n",
      "5   [0.16666666666666669, 0.16666666666666669, 0.1...   \n",
      "6   [0.16666666666666669, 0.16666666666666669, 0.1...   \n",
      "7   [0.16666666666666669, 0.16666666666666669, 0.1...   \n",
      "8   [0.16666666666666669, 0.16666666666666669, 0.1...   \n",
      "9   [0.16666666666666669, 0.16666666666666669, 0.1...   \n",
      "10  [0.16666666666666669, 0.16666666666666669, 0.1...   \n",
      "11  [0.16666666666666669, 0.16666666666666669, 0.1...   \n",
      "12  [0.16666666666666669, 0.16666666666666669, 0.1...   \n",
      "13  [0.16666666666666669, 0.16666666666666669, 0.1...   \n",
      "14  [0.16666666666666669, 0.16666666666666669, 0.1...   \n",
      "15  [0.16666666666666669, 0.16666666666666669, 0.1...   \n",
      "16  [0.16666666666666669, 0.16666666666666669, 0.1...   \n",
      "17  [0.16666666666666669, 0.16666666666666669, 0.1...   \n",
      "18  [0.16666666666666669, 0.16666666666666669, 0.1...   \n",
      "19  [0.16666666666666669, 0.16666666666666669, 0.1...   \n",
      "20  [0.16666666666666669, 0.16666666666666669, 0.1...   \n",
      "21  [0.16666666666666669, 0.16666666666666669, 0.1...   \n",
      "22  [0.16666666666666669, 0.16666666666666669, 0.1...   \n",
      "23  [0.16666666666666669, 0.16666666666666669, 0.1...   \n",
      "\n",
      "    Weights Max PDI - PDI Rolling 52  Weights Max sharpe - PDI Rolling 52  \\\n",
      "0                           1.527616                             1.527616   \n",
      "1                           2.256650                             1.000000   \n",
      "2                           2.650919                             1.459396   \n",
      "3                           1.521397                             1.000006   \n",
      "4                           2.143529                             1.194760   \n",
      "5                           1.740114                             1.000000   \n",
      "6                           2.102841                             1.533229   \n",
      "7                           1.977430                             1.102078   \n",
      "8                           1.730559                             1.096494   \n",
      "9                           2.328578                             1.000000   \n",
      "10                          2.430912                             1.000000   \n",
      "11                          2.641193                             1.000001   \n",
      "12                          2.033406                             1.000000   \n",
      "13                          2.053413                             1.005561   \n",
      "14                          2.693827                             1.031694   \n",
      "15                          2.648280                             1.137921   \n",
      "16                          2.065549                             1.000012   \n",
      "17                          1.605394                             1.023045   \n",
      "18                          2.173406                             1.487883   \n",
      "19                          3.057541                             1.124714   \n",
      "20                          2.265760                             1.198169   \n",
      "21                          1.752335                             1.009407   \n",
      "22                          2.158662                             1.007926   \n",
      "23                          2.162867                             1.034773   \n",
      "\n",
      "    Weights Max Sharpe - PDI 2 Rolling 52  Weights equal - PDI  \\\n",
      "0                                1.527616             1.527616   \n",
      "1                                2.001446             1.001658   \n",
      "2                                2.085598             1.001289   \n",
      "3                                1.000006             1.000273   \n",
      "4                                2.055706             1.000256   \n",
      "5                                1.000000             1.000236   \n",
      "6                                2.039134             1.001084   \n",
      "7                                1.102078             1.018214   \n",
      "8                                1.096494             1.000115   \n",
      "9                                2.046639             1.000002   \n",
      "10                               2.015420             1.000027   \n",
      "11                               2.008281             1.000000   \n",
      "12                               2.033406             1.001364   \n",
      "13                               2.053413             1.001632   \n",
      "14                               2.040536             1.014456   \n",
      "15                               2.017095             1.076948   \n",
      "16                               2.005561             1.074080   \n",
      "17                               1.023045             1.002441   \n",
      "18                               2.006676             1.041345   \n",
      "19                               2.062077             1.023000   \n",
      "20                               2.052965             1.037011   \n",
      "21                               1.009407             1.215652   \n",
      "22                               2.012886             1.133067   \n",
      "23                               2.070131             1.009838   \n",
      "\n",
      "                                 Assets  \n",
      "0   [IHI, ARKW, KRE, PSJ, BBP, XVG-USD]  \n",
      "1   [IHI, ARKW, KRE, PSJ, BBP, XVG-USD]  \n",
      "2   [IHI, ARKW, KRE, PSJ, BBP, XVG-USD]  \n",
      "3   [IHI, ARKW, KRE, PSJ, BBP, XVG-USD]  \n",
      "4   [IHI, ARKW, KRE, PSJ, BBP, XVG-USD]  \n",
      "5   [IHI, ARKW, KRE, PSJ, BBP, XVG-USD]  \n",
      "6   [IHI, ARKW, KRE, PSJ, BBP, XVG-USD]  \n",
      "7   [IHI, ARKW, KRE, PSJ, BBP, XVG-USD]  \n",
      "8   [IHI, ARKW, KRE, PSJ, BBP, XVG-USD]  \n",
      "9   [IHI, ARKW, KRE, PSJ, BBP, XVG-USD]  \n",
      "10  [IHI, ARKW, KRE, PSJ, BBP, XVG-USD]  \n",
      "11  [IHI, ARKW, KRE, PSJ, BBP, XVG-USD]  \n",
      "12  [IHI, ARKW, KRE, PSJ, BBP, XVG-USD]  \n",
      "13  [IHI, ARKW, KRE, PSJ, BBP, XVG-USD]  \n",
      "14  [IHI, ARKW, KRE, PSJ, BBP, XVG-USD]  \n",
      "15  [IHI, ARKW, KRE, PSJ, BBP, XVG-USD]  \n",
      "16  [IHI, ARKW, KRE, PSJ, BBP, XVG-USD]  \n",
      "17  [IHI, ARKW, KRE, PSJ, BBP, XVG-USD]  \n",
      "18  [IHI, ARKW, KRE, PSJ, BBP, XVG-USD]  \n",
      "19  [IHI, ARKW, KRE, PSJ, BBP, XVG-USD]  \n",
      "20  [IHI, ARKW, KRE, PSJ, BBP, XVG-USD]  \n",
      "21  [IHI, ARKW, KRE, PSJ, BBP, XVG-USD]  \n",
      "22  [IHI, ARKW, KRE, PSJ, BBP, XVG-USD]  \n",
      "23  [IHI, ARKW, KRE, PSJ, BBP, XVG-USD]  \n"
     ]
    }
   ],
   "source": [
    "for i in ['MST', 'PDI_Boot']:\n",
    "    print(result[i][\"num_crypto_1\"][\"Sharpe Ratio\"][6]['weights'])"
   ]
  },
  {
   "cell_type": "markdown",
   "metadata": {},
   "source": []
  }
 ],
 "metadata": {
  "interpreter": {
   "hash": "dbe982a3f5d1759641b0f9a1e1fc81793c5689a5b1d0a09e41f2ced7727a391a"
  },
  "kernelspec": {
   "display_name": "Python 3.5.5 64-bit ('py35v2': conda)",
   "name": "python3"
  },
  "language_info": {
   "codemirror_mode": {
    "name": "ipython",
    "version": 3
   },
   "file_extension": ".py",
   "mimetype": "text/x-python",
   "name": "python",
   "nbconvert_exporter": "python",
   "pygments_lexer": "ipython3",
   "version": "3.5.5"
  },
  "orig_nbformat": 2
 },
 "nbformat": 4,
 "nbformat_minor": 2
}