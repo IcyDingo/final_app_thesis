{
 "cells": [
  {
   "cell_type": "code",
   "execution_count": 1,
   "metadata": {},
   "outputs": [],
   "source": [
    "import pandas as pd\n",
    "import numpy as np \n",
    "import random\n",
    "from sklearn.decomposition import PCA\n",
    "from tqdm import tqdm\n",
    "import plotly.express as px \n",
    "import plotly.io as pio \n",
    "pio.renderers.default = \"browser\"\n",
    "import ast"
   ]
  },
  {
   "cell_type": "code",
   "execution_count": 487,
   "metadata": {},
   "outputs": [],
   "source": [
    "cols_1 = ['Equal Weights_1_Crypto', 'Max PDI Weights_1_Crypto',\n",
    "       'Max Sharpe Ratio Weights_1_Crypto',\n",
    "       'Equal Weights', 'Max PDI Weights', 'Max Sharpe Ratio Weights','Equal Weights_2_Crypto', 'Max PDI Weights_2_Crypto',\n",
    "       'Max Sharpe Ratio Weights_2_Crypto',]\n",
    "\n",
    "cols =  ['Equal Weights Cummulative_1_Crypto',\n",
    "       'Max PDI Weights Cummulative_1_Crypto',\n",
    "       'Max Sharpe Ratio Weights Cummulative_1_Crypto',\n",
    "       'Equal Weights Cummulative', 'Max PDI Weights Cummulative',\n",
    "       'Max Sharpe Ratio Weights Cummulative','Equal Weights Cummulative_2_Crypto',\n",
    "       'Max PDI Weights Cummulative_2_Crypto',\n",
    "       'Max Sharpe Ratio Weights Cummulative_2_Crypto']"
   ]
  },
  {
   "cell_type": "code",
   "execution_count": 3,
   "metadata": {},
   "outputs": [],
   "source": [
    "def meanRetAn(data):             \n",
    "    Result = 1\n",
    "    \n",
    "    for i in range(len(data.index)):\n",
    "        Result *= (1+data.iloc[i,:])\n",
    "        \n",
    "    Result = Result**(1/float(len(data.index)/52))-1\n",
    "     \n",
    "    return(Result)"
   ]
  },
  {
   "cell_type": "code",
   "execution_count": 489,
   "metadata": {},
   "outputs": [],
   "source": [
    "etf_c = pd.read_csv(\"MST_num_crypto_1_Sharpe Ratio_performance.csv\")\n",
    "etf_c_2 = pd.read_csv(\"MST_num_crypto_2_Sharpe Ratio_performance.csv\")\n",
    "etf = pd.read_csv(\"MST_Sharpe Ratio_performance.csv\")\n",
    "etf_c = etf_c.set_index(\"Time\").drop(columns=[\"Unnamed: 0\"])\n",
    "etf_c = etf_c.add_suffix('_1_Crypto')\n",
    "etf_c_2 = etf_c_2.set_index(\"Time\").drop(columns=[\"Unnamed: 0\"])\n",
    "etf_c_2 = etf_c_2.add_suffix('_2_Crypto')\n",
    "etf = etf.set_index(\"Time\").drop(columns=[\"Unnamed: 0\"])\n",
    "merge = pd.merge(etf_c,etf, left_index=True,right_index=True)\n",
    "merge_merge = pd.merge(merge, etf_c_2,left_index=True,right_index=True)\n",
    "merge_merge.rename(columns = {\"Max PDI Weights Cummulative_1_Crypto\":\"Max PDI 1 Crypto\",\"Max PDI Weights Cummulative_2_Crypto\":\"Max PDI 2 Crypto\",\"Max PDI Weights Cummulative\":\"Max PDI ETF\",\n",
    "\"Max Sharpe Ratio Weights Cummulative_1_Crypto\":\"Max Sharpe 1 Crypto\",\"Max Sharpe Ratio Weights Cummulative_2_Crypto\":\"Max Sharpe 2 Crypto\",\"Max Sharpe Ratio Weights Cummulative\":\"Max Sharpe ETF\",\n",
    "\"Equal Weights Cummulative_1_Crypto\":\"1/N 1 Crypto\",\"Equal Weights Cummulative_2_Crypto\":\"1/N 2 Crypto\",\"Equal Weights Cummulative\":\"1/N ETF\"},inplace=True)"
   ]
  },
  {
   "cell_type": "code",
   "execution_count": 497,
   "metadata": {},
   "outputs": [
    {
     "data": {
      "text/html": "<div>\n<style scoped>\n    .dataframe tbody tr th:only-of-type {\n        vertical-align: middle;\n    }\n\n    .dataframe tbody tr th {\n        vertical-align: top;\n    }\n\n    .dataframe thead th {\n        text-align: right;\n    }\n</style>\n<table border=\"1\" class=\"dataframe\">\n  <thead>\n    <tr style=\"text-align: right;\">\n      <th></th>\n      <th>Equal Weights_1_Crypto</th>\n      <th>Max PDI Weights_1_Crypto</th>\n      <th>Max Sharpe Ratio Weights - PDI 2_1_Crypto</th>\n      <th>Max Sharpe Ratio Weights_1_Crypto</th>\n      <th>1/N 1 Crypto</th>\n      <th>Max PDI 1 Crypto</th>\n      <th>Max Sharpe 1 Crypto</th>\n      <th>Max Sharpe Ratio Weights Cummulative - PDI 2_1_Crypto</th>\n      <th>Equal Weights</th>\n      <th>Max PDI Weights</th>\n      <th>...</th>\n      <th>Max Sharpe ETF</th>\n      <th>Equal Weights_2_Crypto</th>\n      <th>Max PDI Weights_2_Crypto</th>\n      <th>Max Sharpe Ratio Weights - PDI 2_2_Crypto</th>\n      <th>Max Sharpe Ratio Weights_2_Crypto</th>\n      <th>1/N 2 Crypto</th>\n      <th>Max PDI 2 Crypto</th>\n      <th>Max Sharpe 2 Crypto</th>\n      <th>Max Sharpe Ratio Weights Cummulative - PDI 2_2_Crypto</th>\n      <th>URTH</th>\n    </tr>\n    <tr>\n      <th>Time</th>\n      <th></th>\n      <th></th>\n      <th></th>\n      <th></th>\n      <th></th>\n      <th></th>\n      <th></th>\n      <th></th>\n      <th></th>\n      <th></th>\n      <th></th>\n      <th></th>\n      <th></th>\n      <th></th>\n      <th></th>\n      <th></th>\n      <th></th>\n      <th></th>\n      <th></th>\n      <th></th>\n      <th></th>\n    </tr>\n  </thead>\n  <tbody>\n    <tr>\n      <th>2016-01-06</th>\n      <td>-0.041415</td>\n      <td>-0.047842</td>\n      <td>-0.047929</td>\n      <td>-0.041480</td>\n      <td>-0.041415</td>\n      <td>-0.047842</td>\n      <td>-0.041480</td>\n      <td>-0.047929</td>\n      <td>-0.049449</td>\n      <td>-0.049165</td>\n      <td>...</td>\n      <td>-0.056291</td>\n      <td>-0.041937</td>\n      <td>-0.057232</td>\n      <td>-0.050626</td>\n      <td>-0.028151</td>\n      <td>-0.041937</td>\n      <td>-0.057232</td>\n      <td>-0.028151</td>\n      <td>-0.050626</td>\n      <td>-0.038280</td>\n    </tr>\n    <tr>\n      <th>2016-01-13</th>\n      <td>-0.056054</td>\n      <td>-0.070239</td>\n      <td>-0.066342</td>\n      <td>-0.041160</td>\n      <td>-0.097469</td>\n      <td>-0.118081</td>\n      <td>-0.082640</td>\n      <td>-0.114271</td>\n      <td>-0.066126</td>\n      <td>-0.063984</td>\n      <td>...</td>\n      <td>-0.116501</td>\n      <td>-0.052852</td>\n      <td>-0.060246</td>\n      <td>-0.059302</td>\n      <td>-0.051402</td>\n      <td>-0.094789</td>\n      <td>-0.117478</td>\n      <td>-0.079553</td>\n      <td>-0.109929</td>\n      <td>-0.089075</td>\n    </tr>\n    <tr>\n      <th>2016-01-20</th>\n      <td>-0.058851</td>\n      <td>-0.007860</td>\n      <td>-0.010851</td>\n      <td>-0.111555</td>\n      <td>-0.156319</td>\n      <td>-0.125941</td>\n      <td>-0.194195</td>\n      <td>-0.125122</td>\n      <td>-0.007856</td>\n      <td>-0.010480</td>\n      <td>...</td>\n      <td>-0.131874</td>\n      <td>0.029637</td>\n      <td>0.008042</td>\n      <td>0.018932</td>\n      <td>0.164896</td>\n      <td>-0.065152</td>\n      <td>-0.109436</td>\n      <td>0.085343</td>\n      <td>-0.090997</td>\n      <td>-0.111294</td>\n    </tr>\n    <tr>\n      <th>2016-01-27</th>\n      <td>0.205729</td>\n      <td>0.031210</td>\n      <td>0.033101</td>\n      <td>0.406428</td>\n      <td>0.049410</td>\n      <td>-0.094731</td>\n      <td>0.212233</td>\n      <td>-0.092021</td>\n      <td>0.002708</td>\n      <td>0.003704</td>\n      <td>...</td>\n      <td>-0.127104</td>\n      <td>0.188999</td>\n      <td>0.026087</td>\n      <td>0.043318</td>\n      <td>0.357470</td>\n      <td>0.123847</td>\n      <td>-0.083349</td>\n      <td>0.442813</td>\n      <td>-0.047679</td>\n      <td>-0.090330</td>\n    </tr>\n    <tr>\n      <th>2016-02-03</th>\n      <td>-0.042427</td>\n      <td>-0.011009</td>\n      <td>-0.007812</td>\n      <td>-0.079321</td>\n      <td>0.006983</td>\n      <td>-0.105740</td>\n      <td>0.132912</td>\n      <td>-0.099833</td>\n      <td>-0.000006</td>\n      <td>0.001769</td>\n      <td>...</td>\n      <td>-0.121161</td>\n      <td>-0.038495</td>\n      <td>-0.001101</td>\n      <td>-0.004720</td>\n      <td>-0.087056</td>\n      <td>0.085352</td>\n      <td>-0.084450</td>\n      <td>0.355757</td>\n      <td>-0.052399</td>\n      <td>-0.079515</td>\n    </tr>\n    <tr>\n      <th>...</th>\n      <td>...</td>\n      <td>...</td>\n      <td>...</td>\n      <td>...</td>\n      <td>...</td>\n      <td>...</td>\n      <td>...</td>\n      <td>...</td>\n      <td>...</td>\n      <td>...</td>\n      <td>...</td>\n      <td>...</td>\n      <td>...</td>\n      <td>...</td>\n      <td>...</td>\n      <td>...</td>\n      <td>...</td>\n      <td>...</td>\n      <td>...</td>\n      <td>...</td>\n      <td>...</td>\n    </tr>\n    <tr>\n      <th>2020-12-02</th>\n      <td>0.009657</td>\n      <td>0.008442</td>\n      <td>0.014466</td>\n      <td>0.019281</td>\n      <td>4.823803</td>\n      <td>1.165942</td>\n      <td>9.831143</td>\n      <td>1.016842</td>\n      <td>0.005921</td>\n      <td>0.006648</td>\n      <td>...</td>\n      <td>0.965550</td>\n      <td>0.012814</td>\n      <td>0.017263</td>\n      <td>0.027068</td>\n      <td>0.021624</td>\n      <td>6.064084</td>\n      <td>2.268623</td>\n      <td>9.853969</td>\n      <td>2.839636</td>\n      <td>0.622280</td>\n    </tr>\n    <tr>\n      <th>2020-12-09</th>\n      <td>-0.014437</td>\n      <td>-0.000736</td>\n      <td>-0.002573</td>\n      <td>-0.015223</td>\n      <td>4.809366</td>\n      <td>1.165206</td>\n      <td>9.815920</td>\n      <td>1.014269</td>\n      <td>0.017345</td>\n      <td>0.017345</td>\n      <td>...</td>\n      <td>0.980093</td>\n      <td>-0.030467</td>\n      <td>-0.020014</td>\n      <td>-0.049941</td>\n      <td>-0.019822</td>\n      <td>6.033617</td>\n      <td>2.248608</td>\n      <td>9.834147</td>\n      <td>2.789695</td>\n      <td>0.626362</td>\n    </tr>\n    <tr>\n      <th>2020-12-16</th>\n      <td>0.044116</td>\n      <td>0.037451</td>\n      <td>0.041406</td>\n      <td>0.049024</td>\n      <td>4.853483</td>\n      <td>1.202657</td>\n      <td>9.864944</td>\n      <td>1.055675</td>\n      <td>0.025221</td>\n      <td>0.025555</td>\n      <td>...</td>\n      <td>1.013792</td>\n      <td>0.057167</td>\n      <td>0.050719</td>\n      <td>0.068282</td>\n      <td>0.055481</td>\n      <td>6.090784</td>\n      <td>2.299327</td>\n      <td>9.889628</td>\n      <td>2.857977</td>\n      <td>0.637606</td>\n    </tr>\n    <tr>\n      <th>2020-12-23</th>\n      <td>-0.014946</td>\n      <td>-0.000757</td>\n      <td>-0.000261</td>\n      <td>-0.009870</td>\n      <td>4.838536</td>\n      <td>1.201900</td>\n      <td>9.855074</td>\n      <td>1.055414</td>\n      <td>0.016575</td>\n      <td>0.014199</td>\n      <td>...</td>\n      <td>1.037705</td>\n      <td>-0.034839</td>\n      <td>-0.020412</td>\n      <td>-0.048353</td>\n      <td>-0.007227</td>\n      <td>6.055945</td>\n      <td>2.278915</td>\n      <td>9.882401</td>\n      <td>2.809624</td>\n      <td>0.637696</td>\n    </tr>\n    <tr>\n      <th>2020-12-30</th>\n      <td>0.051769</td>\n      <td>0.028438</td>\n      <td>0.033637</td>\n      <td>0.053058</td>\n      <td>4.890305</td>\n      <td>1.230338</td>\n      <td>9.908132</td>\n      <td>1.089051</td>\n      <td>-0.000565</td>\n      <td>0.000915</td>\n      <td>...</td>\n      <td>1.039358</td>\n      <td>0.068640</td>\n      <td>0.057538</td>\n      <td>0.100627</td>\n      <td>0.052104</td>\n      <td>6.124585</td>\n      <td>2.336453</td>\n      <td>9.934505</td>\n      <td>2.910251</td>\n      <td>0.648134</td>\n    </tr>\n  </tbody>\n</table>\n<p>257 rows × 23 columns</p>\n</div>",
      "text/plain": "            Equal Weights_1_Crypto  Max PDI Weights_1_Crypto  \\\nTime                                                           \n2016-01-06               -0.041415                 -0.047842   \n2016-01-13               -0.056054                 -0.070239   \n2016-01-20               -0.058851                 -0.007860   \n2016-01-27                0.205729                  0.031210   \n2016-02-03               -0.042427                 -0.011009   \n...                            ...                       ...   \n2020-12-02                0.009657                  0.008442   \n2020-12-09               -0.014437                 -0.000736   \n2020-12-16                0.044116                  0.037451   \n2020-12-23               -0.014946                 -0.000757   \n2020-12-30                0.051769                  0.028438   \n\n            Max Sharpe Ratio Weights - PDI 2_1_Crypto  \\\nTime                                                    \n2016-01-06                                  -0.047929   \n2016-01-13                                  -0.066342   \n2016-01-20                                  -0.010851   \n2016-01-27                                   0.033101   \n2016-02-03                                  -0.007812   \n...                                               ...   \n2020-12-02                                   0.014466   \n2020-12-09                                  -0.002573   \n2020-12-16                                   0.041406   \n2020-12-23                                  -0.000261   \n2020-12-30                                   0.033637   \n\n            Max Sharpe Ratio Weights_1_Crypto  1/N 1 Crypto  Max PDI 1 Crypto  \\\nTime                                                                            \n2016-01-06                          -0.041480     -0.041415         -0.047842   \n2016-01-13                          -0.041160     -0.097469         -0.118081   \n2016-01-20                          -0.111555     -0.156319         -0.125941   \n2016-01-27                           0.406428      0.049410         -0.094731   \n2016-02-03                          -0.079321      0.006983         -0.105740   \n...                                       ...           ...               ...   \n2020-12-02                           0.019281      4.823803          1.165942   \n2020-12-09                          -0.015223      4.809366          1.165206   \n2020-12-16                           0.049024      4.853483          1.202657   \n2020-12-23                          -0.009870      4.838536          1.201900   \n2020-12-30                           0.053058      4.890305          1.230338   \n\n            Max Sharpe 1 Crypto  \\\nTime                              \n2016-01-06            -0.041480   \n2016-01-13            -0.082640   \n2016-01-20            -0.194195   \n2016-01-27             0.212233   \n2016-02-03             0.132912   \n...                         ...   \n2020-12-02             9.831143   \n2020-12-09             9.815920   \n2020-12-16             9.864944   \n2020-12-23             9.855074   \n2020-12-30             9.908132   \n\n            Max Sharpe Ratio Weights Cummulative - PDI 2_1_Crypto  \\\nTime                                                                \n2016-01-06                                          -0.047929       \n2016-01-13                                          -0.114271       \n2016-01-20                                          -0.125122       \n2016-01-27                                          -0.092021       \n2016-02-03                                          -0.099833       \n...                                                       ...       \n2020-12-02                                           1.016842       \n2020-12-09                                           1.014269       \n2020-12-16                                           1.055675       \n2020-12-23                                           1.055414       \n2020-12-30                                           1.089051       \n\n            Equal Weights  Max PDI Weights  ...  Max Sharpe ETF  \\\nTime                                        ...                   \n2016-01-06      -0.049449        -0.049165  ...       -0.056291   \n2016-01-13      -0.066126        -0.063984  ...       -0.116501   \n2016-01-20      -0.007856        -0.010480  ...       -0.131874   \n2016-01-27       0.002708         0.003704  ...       -0.127104   \n2016-02-03      -0.000006         0.001769  ...       -0.121161   \n...                   ...              ...  ...             ...   \n2020-12-02       0.005921         0.006648  ...        0.965550   \n2020-12-09       0.017345         0.017345  ...        0.980093   \n2020-12-16       0.025221         0.025555  ...        1.013792   \n2020-12-23       0.016575         0.014199  ...        1.037705   \n2020-12-30      -0.000565         0.000915  ...        1.039358   \n\n            Equal Weights_2_Crypto  Max PDI Weights_2_Crypto  \\\nTime                                                           \n2016-01-06               -0.041937                 -0.057232   \n2016-01-13               -0.052852                 -0.060246   \n2016-01-20                0.029637                  0.008042   \n2016-01-27                0.188999                  0.026087   \n2016-02-03               -0.038495                 -0.001101   \n...                            ...                       ...   \n2020-12-02                0.012814                  0.017263   \n2020-12-09               -0.030467                 -0.020014   \n2020-12-16                0.057167                  0.050719   \n2020-12-23               -0.034839                 -0.020412   \n2020-12-30                0.068640                  0.057538   \n\n            Max Sharpe Ratio Weights - PDI 2_2_Crypto  \\\nTime                                                    \n2016-01-06                                  -0.050626   \n2016-01-13                                  -0.059302   \n2016-01-20                                   0.018932   \n2016-01-27                                   0.043318   \n2016-02-03                                  -0.004720   \n...                                               ...   \n2020-12-02                                   0.027068   \n2020-12-09                                  -0.049941   \n2020-12-16                                   0.068282   \n2020-12-23                                  -0.048353   \n2020-12-30                                   0.100627   \n\n            Max Sharpe Ratio Weights_2_Crypto  1/N 2 Crypto  Max PDI 2 Crypto  \\\nTime                                                                            \n2016-01-06                          -0.028151     -0.041937         -0.057232   \n2016-01-13                          -0.051402     -0.094789         -0.117478   \n2016-01-20                           0.164896     -0.065152         -0.109436   \n2016-01-27                           0.357470      0.123847         -0.083349   \n2016-02-03                          -0.087056      0.085352         -0.084450   \n...                                       ...           ...               ...   \n2020-12-02                           0.021624      6.064084          2.268623   \n2020-12-09                          -0.019822      6.033617          2.248608   \n2020-12-16                           0.055481      6.090784          2.299327   \n2020-12-23                          -0.007227      6.055945          2.278915   \n2020-12-30                           0.052104      6.124585          2.336453   \n\n            Max Sharpe 2 Crypto  \\\nTime                              \n2016-01-06            -0.028151   \n2016-01-13            -0.079553   \n2016-01-20             0.085343   \n2016-01-27             0.442813   \n2016-02-03             0.355757   \n...                         ...   \n2020-12-02             9.853969   \n2020-12-09             9.834147   \n2020-12-16             9.889628   \n2020-12-23             9.882401   \n2020-12-30             9.934505   \n\n            Max Sharpe Ratio Weights Cummulative - PDI 2_2_Crypto      URTH  \nTime                                                                         \n2016-01-06                                          -0.050626     -0.038280  \n2016-01-13                                          -0.109929     -0.089075  \n2016-01-20                                          -0.090997     -0.111294  \n2016-01-27                                          -0.047679     -0.090330  \n2016-02-03                                          -0.052399     -0.079515  \n...                                                       ...           ...  \n2020-12-02                                           2.839636      0.622280  \n2020-12-09                                           2.789695      0.626362  \n2020-12-16                                           2.857977      0.637606  \n2020-12-23                                           2.809624      0.637696  \n2020-12-30                                           2.910251      0.648134  \n\n[257 rows x 23 columns]"
     },
     "execution_count": 497,
     "metadata": {},
     "output_type": "execute_result"
    }
   ],
   "source": [
    "merge_merge"
   ]
  },
  {
   "cell_type": "code",
   "execution_count": null,
   "metadata": {},
   "outputs": [],
   "source": [
    "\n",
    "\n"
   ]
  },
  {
   "cell_type": "code",
   "execution_count": 493,
   "metadata": {},
   "outputs": [],
   "source": [
    "plots = [[\"Max PDI 1 Crypto\",\"Max PDI 2 Crypto\",\"Max PDI ETF\",\"URTH\"],[\"Max Sharpe 1 Crypto\",\"Max Sharpe 2 Crypto\",\"Max Sharpe ETF\",\"URTH\"],[\"1/N 1 Crypto\",\"1/N 2 Crypto\",\"1/N ETF\",\"URTH\"]]\n"
   ]
  },
  {
   "cell_type": "code",
   "execution_count": 494,
   "metadata": {},
   "outputs": [],
   "source": [
    "returns_urth = pd.read_csv(\"weeklyReturns.csv\", index_col=\"Date\")\n",
    "returns_urth.index = pd.to_datetime(returns_urth.index)\n",
    "returns_urth = returns_urth[returns_urth.index.year > 2015]\n",
    "urt = pd.DataFrame(returns_urth[\"URTH\"].cumsum(axis=0))\n",
    "merge_merge[\"URTH\"] = list(urt[\"URTH\"])"
   ]
  },
  {
   "cell_type": "code",
   "execution_count": null,
   "metadata": {},
   "outputs": [],
   "source": []
  },
  {
   "cell_type": "code",
   "execution_count": 495,
   "metadata": {},
   "outputs": [],
   "source": [
    "for i in plots:\n",
    "    fig = px.line(merge_merge, x=merge_merge.index , y = i)\n",
    "    fig.update_layout(legend_title = \"Allocation Strategy\", width = 1200, height = 600,legend=dict(\n",
    "    orientation=\"h\",\n",
    "    yanchor=\"bottom\",\n",
    "    y=1.02,\n",
    "    xanchor=\"right\",\n",
    "    x=1\n",
    "))\n",
    "    fig.update_yaxes(title=\"Cumulative Returns\")\n",
    "    fig.update_xaxes(title=\"Time\")\n",
    "    fig.show() "
   ]
  },
  {
   "cell_type": "code",
   "execution_count": 255,
   "metadata": {},
   "outputs": [
    {
     "data": {
      "text/plain": "Equal Weights_1_Crypto               1.332626\nMax PDI Weights_1_Crypto             1.143068\nMax Sharpe Ratio Weights_1_Crypto    0.365047\nEqual Weights                        0.760626\nMax PDI Weights                      0.712019\nMax Sharpe Ratio Weights             0.899889\nEqual Weights_2_Crypto               1.619185\nMax PDI Weights_2_Crypto             1.679243\nMax Sharpe Ratio Weights_2_Crypto    1.056525\ndtype: float64"
     },
     "execution_count": 255,
     "metadata": {},
     "output_type": "execute_result"
    }
   ],
   "source": [
    "meanRetAn(merge_merge[cols_1])/(merge_merge[cols_1].std(axis=0)*np.sqrt(52))"
   ]
  },
  {
   "cell_type": "code",
   "execution_count": 256,
   "metadata": {},
   "outputs": [
    {
     "data": {
      "text/plain": "Equal Weights_1_Crypto                84.033074\nMax PDI Weights_1_Crypto              21.965986\nMax Sharpe Ratio Weights_1_Crypto    299.763054\nEqual Weights                         20.858365\nMax PDI Weights                       20.264273\nMax Sharpe Ratio Weights              22.565775\nEqual Weights_2_Crypto                94.936479\nMax PDI Weights_2_Crypto              31.374311\nMax Sharpe Ratio Weights_2_Crypto    193.897253\ndtype: float64"
     },
     "execution_count": 256,
     "metadata": {},
     "output_type": "execute_result"
    }
   ],
   "source": [
    "merge_merge[cols_1].std(axis=0)*np.sqrt(52)*100"
   ]
  },
  {
   "cell_type": "code",
   "execution_count": 257,
   "metadata": {},
   "outputs": [
    {
     "data": {
      "text/plain": "Equal Weights_1_Crypto               111.984618\nMax PDI Weights_1_Crypto              25.108625\nMax Sharpe Ratio Weights_1_Crypto    109.427652\nEqual Weights                         15.865417\nMax PDI Weights                       14.428548\nMax Sharpe Ratio Weights              20.306687\nEqual Weights_2_Crypto               153.719743\nMax PDI Weights_2_Crypto              52.685094\nMax Sharpe Ratio Weights_2_Crypto    204.857293\nName: 2016-01-06, dtype: float64"
     },
     "execution_count": 257,
     "metadata": {},
     "output_type": "execute_result"
    }
   ],
   "source": [
    "meanRetAn(merge_merge[cols_1])*100"
   ]
  },
  {
   "cell_type": "code",
   "execution_count": 33,
   "metadata": {},
   "outputs": [],
   "source": [
    "fig = px.line(merge_merge, x=merge.index , y = cols)\n",
    "fig.show() "
   ]
  },
  {
   "cell_type": "code",
   "execution_count": 498,
   "metadata": {},
   "outputs": [],
   "source": [
    "etf_c_1 = pd.read_csv(\"MST_num_crypto_1_Sharpe Ratio_performance.csv\")\n",
    "etf_c_1_2 = pd.read_csv(\"MST_num_crypto_2_Sharpe Ratio_performance.csv\")\n",
    "etf_1 = pd.read_csv(\"MST_Sharpe Ratio_performance.csv\")\n",
    "etf_c_1 = etf_c_1.set_index(\"Time\").drop(columns=[\"Unnamed: 0\"])\n",
    "etf_c_1 = etf_c_1.add_suffix('_1_Crypto')\n",
    "etf_c_1_2 = etf_c_1_2.set_index(\"Time\").drop(columns=[\"Unnamed: 0\"])\n",
    "etf_c_1_2 = etf_c_1_2.add_suffix('_2_Crypto')\n",
    "etf_1 = etf_1.set_index(\"Time\").drop(columns=[\"Unnamed: 0\"])"
   ]
  },
  {
   "cell_type": "code",
   "execution_count": 500,
   "metadata": {},
   "outputs": [],
   "source": [
    "\n",
    "merge_1 = pd.merge(etf_c_1,etf_1, left_index=True,right_index=True)\n",
    "merge_1_merge = pd.merge(merge_1,etf_c_1_2, left_index=True,right_index=True)"
   ]
  },
  {
   "cell_type": "code",
   "execution_count": 50,
   "metadata": {},
   "outputs": [],
   "source": [
    "fig = px.line(merge_1_merge, x=merge_1_merge.index , y = cols)\n",
    "fig.show() "
   ]
  },
  {
   "cell_type": "code",
   "execution_count": 501,
   "metadata": {},
   "outputs": [
    {
     "data": {
      "text/plain": "Equal Weights_1_Crypto                84.033074\nMax PDI Weights_1_Crypto              21.965986\nMax Sharpe Ratio Weights_1_Crypto    299.763054\nEqual Weights                         20.858365\nMax PDI Weights                       20.131095\nMax Sharpe Ratio Weights              22.919606\nEqual Weights_2_Crypto                94.936479\nMax PDI Weights_2_Crypto              31.374311\nMax Sharpe Ratio Weights_2_Crypto    193.897253\ndtype: float64"
     },
     "execution_count": 501,
     "metadata": {},
     "output_type": "execute_result"
    }
   ],
   "source": [
    "merge_1_merge[cols_1].std(axis=0)*np.sqrt(52)*100"
   ]
  },
  {
   "cell_type": "code",
   "execution_count": 502,
   "metadata": {},
   "outputs": [
    {
     "data": {
      "text/plain": "Equal Weights_1_Crypto               111.984618\nMax PDI Weights_1_Crypto              25.108625\nMax Sharpe Ratio Weights_1_Crypto    109.427652\nEqual Weights                         15.865417\nMax PDI Weights                       14.786601\nMax Sharpe Ratio Weights              20.104445\nEqual Weights_2_Crypto               153.719743\nMax PDI Weights_2_Crypto              52.685094\nMax Sharpe Ratio Weights_2_Crypto    204.857293\nName: 2016-01-06, dtype: float64"
     },
     "execution_count": 502,
     "metadata": {},
     "output_type": "execute_result"
    }
   ],
   "source": [
    "meanRetAn(merge_1_merge[cols_1])*100"
   ]
  },
  {
   "cell_type": "code",
   "execution_count": 475,
   "metadata": {},
   "outputs": [],
   "source": [
    "etf_c_1_w = pd.read_csv(\"MST_num_crypto_1_Sharpe Ratio_weights.csv\")\n",
    "etf_c_2_w = pd.read_csv(\"MST_num_crypto_2_Sharpe Ratio_weights.csv\")\n",
    "etf_1_w = pd.read_csv(\"MST_Sharpe Ratio_weights.csv\")\n",
    "#etf_c_1 = etf_c_1.set_index(\"Time\").drop(columns=[\"Unnamed: 0\"])\n",
    "etf_c_1_w = etf_c_1_w.add_suffix('_1_Crypto')\n",
    "etf_c_2_w = etf_c_2_w.add_suffix('_2_Crypto')\n",
    "#etf_1 = etf_1.set_index(\"Time\").drop(columns=[\"Unnamed: 0\"])\n"
   ]
  },
  {
   "cell_type": "code",
   "execution_count": 476,
   "metadata": {},
   "outputs": [],
   "source": [
    "g_1 = etf_c_1_w[[\"Period_1_Crypto\",\"Weights Max PDI_1_Crypto\",\"Assets_1_Crypto\"]]\n",
    "g_2 = etf_c_2_w[[\"Period_2_Crypto\",\"Weights Max PDI_2_Crypto\",\"Assets_2_Crypto\"]]\n",
    "g_0 = etf_1_w[[\"Period\",\"Weights Max sharpe\",\"Assets\"]]"
   ]
  },
  {
   "cell_type": "code",
   "execution_count": 463,
   "metadata": {},
   "outputs": [],
   "source": [
    "pe_list = []\n",
    "we_list = []\n",
    "ass_list = []\n",
    "for idx in g_1.index:\n",
    "    if idx == 1000:\n",
    "        pe = g_1[\"Period_1_Crypto\"][idx]\n",
    "        w_new = g_1[\"Weights Max Sharpe_1_Crypto\"][idx].replace(\" \", \",\")\n",
    "        we = ast.literal_eval(w_new)\n",
    "        ass = ast.literal_eval(g_1[\"Assets_1_Crypto\"][idx])\n",
    "        for i in range(0,len(we)):\n",
    "            pe_list.append(pe)\n",
    "        we_list.extend(we)\n",
    "        ass_list.extend(ass)\n",
    "    else:\n",
    "        pe = g_1[\"Period_1_Crypto\"][idx]\n",
    "        we = ast.literal_eval(g_1[\"Weights Max Sharpe_1_Crypto\"][idx])\n",
    "        ass = ast.literal_eval(g_1[\"Assets_1_Crypto\"][idx])\n",
    "        for i in range(0,len(we)):\n",
    "            pe_list.append(pe)\n",
    "        we_list.extend(we)\n",
    "        ass_list.extend(ass)\n"
   ]
  },
  {
   "cell_type": "code",
   "execution_count": 464,
   "metadata": {},
   "outputs": [],
   "source": [
    "test = pd.DataFrame()\n",
    "test[\"periods\"] = pe_list\n",
    "test[\"weights\"] = we_list\n",
    "test[\"assets\"] = ass_list\n",
    "test[\"weights\"] = test[\"weights\"]"
   ]
  },
  {
   "cell_type": "code",
   "execution_count": 465,
   "metadata": {},
   "outputs": [],
   "source": [
    "fig = px.bar(test, x=\"periods\", y=\"weights\", color=\"assets\", title=\"ETF 1 Crypto\", text=\"assets\")\n",
    "fig.update_yaxes(title = \"Weighted Allocation in Portfolio\")\n",
    "fig.update_xaxes(title = \"Period of Allocation\")\n",
    "fig.update_layout(showlegend = False, width = 800,height=500)\n",
    "fig.show()"
   ]
  },
  {
   "cell_type": "code",
   "execution_count": 477,
   "metadata": {},
   "outputs": [],
   "source": [
    "pe_list = []\n",
    "we_list = []\n",
    "ass_list = []\n",
    "for idx in g_0.index:\n",
    "    if idx == 10000:\n",
    "        pe = g_0[\"Period\"][idx]\n",
    "        w_new = g_0[\"Weights Max sharpe\"][idx].replace(\" \", \",\")\n",
    "        we = ast.literal_eval(w_new)\n",
    "        ass = ast.literal_eval(g_0[\"Assets\"][idx])\n",
    "        for i in range(0,len(we)):\n",
    "            pe_list.append(pe)\n",
    "        we_list.extend(we)\n",
    "        ass_list.extend(ass)\n",
    "    else:\n",
    "        pe = g_0[\"Period\"][idx]\n",
    "        we = ast.literal_eval(g_0[\"Weights Max sharpe\"][idx])\n",
    "        ass = ast.literal_eval(g_0[\"Assets\"][idx])\n",
    "        for i in range(0,len(we)):\n",
    "            pe_list.append(pe)\n",
    "        we_list.extend(we)\n",
    "        ass_list.extend(ass)"
   ]
  },
  {
   "cell_type": "code",
   "execution_count": 478,
   "metadata": {},
   "outputs": [],
   "source": [
    "test = pd.DataFrame()\n",
    "test[\"periods\"] = pe_list\n",
    "test[\"weights\"] = we_list\n",
    "test[\"assets\"] = ass_list"
   ]
  },
  {
   "cell_type": "code",
   "execution_count": 479,
   "metadata": {},
   "outputs": [],
   "source": [
    "fig = px.bar(test, x=\"periods\", y=\"weights\", color=\"assets\", title=\"ETF Only\", text=\"assets\")\n",
    "fig.update_yaxes(title = \"Weighted Allocation in Portfolio\")\n",
    "fig.update_xaxes(title = \"Period of Allocation\")\n",
    "fig.update_layout(showlegend = False, width = 800,height=500)\n",
    "fig.show()"
   ]
  },
  {
   "cell_type": "code",
   "execution_count": 409,
   "metadata": {},
   "outputs": [],
   "source": [
    "pe_list = []\n",
    "we_list = []\n",
    "ass_list = []\n",
    "for idx in g_2.index:\n",
    "    if idx == 1000:\n",
    "        pe = g_2[\"Period_2_Crypto\"][idx]\n",
    "        w_new = g_2[\"Weights Max PDI_2_Crypto\"][idx].replace(\" \", \",\")\n",
    "        we = ast.literal_eval(w_new)\n",
    "        ass = ast.literal_eval(g_2[\"Assets_2_Crypto\"][idx])\n",
    "        for i in range(0,len(we)):\n",
    "            pe_list.append(pe)\n",
    "        we_list.extend(we)\n",
    "        ass_list.extend(ass)\n",
    "    else:\n",
    "        pe = g_2[\"Period_2_Crypto\"][idx]\n",
    "        we = ast.literal_eval(g_2[\"Weights Max PDI_2_Crypto\"][idx])\n",
    "        ass = ast.literal_eval(g_2[\"Assets_2_Crypto\"][idx])\n",
    "        for i in range(0,len(we)):\n",
    "            pe_list.append(pe)\n",
    "        we_list.extend(we)\n",
    "        ass_list.extend(ass)\n"
   ]
  },
  {
   "cell_type": "code",
   "execution_count": 410,
   "metadata": {},
   "outputs": [],
   "source": [
    "test = pd.DataFrame()\n",
    "test[\"periods\"] = pe_list\n",
    "test[\"weights\"] = we_list\n",
    "test[\"assets\"] = ass_list"
   ]
  },
  {
   "cell_type": "code",
   "execution_count": 411,
   "metadata": {},
   "outputs": [],
   "source": [
    "fig = px.bar(test, x=\"periods\", y=\"weights\", color=\"assets\", title=\"ETF 2 Crypto\", text=\"assets\")\n",
    "fig.update_yaxes(title = \"Weighted Allocation in Portfolio\")\n",
    "fig.update_xaxes(title = \"Period of Allocation\")\n",
    "fig.update_layout(showlegend = False, width = 800,height=500)\n",
    "fig.show()"
   ]
  },
  {
   "cell_type": "code",
   "execution_count": 75,
   "metadata": {},
   "outputs": [],
   "source": [
    "returns_urth = pd.read_csv(\"weeklyReturns.csv\", index_col=\"Date\")\n",
    "returns_urth.index = pd.to_datetime(returns_urth.index)\n",
    "returns_urth = returns_urth[returns_urth.index.year > 2015]"
   ]
  },
  {
   "cell_type": "code",
   "execution_count": 370,
   "metadata": {},
   "outputs": [],
   "source": [
    "w_1= pd.read_csv(\"PDI_Boot_num_crypto_1_Sharpe Ratio_weights.csv\")\n",
    "w_2 = pd.read_csv(\"PDI_Boot_num_crypto_2_Sharpe Ratio_weights.csv\")\n",
    "w_0 = pd.read_csv(\"PDI_Boot_Sharpe Ratio_weights.csv\")"
   ]
  },
  {
   "cell_type": "code",
   "execution_count": 372,
   "metadata": {},
   "outputs": [
    {
     "data": {
      "text/plain": "Weights Max PDI - PDI       2.554516\nWeights Max sharpe - PDI    1.052280\nWeights Equal - PDI         1.679587\ndtype: float64"
     },
     "execution_count": 372,
     "metadata": {},
     "output_type": "execute_result"
    }
   ],
   "source": [
    "w_0[[\"Weights Max PDI - PDI\",\"Weights Max sharpe - PDI\",\t\"Weights Equal - PDI\"]].mean()"
   ]
  },
  {
   "cell_type": "code",
   "execution_count": 373,
   "metadata": {},
   "outputs": [
    {
     "data": {
      "text/plain": "Weights Max PDI - PDI Rolling 52       2.208415\nWeights Max sharpe - PDI Rolling 52    1.086061\nWeights equal - PDI                    1.058906\ndtype: float64"
     },
     "execution_count": 373,
     "metadata": {},
     "output_type": "execute_result"
    }
   ],
   "source": [
    "w_1[[\"Weights Max PDI - PDI Rolling 52\",\"Weights Max sharpe - PDI Rolling 52\", \"Weights equal - PDI\"]].mean()"
   ]
  },
  {
   "cell_type": "code",
   "execution_count": 374,
   "metadata": {},
   "outputs": [
    {
     "data": {
      "text/plain": "Weights Max PDI - PDI Rolling 52       2.464351\nWeights Max sharpe - PDI Rolling 52    1.190961\nWeights equal - PDI                    1.157432\ndtype: float64"
     },
     "execution_count": 374,
     "metadata": {},
     "output_type": "execute_result"
    }
   ],
   "source": [
    "w_2[[\"Weights Max PDI - PDI Rolling 52\",\"Weights Max sharpe - PDI Rolling 52\", \"Weights equal - PDI\"]].mean()"
   ]
  },
  {
   "cell_type": "code",
   "execution_count": 483,
   "metadata": {},
   "outputs": [],
   "source": [
    "assets = pd.read_csv(\"weeklyReturns.csv\", index_col=\"Date\")\n",
    "assets_c = pd.read_csv(\"crypto_weekly.csv\", index_col=\"Date\")\n",
    "assets_c.index = pd.to_datetime(assets_c.index)\n",
    "assets.index = pd.to_datetime(assets.index)\n",
    "assets = assets[assets.index.year >= 2016]\n",
    "assets_c = assets_c[assets_c.index.year >= 2016]\n",
    "assets_merge = pd.merge(assets,assets_c,left_index=True,right_index=True)\n",
    "meanret = meanRetAn(assets_merge)\n",
    "univeres_stats = pd.DataFrame(meanret)\n",
    "univeres_stats.columns = [\"Annual Average Returns\"]\n",
    "univeres_stats[\"Annual Standard Deviation of Returns\"] = assets_merge.std(axis=0)*np.sqrt(52)\n",
    "\n",
    "etf_c = pd.read_csv(\"MST_num_crypto_1_Sharpe Ratio_performance.csv\")\n",
    "etf_c_2 = pd.read_csv(\"MST_num_crypto_2_Sharpe Ratio_performance.csv\")\n",
    "etf = pd.read_csv(\"MST_Sharpe Ratio_performance.csv\")\n",
    "etf_c = etf_c.set_index(\"Time\").drop(columns=[\"Unnamed: 0\"])\n",
    "etf_c = etf_c.add_suffix('_1_Crypto')\n",
    "etf_c_2 = etf_c_2.set_index(\"Time\").drop(columns=[\"Unnamed: 0\"])\n",
    "etf_c_2 = etf_c_2.add_suffix('_2_Crypto')\n",
    "etf = etf.set_index(\"Time\").drop(columns=[\"Unnamed: 0\"])\n",
    "merge = pd.merge(etf_c,etf, left_index=True,right_index=True)\n",
    "merge_merge = pd.merge(merge, etf_c_2,left_index=True,right_index=True)\n",
    "merge_merge.rename(columns = {\"Max PDI Weights_1_Crypto\":\"Max PDI 1 Crypto\",\"Max PDI Weights_2_Crypto\":\"Max PDI 2 Crypto\",\"Max PDI Weights\":\"Max PDI ETF\",\n",
    "\"Max Sharpe Ratio Weights_1_Crypto\":\"Max Sharpe 1 Crypto\",\"Max Sharpe Ratio Weights_2_Crypto\":\"Max Sharpe 2 Crypto\",\"Max Sharpe Ratio Weights\":\"Max Sharpe ETF\",\n",
    "\"Equal Weights_1_Crypto\":\"1/N 1 Crypto\",\"Equal Weights_2_Crypto\":\"1/N 2 Crypto\",\"Equal Weights\":\"1/N ETF\"},inplace=True)\n",
    "plots = [\"Max PDI 1 Crypto\",\"Max PDI 2 Crypto\",\"Max PDI ETF\",\"Max Sharpe 1 Crypto\",\"Max Sharpe 2 Crypto\",\"Max Sharpe ETF\",\"1/N 1 Crypto\",\"1/N 2 Crypto\",\"1/N ETF\"]\n",
    "univeres_stats_our = pd.DataFrame(meanRetAn(merge_merge[plots]))\n",
    "univeres_stats_our.columns = [\"Annual Average Returns\"]\n",
    "univeres_stats_our[\"Annual Standard Deviation of Returns\"] = merge_merge[plots].std(axis=0)*np.sqrt(52)\n",
    "new = univeres_stats.append(univeres_stats_our)\n",
    "\n",
    "\n",
    "d = []\n",
    "for i in new.index:\n",
    "    if i in univeres_stats_our.index:\n",
    "        d.append(i)\n",
    "    elif i == \"URTH\":\n",
    "        d.append(i)\n",
    "    else:\n",
    "        d.append(\"\") \n",
    "color = []\n",
    "for i in new.index:\n",
    "    if i in univeres_stats_our.index:\n",
    "        color.append(\"Generated Portfolios\")\n",
    "    elif i in assets_c.columns:\n",
    "        color.append(\"Cryptocurrencies\")\n",
    "    elif i == \"URTH\":\n",
    "        color.append(\"URTH\")\n",
    "    else:\n",
    "        color.append(\"ETFs\")\n",
    "new[\"name\"] = d\n",
    "new[\"color\"] = color\n",
    "\n",
    "fig = px.scatter(new, x=\"Annual Standard Deviation of Returns\", y=\"Annual Average Returns\", color=\"color\", text=\"name\",color_discrete_sequence=px.colors.qualitative.Vivid)\n",
    "fig.update_traces(textposition='top center')\n",
    "fig.update_layout(legend_title=\"Assets\", width = 1200, height = 700,legend=dict(\n",
    "    orientation=\"h\",\n",
    "    yanchor=\"bottom\",\n",
    "    y=1.02,\n",
    "    xanchor=\"right\",\n",
    "    x=1\n",
    "))\n",
    "fig.show()"
   ]
  },
  {
   "cell_type": "code",
   "execution_count": 481,
   "metadata": {},
   "outputs": [
    {
     "data": {
      "text/html": "<div>\n<style scoped>\n    .dataframe tbody tr th:only-of-type {\n        vertical-align: middle;\n    }\n\n    .dataframe tbody tr th {\n        vertical-align: top;\n    }\n\n    .dataframe thead th {\n        text-align: right;\n    }\n</style>\n<table border=\"1\" class=\"dataframe\">\n  <thead>\n    <tr style=\"text-align: right;\">\n      <th></th>\n      <th>Annual Average Returns</th>\n      <th>Annual Standard Deviation of Returns</th>\n    </tr>\n  </thead>\n  <tbody>\n    <tr>\n      <th>SPY</th>\n      <td>0.149340</td>\n      <td>0.165273</td>\n    </tr>\n    <tr>\n      <th>IVV</th>\n      <td>0.148700</td>\n      <td>0.165788</td>\n    </tr>\n    <tr>\n      <th>VTI</th>\n      <td>0.153006</td>\n      <td>0.172220</td>\n    </tr>\n    <tr>\n      <th>VOO</th>\n      <td>0.150177</td>\n      <td>0.165111</td>\n    </tr>\n    <tr>\n      <th>QQQ</th>\n      <td>0.238906</td>\n      <td>0.189540</td>\n    </tr>\n    <tr>\n      <th>...</th>\n      <td>...</td>\n      <td>...</td>\n    </tr>\n    <tr>\n      <th>Max Sharpe 2 Crypto</th>\n      <td>1.904608</td>\n      <td>2.708043</td>\n    </tr>\n    <tr>\n      <th>Max Sharpe ETF</th>\n      <td>0.259540</td>\n      <td>0.223678</td>\n    </tr>\n    <tr>\n      <th>1/N 1 Crypto</th>\n      <td>1.244715</td>\n      <td>0.845943</td>\n    </tr>\n    <tr>\n      <th>1/N 2 Crypto</th>\n      <td>1.522793</td>\n      <td>0.950663</td>\n    </tr>\n    <tr>\n      <th>1/N ETF</th>\n      <td>0.218889</td>\n      <td>0.212981</td>\n    </tr>\n  </tbody>\n</table>\n<p>1144 rows × 2 columns</p>\n</div>",
      "text/plain": "                     Annual Average Returns  \\\nSPY                                0.149340   \nIVV                                0.148700   \nVTI                                0.153006   \nVOO                                0.150177   \nQQQ                                0.238906   \n...                                     ...   \nMax Sharpe 2 Crypto                1.904608   \nMax Sharpe ETF                     0.259540   \n1/N 1 Crypto                       1.244715   \n1/N 2 Crypto                       1.522793   \n1/N ETF                            0.218889   \n\n                     Annual Standard Deviation of Returns  \nSPY                                              0.165273  \nIVV                                              0.165788  \nVTI                                              0.172220  \nVOO                                              0.165111  \nQQQ                                              0.189540  \n...                                                   ...  \nMax Sharpe 2 Crypto                              2.708043  \nMax Sharpe ETF                                   0.223678  \n1/N 1 Crypto                                     0.845943  \n1/N 2 Crypto                                     0.950663  \n1/N ETF                                          0.212981  \n\n[1144 rows x 2 columns]"
     },
     "execution_count": 481,
     "metadata": {},
     "output_type": "execute_result"
    }
   ],
   "source": [
    "new"
   ]
  },
  {
   "cell_type": "code",
   "execution_count": 327,
   "metadata": {},
   "outputs": [],
   "source": [
    "hh = univeres_stats.copy()\n",
    "assss = ['KIE', 'XSD', 'XSW', 'SLYG', 'SPMD', 'XVG-USD','DASH-USD','VIOG', \"PJP\"]\n",
    "uni_16 = ['SMH', 'SPMD', 'SLYG', 'RPV', 'XSD', 'FIW', 'XTN', 'EZM', 'EWX', 'VIOG', 'XSW', 'KIE', 'PJP', 'PRN', 'XSMO', 'KCE']\n",
    "d = []\n",
    "for i in univeres_stats.index:\n",
    "    # if i in assss:\n",
    "    #    d.append(i)\n",
    "    if i in uni_16:\n",
    "        d.append(i)\n",
    "    elif i == \"URTH\":\n",
    "        d.append(i)\n",
    "    else:\n",
    "        d.append(\"\") \n",
    "hh[\"name\"] = d\n",
    "color = []\n",
    "for i in univeres_stats.index:\n",
    "    # if i in assss:\n",
    "    #    color.append(\"Final Investment Universe\")\n",
    "    if i in assets_c.columns:\n",
    "        color.append(\"Cryptocurrencies\")\n",
    "    elif i == \"URTH\":\n",
    "        color.append(\"URTH\")\n",
    "    elif i in uni_16:\n",
    "        color.append(\"MST Universe\")\n",
    "    else:\n",
    "        color.append(\"ETFs\")\n",
    "hh[\"color\"] = color"
   ]
  },
  {
   "cell_type": "code",
   "execution_count": 328,
   "metadata": {},
   "outputs": [],
   "source": [
    "fig = px.scatter(hh, x=\"Annual Standard Deviation of Returns\", y=\"Annual Average Returns\", color=\"color\",color_discrete_sequence=px.colors.qualitative.Vivid)\n",
    "fig.update_traces(textposition='top center')\n",
    "fig.update_layout(legend_title=\"Assets\", width = 1200, height = 700, showlegend=True,legend=dict(\n",
    "    orientation=\"h\",\n",
    "    yanchor=\"bottom\",\n",
    "    y=1.02,\n",
    "    xanchor=\"right\",\n",
    "    x=1\n",
    "))\n",
    "fig.show()"
   ]
  },
  {
   "cell_type": "code",
   "execution_count": 434,
   "metadata": {},
   "outputs": [],
   "source": [
    "etf_c = pd.read_csv(\"PDI_Boot_num_crypto_1_Sharpe Ratio_performance.csv\")\n",
    "etf_c_2 = pd.read_csv(\"PDI_Boot_num_crypto_2_Sharpe Ratio_performance.csv\")\n",
    "etf = pd.read_csv(\"PDI_Boot_Sharpe Ratio_performance.csv\")\n",
    "etf_c = etf_c.set_index(\"Time\").drop(columns=[\"Unnamed: 0\"])\n",
    "etf_c = etf_c.add_suffix('_1_Crypto')\n",
    "etf_c_2 = etf_c_2.set_index(\"Time\").drop(columns=[\"Unnamed: 0\"])\n",
    "etf_c_2 = etf_c_2.add_suffix('_2_Crypto')\n",
    "etf = etf.set_index(\"Time\").drop(columns=[\"Unnamed: 0\"])\n",
    "merge = pd.merge(etf_c,etf, left_index=True,right_index=True)\n",
    "merge_merge = pd.merge(merge, etf_c_2,left_index=True,right_index=True)\n",
    "merge_merge.rename(columns = {\"Max PDI Weights_1_Crypto\":\"Max PDI 1 Crypto\",\"Max PDI Weights_2_Crypto\":\"Max PDI 2 Crypto\",\"Max PDI Weights\":\"Max PDI ETF\",\n",
    "\"Max Sharpe Ratio Weights_1_Crypto\":\"Max Sharpe 1 Crypto\",\"Max Sharpe Ratio Weights_2_Crypto\":\"Max Sharpe 2 Crypto\",\"Max Sharpe Ratio Weights\":\"Max Sharpe ETF\",\n",
    "\"Equal Weights_1_Crypto\":\"1/N 1 Crypto\",\"Equal Weights_2_Crypto\":\"1/N 2 Crypto\",\"Equal Weights\":\"1/N ETF\"},inplace=True)\n",
    "plots = [\"Max PDI 1 Crypto\",\"Max PDI 2 Crypto\",\"Max PDI ETF\",\"Max Sharpe 1 Crypto\",\"Max Sharpe 2 Crypto\",\"Max Sharpe ETF\",\"1/N 1 Crypto\",\"1/N 2 Crypto\",\"1/N ETF\"]\n",
    "univeres_stats_our = pd.DataFrame(meanRetAn(merge_merge[plots]))\n",
    "univeres_stats_our.columns = [\"Annual Average Returns\"]\n",
    "univeres_stats_our[\"Annual Standard Deviation of Returns\"] = merge_merge[plots].std(axis=0)*np.sqrt(52)\n",
    "new = univeres_stats.append(univeres_stats_our)\n",
    "d = []\n",
    "for i in new.index:\n",
    "    if i in univeres_stats_our.index:\n",
    "        d.append(i)\n",
    "    elif i == \"URTH\":\n",
    "        d.append(i)\n",
    "    else:\n",
    "        d.append(\"\") \n",
    "color = []\n",
    "for i in new.index:\n",
    "    if i in univeres_stats_our.index:\n",
    "        color.append(\"Generated Portfolios\")\n",
    "    elif i in assets_c.columns:\n",
    "        color.append(\"Cryptocurrencies\")\n",
    "    elif i == \"URTH\":\n",
    "        color.append(\"URTH\")\n",
    "    else:\n",
    "        color.append(\"ETFs\")\n",
    "new[\"name\"] = d\n",
    "new[\"color\"] = color\n",
    "\n",
    "fig = px.scatter(new, x=\"Annual Standard Deviation of Returns\", y=\"Annual Average Returns\", color=\"color\", text=\"name\",color_discrete_sequence=px.colors.qualitative.Vivid)\n",
    "fig.update_traces(textposition='top center')\n",
    "fig.update_layout(legend_title=\"Assets\", width = 1200, height = 700,legend=dict(\n",
    "    orientation=\"h\",\n",
    "    yanchor=\"bottom\",\n",
    "    y=1.02,\n",
    "    xanchor=\"right\",\n",
    "    x=1\n",
    "))\n",
    "fig.show()"
   ]
  },
  {
   "cell_type": "code",
   "execution_count": 426,
   "metadata": {},
   "outputs": [],
   "source": [
    "#plots = [\"Max PDI 1 Crypto\",\"Max PDI 2 Crypto\",\"Max PDI ETF\",\"Max Sharpe 1 Crypto\",\"Max Sharpe 2 Crypto\",\"Max Sharpe ETF\",\"1/N 1 Crypto\",\"1/N 2 Crypto\",\"1/N ETF\"]\n",
    "#assss = ['KRE', 'IHI', 'PSJ', 'BBP', 'ARKW', 'XVG-USD','DASH-USD','IAK']"
   ]
  },
  {
   "cell_type": "code",
   "execution_count": 427,
   "metadata": {},
   "outputs": [],
   "source": [
    "univeres_stats_our = pd.DataFrame(meanRetAn(merge_merge[plots]))\n",
    "univeres_stats_our.columns = [\"Annual Average Returns\"]\n",
    "univeres_stats_our[\"Annual Standard Deviation of Returns\"] = merge_merge[plots].std(axis=0)*np.sqrt(52)\n"
   ]
  },
  {
   "cell_type": "code",
   "execution_count": 428,
   "metadata": {},
   "outputs": [],
   "source": [
    "new = univeres_stats.append(univeres_stats_our)"
   ]
  },
  {
   "cell_type": "code",
   "execution_count": 430,
   "metadata": {},
   "outputs": [],
   "source": [
    "d = []\n",
    "for i in new.index:\n",
    "    if i in univeres_stats_our.index:\n",
    "        d.append(i)\n",
    "    elif i == \"URTH\":\n",
    "        d.append(i)\n",
    "    else:\n",
    "        d.append(\"\") "
   ]
  },
  {
   "cell_type": "code",
   "execution_count": 431,
   "metadata": {},
   "outputs": [],
   "source": [
    "color = []\n",
    "for i in new.index:\n",
    "    if i in univeres_stats_our.index:\n",
    "        color.append(\"Generated Portfolios\")\n",
    "    elif i in assets_c.columns:\n",
    "        color.append(\"Cryptocurrencies\")\n",
    "    elif i == \"URTH\":\n",
    "        color.append(\"URTH\")\n",
    "    else:\n",
    "        color.append(\"ETFs\")"
   ]
  },
  {
   "cell_type": "code",
   "execution_count": 432,
   "metadata": {},
   "outputs": [],
   "source": [
    "new[\"name\"] = d\n",
    "new[\"color\"] = color"
   ]
  },
  {
   "cell_type": "code",
   "execution_count": 433,
   "metadata": {},
   "outputs": [],
   "source": [
    "fig = px.scatter(new, x=\"Annual Standard Deviation of Returns\", y=\"Annual Average Returns\", color=\"color\", text=\"name\",color_discrete_sequence=px.colors.qualitative.Vivid)\n",
    "fig.update_traces(textposition='top center')\n",
    "fig.update_layout(legend_title=\"Assets\", width = 1200, height = 700,legend=dict(\n",
    "    orientation=\"h\",\n",
    "    yanchor=\"bottom\",\n",
    "    y=1.02,\n",
    "    xanchor=\"right\",\n",
    "    x=1\n",
    "))\n",
    "fig.show()"
   ]
  },
  {
   "cell_type": "code",
   "execution_count": 243,
   "metadata": {},
   "outputs": [],
   "source": [
    "w_1= pd.read_csv(\"PDI_Boot_num_crypto_1_Sharpe Ratio_weights.csv\")\n",
    "w_2 = pd.read_csv(\"PDI_Boot_num_crypto_2_Sharpe Ratio_weights.csv\")\n",
    "w_0 = pd.read_csv(\"PDI_Boot_Sharpe Ratio_weights.csv\")"
   ]
  },
  {
   "cell_type": "code",
   "execution_count": 246,
   "metadata": {},
   "outputs": [
    {
     "name": "stdout",
     "output_type": "stream",
     "text": [
      "['KRE', 'IHI', 'PSJ', 'BBP', 'ARKW', 'XVG-USD']\n",
      "['ARKW', 'KRE', 'IAK', 'BBP', 'XVG-USD', 'DASH-USD']\n",
      "['KRE', 'BBP', 'IHI', 'IAK', 'ARKW', 'PSJ']\n"
     ]
    }
   ],
   "source": [
    "print(w_1[\"Assets\"][0])\n",
    "print(w_2[\"Assets\"][0])\n",
    "print(w_0[\"Assets\"][0])"
   ]
  },
  {
   "cell_type": "code",
   "execution_count": null,
   "metadata": {},
   "outputs": [],
   "source": []
  },
  {
   "cell_type": "code",
   "execution_count": null,
   "metadata": {},
   "outputs": [],
   "source": []
  },
  {
   "cell_type": "code",
   "execution_count": 6,
   "metadata": {},
   "outputs": [],
   "source": [
    "assets = pd.read_csv(\"weeklyReturns.csv\", index_col=\"Date\")\n",
    "#assets_c = pd.read_csv(\"crypto_weekly.csv\", index_col=\"Date\")\n",
    "#assets_c.index = pd.to_datetime(assets_c.index)\n",
    "assets.index = pd.to_datetime(assets.index)\n",
    "#assets = assets[assets.index.year >= 2016]\n",
    "#assets_c = assets_c[assets_c.index.year >= 2016]\n",
    "#assets_merge = pd.merge(assets,assets_c,left_index=True,right_index=True)\n",
    "meanret = meanRetAn(assets)\n",
    "univeres_stats = pd.DataFrame(meanret)\n",
    "univeres_stats.columns = [\"Annual Average Returns\"]\n",
    "univeres_stats[\"Annual Standard Deviation of Returns\"] = assets.std(axis=0)*np.sqrt(52)"
   ]
  },
  {
   "cell_type": "code",
   "execution_count": 7,
   "metadata": {},
   "outputs": [
    {
     "data": {
      "text/html": "<div>\n<style scoped>\n    .dataframe tbody tr th:only-of-type {\n        vertical-align: middle;\n    }\n\n    .dataframe tbody tr th {\n        vertical-align: top;\n    }\n\n    .dataframe thead th {\n        text-align: right;\n    }\n</style>\n<table border=\"1\" class=\"dataframe\">\n  <thead>\n    <tr style=\"text-align: right;\">\n      <th></th>\n      <th>Category</th>\n      <th>Asset Class</th>\n      <th>Asset Class Size</th>\n      <th>Asset Class Style</th>\n      <th>Region (General)</th>\n      <th>Region (Specific)</th>\n      <th>Sector (General)</th>\n    </tr>\n    <tr>\n      <th>Symbol</th>\n      <th></th>\n      <th></th>\n      <th></th>\n      <th></th>\n      <th></th>\n      <th></th>\n      <th></th>\n    </tr>\n  </thead>\n  <tbody>\n    <tr>\n      <th>SPY</th>\n      <td>Large Cap Growth Equities</td>\n      <td>Equity</td>\n      <td>Large-Cap</td>\n      <td>Blend</td>\n      <td>North America</td>\n      <td>U.S.</td>\n      <td>NaN</td>\n    </tr>\n    <tr>\n      <th>IVV</th>\n      <td>Large Cap Growth Equities</td>\n      <td>Equity</td>\n      <td>Large-Cap</td>\n      <td>Blend</td>\n      <td>North America</td>\n      <td>U.S.</td>\n      <td>NaN</td>\n    </tr>\n    <tr>\n      <th>VTI</th>\n      <td>Large Cap Growth Equities</td>\n      <td>Equity</td>\n      <td>Large-Cap</td>\n      <td>Blend</td>\n      <td>North America</td>\n      <td>U.S.</td>\n      <td>NaN</td>\n    </tr>\n    <tr>\n      <th>VOO</th>\n      <td>Large Cap Growth Equities</td>\n      <td>Equity</td>\n      <td>Large-Cap</td>\n      <td>Blend</td>\n      <td>North America</td>\n      <td>U.S.</td>\n      <td>NaN</td>\n    </tr>\n    <tr>\n      <th>QQQ</th>\n      <td>Large Cap Growth Equities</td>\n      <td>Equity</td>\n      <td>Large-Cap</td>\n      <td>Growth</td>\n      <td>North America</td>\n      <td>U.S.</td>\n      <td>Technology</td>\n    </tr>\n    <tr>\n      <th>...</th>\n      <td>...</td>\n      <td>...</td>\n      <td>...</td>\n      <td>...</td>\n      <td>...</td>\n      <td>...</td>\n      <td>...</td>\n    </tr>\n    <tr>\n      <th>SZK</th>\n      <td>Leveraged Equities</td>\n      <td>Equity</td>\n      <td>Large-Cap</td>\n      <td>Blend</td>\n      <td>North America</td>\n      <td>U.S.</td>\n      <td>Consumer Staples</td>\n    </tr>\n    <tr>\n      <th>SIJ</th>\n      <td>Leveraged Equities</td>\n      <td>Equity</td>\n      <td>Large-Cap</td>\n      <td>Blend</td>\n      <td>North America</td>\n      <td>U.S.</td>\n      <td>Industrials</td>\n    </tr>\n    <tr>\n      <th>SCC</th>\n      <td>Leveraged Equities</td>\n      <td>Equity</td>\n      <td>Large-Cap</td>\n      <td>Growth</td>\n      <td>North America</td>\n      <td>U.S.</td>\n      <td>Consumer Discretionary</td>\n    </tr>\n    <tr>\n      <th>FUE</th>\n      <td>Agricultural Commodities</td>\n      <td>Commodity</td>\n      <td>NaN</td>\n      <td>NaN</td>\n      <td>NaN</td>\n      <td>NaN</td>\n      <td>NaN</td>\n    </tr>\n    <tr>\n      <th>LD</th>\n      <td>Metals</td>\n      <td>Commodity</td>\n      <td>NaN</td>\n      <td>NaN</td>\n      <td>NaN</td>\n      <td>NaN</td>\n      <td>NaN</td>\n    </tr>\n  </tbody>\n</table>\n<p>1126 rows × 7 columns</p>\n</div>",
      "text/plain": "                         Category Asset Class Asset Class Size  \\\nSymbol                                                           \nSPY     Large Cap Growth Equities      Equity        Large-Cap   \nIVV     Large Cap Growth Equities      Equity        Large-Cap   \nVTI     Large Cap Growth Equities      Equity        Large-Cap   \nVOO     Large Cap Growth Equities      Equity        Large-Cap   \nQQQ     Large Cap Growth Equities      Equity        Large-Cap   \n...                           ...         ...              ...   \nSZK            Leveraged Equities      Equity        Large-Cap   \nSIJ            Leveraged Equities      Equity        Large-Cap   \nSCC            Leveraged Equities      Equity        Large-Cap   \nFUE      Agricultural Commodities   Commodity              NaN   \nLD                         Metals   Commodity              NaN   \n\n       Asset Class Style Region (General) Region (Specific)  \\\nSymbol                                                        \nSPY                Blend    North America              U.S.   \nIVV                Blend    North America              U.S.   \nVTI                Blend    North America              U.S.   \nVOO                Blend    North America              U.S.   \nQQQ               Growth    North America              U.S.   \n...                  ...              ...               ...   \nSZK                Blend    North America              U.S.   \nSIJ                Blend    North America              U.S.   \nSCC               Growth    North America              U.S.   \nFUE                  NaN              NaN               NaN   \nLD                   NaN              NaN               NaN   \n\n              Sector (General)  \nSymbol                          \nSPY                        NaN  \nIVV                        NaN  \nVTI                        NaN  \nVOO                        NaN  \nQQQ                 Technology  \n...                        ...  \nSZK           Consumer Staples  \nSIJ                Industrials  \nSCC     Consumer Discretionary  \nFUE                        NaN  \nLD                         NaN  \n\n[1126 rows x 7 columns]"
     },
     "execution_count": 7,
     "metadata": {},
     "output_type": "execute_result"
    }
   ],
   "source": [
    "cat = pd.read_csv(\"etf_category_region_etc.csv\", index_col=\"Symbol\")\n",
    "cat"
   ]
  },
  {
   "cell_type": "code",
   "execution_count": 8,
   "metadata": {},
   "outputs": [],
   "source": [
    "uni_merge_cat = pd.merge(univeres_stats,cat, right_index=True,left_index=True,how=\"left\")"
   ]
  },
  {
   "cell_type": "code",
   "execution_count": 9,
   "metadata": {},
   "outputs": [
    {
     "data": {
      "text/html": "<div>\n<style scoped>\n    .dataframe tbody tr th:only-of-type {\n        vertical-align: middle;\n    }\n\n    .dataframe tbody tr th {\n        vertical-align: top;\n    }\n\n    .dataframe thead th {\n        text-align: right;\n    }\n</style>\n<table border=\"1\" class=\"dataframe\">\n  <thead>\n    <tr style=\"text-align: right;\">\n      <th></th>\n      <th>Annual Average Returns</th>\n      <th>Annual Standard Deviation of Returns</th>\n      <th>Category</th>\n      <th>Asset Class</th>\n      <th>Asset Class Size</th>\n      <th>Asset Class Style</th>\n      <th>Region (General)</th>\n      <th>Region (Specific)</th>\n      <th>Sector (General)</th>\n    </tr>\n  </thead>\n  <tbody>\n    <tr>\n      <th>SPY</th>\n      <td>0.130413</td>\n      <td>0.159263</td>\n      <td>Large Cap Growth Equities</td>\n      <td>Equity</td>\n      <td>Large-Cap</td>\n      <td>Blend</td>\n      <td>North America</td>\n      <td>U.S.</td>\n      <td>NaN</td>\n    </tr>\n    <tr>\n      <th>IVV</th>\n      <td>0.129877</td>\n      <td>0.159672</td>\n      <td>Large Cap Growth Equities</td>\n      <td>Equity</td>\n      <td>Large-Cap</td>\n      <td>Blend</td>\n      <td>North America</td>\n      <td>U.S.</td>\n      <td>NaN</td>\n    </tr>\n    <tr>\n      <th>VTI</th>\n      <td>0.131736</td>\n      <td>0.165219</td>\n      <td>Large Cap Growth Equities</td>\n      <td>Equity</td>\n      <td>Large-Cap</td>\n      <td>Blend</td>\n      <td>North America</td>\n      <td>U.S.</td>\n      <td>NaN</td>\n    </tr>\n    <tr>\n      <th>VOO</th>\n      <td>0.131128</td>\n      <td>0.159148</td>\n      <td>Large Cap Growth Equities</td>\n      <td>Equity</td>\n      <td>Large-Cap</td>\n      <td>Blend</td>\n      <td>North America</td>\n      <td>U.S.</td>\n      <td>NaN</td>\n    </tr>\n    <tr>\n      <th>QQQ</th>\n      <td>0.220441</td>\n      <td>0.183092</td>\n      <td>Large Cap Growth Equities</td>\n      <td>Equity</td>\n      <td>Large-Cap</td>\n      <td>Growth</td>\n      <td>North America</td>\n      <td>U.S.</td>\n      <td>Technology</td>\n    </tr>\n    <tr>\n      <th>...</th>\n      <td>...</td>\n      <td>...</td>\n      <td>...</td>\n      <td>...</td>\n      <td>...</td>\n      <td>...</td>\n      <td>...</td>\n      <td>...</td>\n      <td>...</td>\n    </tr>\n    <tr>\n      <th>SZK</th>\n      <td>-0.254363</td>\n      <td>0.408387</td>\n      <td>Leveraged Equities</td>\n      <td>Equity</td>\n      <td>Large-Cap</td>\n      <td>Blend</td>\n      <td>North America</td>\n      <td>U.S.</td>\n      <td>Consumer Staples</td>\n    </tr>\n    <tr>\n      <th>SIJ</th>\n      <td>-0.305407</td>\n      <td>0.377210</td>\n      <td>Leveraged Equities</td>\n      <td>Equity</td>\n      <td>Large-Cap</td>\n      <td>Blend</td>\n      <td>North America</td>\n      <td>U.S.</td>\n      <td>Industrials</td>\n    </tr>\n    <tr>\n      <th>SCC</th>\n      <td>-0.308837</td>\n      <td>0.328717</td>\n      <td>Leveraged Equities</td>\n      <td>Equity</td>\n      <td>Large-Cap</td>\n      <td>Growth</td>\n      <td>North America</td>\n      <td>U.S.</td>\n      <td>Consumer Discretionary</td>\n    </tr>\n    <tr>\n      <th>FUE</th>\n      <td>-0.043556</td>\n      <td>0.282865</td>\n      <td>Agricultural Commodities</td>\n      <td>Commodity</td>\n      <td>NaN</td>\n      <td>NaN</td>\n      <td>NaN</td>\n      <td>NaN</td>\n      <td>NaN</td>\n    </tr>\n    <tr>\n      <th>LD</th>\n      <td>0.003693</td>\n      <td>0.485573</td>\n      <td>Metals</td>\n      <td>Commodity</td>\n      <td>NaN</td>\n      <td>NaN</td>\n      <td>NaN</td>\n      <td>NaN</td>\n      <td>NaN</td>\n    </tr>\n  </tbody>\n</table>\n<p>1126 rows × 9 columns</p>\n</div>",
      "text/plain": "     Annual Average Returns  Annual Standard Deviation of Returns  \\\nSPY                0.130413                              0.159263   \nIVV                0.129877                              0.159672   \nVTI                0.131736                              0.165219   \nVOO                0.131128                              0.159148   \nQQQ                0.220441                              0.183092   \n..                      ...                                   ...   \nSZK               -0.254363                              0.408387   \nSIJ               -0.305407                              0.377210   \nSCC               -0.308837                              0.328717   \nFUE               -0.043556                              0.282865   \nLD                 0.003693                              0.485573   \n\n                      Category Asset Class Asset Class Size Asset Class Style  \\\nSPY  Large Cap Growth Equities      Equity        Large-Cap             Blend   \nIVV  Large Cap Growth Equities      Equity        Large-Cap             Blend   \nVTI  Large Cap Growth Equities      Equity        Large-Cap             Blend   \nVOO  Large Cap Growth Equities      Equity        Large-Cap             Blend   \nQQQ  Large Cap Growth Equities      Equity        Large-Cap            Growth   \n..                         ...         ...              ...               ...   \nSZK         Leveraged Equities      Equity        Large-Cap             Blend   \nSIJ         Leveraged Equities      Equity        Large-Cap             Blend   \nSCC         Leveraged Equities      Equity        Large-Cap            Growth   \nFUE   Agricultural Commodities   Commodity              NaN               NaN   \nLD                      Metals   Commodity              NaN               NaN   \n\n    Region (General) Region (Specific)        Sector (General)  \nSPY    North America              U.S.                     NaN  \nIVV    North America              U.S.                     NaN  \nVTI    North America              U.S.                     NaN  \nVOO    North America              U.S.                     NaN  \nQQQ    North America              U.S.              Technology  \n..               ...               ...                     ...  \nSZK    North America              U.S.        Consumer Staples  \nSIJ    North America              U.S.             Industrials  \nSCC    North America              U.S.  Consumer Discretionary  \nFUE              NaN               NaN                     NaN  \nLD               NaN               NaN                     NaN  \n\n[1126 rows x 9 columns]"
     },
     "execution_count": 9,
     "metadata": {},
     "output_type": "execute_result"
    }
   ],
   "source": [
    "uni_merge_cat"
   ]
  },
  {
   "cell_type": "code",
   "execution_count": 16,
   "metadata": {},
   "outputs": [],
   "source": [
    "uni_merge_cat.replace(np.nan,\"Other\", inplace=True)"
   ]
  },
  {
   "cell_type": "code",
   "execution_count": 33,
   "metadata": {},
   "outputs": [],
   "source": [
    "fig = px.scatter(uni_merge_cat, x=\"Annual Standard Deviation of Returns\", y=\"Annual Average Returns\", color=\"Sector (General)\",color_discrete_sequence=px.colors.qualitative.Dark24)\n",
    "fig.add_hline(uni_merge_cat.loc[\"URTH\"][\"Annual Average Returns\"],line_dash=\"dash\",\n",
    "              annotation_text=\"MSCI World: {}\".format(uni_merge_cat.loc[\"URTH\"][\"Annual Average Returns\"].round(2)))\n",
    "fig.add_vline(uni_merge_cat.loc[\"URTH\"][\"Annual Standard Deviation of Returns\"], line_dash=\"dash\",\n",
    "              annotation_text=\"MSCI World: {}\".format(uni_merge_cat.loc[\"URTH\"][\"Annual Standard Deviation of Returns\"].round(2)))\n",
    "\n",
    "fig.update_layout(legend_title=\"Assets\", width = 1200, height = 700)\n",
    "fig.show()"
   ]
  },
  {
   "cell_type": "code",
   "execution_count": null,
   "metadata": {},
   "outputs": [],
   "source": []
  }
 ],
 "metadata": {
  "kernelspec": {
   "display_name": "Python 3.9.1 64-bit",
   "metadata": {
    "interpreter": {
     "hash": "aee8b7b246df8f9039afb4144a1f6fd8d2ca17a180786b69acc140d282b71a49"
    }
   },
   "name": "python3"
  },
  "language_info": {
   "codemirror_mode": {
    "name": "ipython",
    "version": 3
   },
   "file_extension": ".py",
   "mimetype": "text/x-python",
   "name": "python",
   "nbconvert_exporter": "python",
   "pygments_lexer": "ipython3",
   "version": "3.9.1"
  },
  "orig_nbformat": 2
 },
 "nbformat": 4,
 "nbformat_minor": 2
}