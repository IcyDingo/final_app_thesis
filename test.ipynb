{
 "metadata": {
  "language_info": {
   "codemirror_mode": {
    "name": "ipython",
    "version": 3
   },
   "file_extension": ".py",
   "mimetype": "text/x-python",
   "name": "python",
   "nbconvert_exporter": "python",
   "pygments_lexer": "ipython3",
   "version": "3.9.1"
  },
  "orig_nbformat": 2,
  "kernelspec": {
   "name": "python3",
   "display_name": "Python 3.9.1 64-bit",
   "metadata": {
    "interpreter": {
     "hash": "aee8b7b246df8f9039afb4144a1f6fd8d2ca17a180786b69acc140d282b71a49"
    }
   }
  }
 },
 "nbformat": 4,
 "nbformat_minor": 2,
 "cells": [
  {
   "cell_type": "code",
   "execution_count": 1,
   "metadata": {},
   "outputs": [],
   "source": [
    "import pandas as pd"
   ]
  },
  {
   "cell_type": "code",
   "execution_count": 44,
   "metadata": {},
   "outputs": [
    {
     "output_type": "execute_result",
     "data": {
      "text/plain": [
       "['SKYY', 'SOXX', 'PRN', 'IGN']"
      ]
     },
     "metadata": {},
     "execution_count": 44
    }
   ],
   "source": [
    "[str(x) for x in ['SKYY', 'SOXX', 'PRN', 'IGN']]"
   ]
  },
  {
   "cell_type": "code",
   "execution_count": 45,
   "metadata": {},
   "outputs": [
    {
     "output_type": "execute_result",
     "data": {
      "text/plain": [
       "['SKYY', 'SOXX', 'PRN', 'IGN']"
      ]
     },
     "metadata": {},
     "execution_count": 45
    }
   ],
   "source": [
    "list(['SKYY', 'SOXX', 'PRN', 'IGN'])"
   ]
  },
  {
   "cell_type": "code",
   "execution_count": 42,
   "metadata": {},
   "outputs": [
    {
     "output_type": "execute_result",
     "data": {
      "text/plain": [
       "           Category                             Fundamental Cluster  \\\n",
       "symbol                                                                \n",
       "SKYY     Technology  Low Fundamental ETF’s (Energy, Health,Finance)   \n",
       "SOXX     Technology                   High Fundamental Broad Market   \n",
       "PRN     Industrials                   High Fundamental Broad Market   \n",
       "IGN      Technology                   Mid Fundamentals Broad Market   \n",
       "\n",
       "                                             Risk Cluster  \\\n",
       "symbol                                                      \n",
       "SKYY    Moderat/High Risk - Slightly Above Market Vola...   \n",
       "SOXX    Moderat/High Risk - Slightly Above Market Vola...   \n",
       "PRN     Moderat/High Risk - Slightly Above Market Vola...   \n",
       "IGN     Moderat/High Risk - Slightly Above Market Vola...   \n",
       "\n",
       "       Enviromental Cluster Impact       Social Impact Cluster  \\\n",
       "symbol                                                           \n",
       "SKYY       High Env_Responsibility  High Social_Responsibility   \n",
       "SOXX    Neutral Env_Responsibility  High Social_Responsibility   \n",
       "PRN        High Env_Responsibility  High Social_Responsibility   \n",
       "IGN        High Env_Responsibility  High Social_Responsibility   \n",
       "\n",
       "         Gouvernace Impact Cluster  \n",
       "symbol                              \n",
       "SKYY    Neutral Gov_Responsibility  \n",
       "SOXX    Neutral Gov_Responsibility  \n",
       "PRN     Neutral Gov_Responsibility  \n",
       "IGN     Neutral Gov_Responsibility  "
      ],
      "text/html": "<div>\n<style scoped>\n    .dataframe tbody tr th:only-of-type {\n        vertical-align: middle;\n    }\n\n    .dataframe tbody tr th {\n        vertical-align: top;\n    }\n\n    .dataframe thead th {\n        text-align: right;\n    }\n</style>\n<table border=\"1\" class=\"dataframe\">\n  <thead>\n    <tr style=\"text-align: right;\">\n      <th></th>\n      <th>Category</th>\n      <th>Fundamental Cluster</th>\n      <th>Risk Cluster</th>\n      <th>Enviromental Cluster Impact</th>\n      <th>Social Impact Cluster</th>\n      <th>Gouvernace Impact Cluster</th>\n    </tr>\n    <tr>\n      <th>symbol</th>\n      <th></th>\n      <th></th>\n      <th></th>\n      <th></th>\n      <th></th>\n      <th></th>\n    </tr>\n  </thead>\n  <tbody>\n    <tr>\n      <th>SKYY</th>\n      <td>Technology</td>\n      <td>Low Fundamental ETF’s (Energy, Health,Finance)</td>\n      <td>Moderat/High Risk - Slightly Above Market Vola...</td>\n      <td>High Env_Responsibility</td>\n      <td>High Social_Responsibility</td>\n      <td>Neutral Gov_Responsibility</td>\n    </tr>\n    <tr>\n      <th>SOXX</th>\n      <td>Technology</td>\n      <td>High Fundamental Broad Market</td>\n      <td>Moderat/High Risk - Slightly Above Market Vola...</td>\n      <td>Neutral Env_Responsibility</td>\n      <td>High Social_Responsibility</td>\n      <td>Neutral Gov_Responsibility</td>\n    </tr>\n    <tr>\n      <th>PRN</th>\n      <td>Industrials</td>\n      <td>High Fundamental Broad Market</td>\n      <td>Moderat/High Risk - Slightly Above Market Vola...</td>\n      <td>High Env_Responsibility</td>\n      <td>High Social_Responsibility</td>\n      <td>Neutral Gov_Responsibility</td>\n    </tr>\n    <tr>\n      <th>IGN</th>\n      <td>Technology</td>\n      <td>Mid Fundamentals Broad Market</td>\n      <td>Moderat/High Risk - Slightly Above Market Vola...</td>\n      <td>High Env_Responsibility</td>\n      <td>High Social_Responsibility</td>\n      <td>Neutral Gov_Responsibility</td>\n    </tr>\n  </tbody>\n</table>\n</div>"
     },
     "metadata": {},
     "execution_count": 42
    }
   ],
   "source": [
    "df.loc[['SKYY', 'SOXX', 'PRN', 'IGN']]"
   ]
  },
  {
   "cell_type": "code",
   "execution_count": 21,
   "metadata": {},
   "outputs": [],
   "source": [
    "df = pd.read_csv(\"all_clusters.csv\").rename(columns={\"Unnamed: 0\": \"symbol\",\"kmean_env_cluster\": \"Enviromental Cluster Impact\",\"Kmean_Social_cluster\":\"Social Impact Cluster\",\"Kmean_Gov_cluster\": \"Gouvernace Impact Cluster\"}).set_index(\"symbol\")"
   ]
  },
  {
   "cell_type": "code",
   "execution_count": 24,
   "metadata": {},
   "outputs": [
    {
     "output_type": "execute_result",
     "data": {
      "text/plain": [
       "                 SPY       IVV       VTI       VOO       QQQ       VEA  \\\n",
       "Date                                                                     \n",
       "2015-01-14 -0.007167 -0.007018 -0.005752 -0.007006 -0.003946  0.011404   \n",
       "2015-01-21  0.011053  0.010725  0.008968  0.010691  0.011688  0.028725   \n",
       "2015-01-28 -0.014477 -0.014572 -0.010608 -0.014713 -0.011944 -0.001566   \n",
       "2015-02-04  0.019586  0.019601  0.018932  0.019947  0.019322  0.017250   \n",
       "2015-02-11  0.014065  0.014211  0.013651  0.014106  0.018567 -0.003083   \n",
       "...              ...       ...       ...       ...       ...       ...   \n",
       "2020-12-02  0.011388  0.011291  0.009119  0.011465  0.025550  0.009851   \n",
       "2020-12-09  0.000164  0.000489  0.005338  0.000386 -0.008359  0.009538   \n",
       "2020-12-16  0.009050  0.008817  0.011932  0.008958  0.025456  0.013313   \n",
       "2020-12-23 -0.002791 -0.002758  0.004000 -0.002848 -0.000716 -0.002678   \n",
       "2020-12-30  0.012025  0.011982  0.006504  0.011959  0.015477  0.018864   \n",
       "\n",
       "                IEFA       AGG       VWO      IEMG  ...       SMN       EFU  \\\n",
       "Date                                                ...                       \n",
       "2015-01-14  0.008895  0.004417  0.006056  0.010519  ...  0.016906 -0.017021   \n",
       "2015-01-21  0.028105  0.000628  0.032104  0.025494  ... -0.051443 -0.059740   \n",
       "2015-01-28 -0.001787  0.005203 -0.003645 -0.003522  ...  0.052249  0.001612   \n",
       "2015-02-04  0.017899  0.000406  0.002195  0.006445  ... -0.069453 -0.036544   \n",
       "2015-02-11 -0.000703 -0.009559 -0.016306 -0.020244  ... -0.047281 -0.001670   \n",
       "...              ...       ...       ...       ...  ...       ...       ...   \n",
       "2020-12-02  0.007732 -0.001227  0.004554  0.005711  ...  0.004591 -0.017192   \n",
       "2020-12-09  0.006345 -0.000849  0.007624  0.012861  ... -0.036563 -0.016035   \n",
       "2020-12-16  0.014989  0.003146  0.017996  0.015998  ...  0.011385 -0.026667   \n",
       "2020-12-23 -0.000875  0.000212 -0.005669 -0.006406  ... -0.009381  0.004566   \n",
       "2020-12-30  0.017070  0.001866  0.021138  0.026616  ... -0.025568 -0.031818   \n",
       "\n",
       "                 RXD       EEH       SBM       SZK       SIJ       SCC  \\\n",
       "Date                                                                     \n",
       "2015-01-14 -0.017735  0.012709  0.020985  0.024178  0.010705  0.016117   \n",
       "2015-01-21 -0.018055 -0.000661 -0.034380 -0.068240 -0.020521 -0.016583   \n",
       "2015-01-28 -0.001415 -0.041639 -0.005418  0.057007  0.001802 -0.050587   \n",
       "2015-02-04  0.028329  0.040000 -0.010506 -0.005618 -0.042725 -0.030888   \n",
       "2015-02-11 -0.019284  0.011273 -0.025560 -0.033145 -0.015269 -0.016733   \n",
       "...              ...       ...       ...       ...       ...       ...   \n",
       "2020-12-02 -0.060804  0.008802  0.001567  0.004864  0.019194 -0.011848   \n",
       "2020-12-09 -0.022908  0.003794 -0.017997 -0.050339 -0.030132  0.011191   \n",
       "2020-12-16  0.007136  0.005669  0.005578 -0.017329  0.001942 -0.045059   \n",
       "2020-12-23 -0.008097  0.006013 -0.004754 -0.025934 -0.015504  0.009934   \n",
       "2020-12-30 -0.009184  0.010833 -0.011943 -0.028754  0.001969 -0.028688   \n",
       "\n",
       "                 FUE        LD  \n",
       "Date                            \n",
       "2015-01-14 -0.011710 -0.040179  \n",
       "2015-01-21  0.017773  0.083463  \n",
       "2015-01-28  0.046566 -0.020510  \n",
       "2015-02-04 -0.082314 -0.017288  \n",
       "2015-02-11  0.000000 -0.023538  \n",
       "...              ...       ...  \n",
       "2020-12-02  0.000000  0.013520  \n",
       "2020-12-09 -0.001416  0.022467  \n",
       "2020-12-16 -0.058156 -0.027466  \n",
       "2020-12-23 -0.006024 -0.038597  \n",
       "2020-12-30 -0.006061  0.008813  \n",
       "\n",
       "[308 rows x 1126 columns]"
      ],
      "text/html": "<div>\n<style scoped>\n    .dataframe tbody tr th:only-of-type {\n        vertical-align: middle;\n    }\n\n    .dataframe tbody tr th {\n        vertical-align: top;\n    }\n\n    .dataframe thead th {\n        text-align: right;\n    }\n</style>\n<table border=\"1\" class=\"dataframe\">\n  <thead>\n    <tr style=\"text-align: right;\">\n      <th></th>\n      <th>SPY</th>\n      <th>IVV</th>\n      <th>VTI</th>\n      <th>VOO</th>\n      <th>QQQ</th>\n      <th>VEA</th>\n      <th>IEFA</th>\n      <th>AGG</th>\n      <th>VWO</th>\n      <th>IEMG</th>\n      <th>...</th>\n      <th>SMN</th>\n      <th>EFU</th>\n      <th>RXD</th>\n      <th>EEH</th>\n      <th>SBM</th>\n      <th>SZK</th>\n      <th>SIJ</th>\n      <th>SCC</th>\n      <th>FUE</th>\n      <th>LD</th>\n    </tr>\n    <tr>\n      <th>Date</th>\n      <th></th>\n      <th></th>\n      <th></th>\n      <th></th>\n      <th></th>\n      <th></th>\n      <th></th>\n      <th></th>\n      <th></th>\n      <th></th>\n      <th></th>\n      <th></th>\n      <th></th>\n      <th></th>\n      <th></th>\n      <th></th>\n      <th></th>\n      <th></th>\n      <th></th>\n      <th></th>\n      <th></th>\n    </tr>\n  </thead>\n  <tbody>\n    <tr>\n      <th>2015-01-14</th>\n      <td>-0.007167</td>\n      <td>-0.007018</td>\n      <td>-0.005752</td>\n      <td>-0.007006</td>\n      <td>-0.003946</td>\n      <td>0.011404</td>\n      <td>0.008895</td>\n      <td>0.004417</td>\n      <td>0.006056</td>\n      <td>0.010519</td>\n      <td>...</td>\n      <td>0.016906</td>\n      <td>-0.017021</td>\n      <td>-0.017735</td>\n      <td>0.012709</td>\n      <td>0.020985</td>\n      <td>0.024178</td>\n      <td>0.010705</td>\n      <td>0.016117</td>\n      <td>-0.011710</td>\n      <td>-0.040179</td>\n    </tr>\n    <tr>\n      <th>2015-01-21</th>\n      <td>0.011053</td>\n      <td>0.010725</td>\n      <td>0.008968</td>\n      <td>0.010691</td>\n      <td>0.011688</td>\n      <td>0.028725</td>\n      <td>0.028105</td>\n      <td>0.000628</td>\n      <td>0.032104</td>\n      <td>0.025494</td>\n      <td>...</td>\n      <td>-0.051443</td>\n      <td>-0.059740</td>\n      <td>-0.018055</td>\n      <td>-0.000661</td>\n      <td>-0.034380</td>\n      <td>-0.068240</td>\n      <td>-0.020521</td>\n      <td>-0.016583</td>\n      <td>0.017773</td>\n      <td>0.083463</td>\n    </tr>\n    <tr>\n      <th>2015-01-28</th>\n      <td>-0.014477</td>\n      <td>-0.014572</td>\n      <td>-0.010608</td>\n      <td>-0.014713</td>\n      <td>-0.011944</td>\n      <td>-0.001566</td>\n      <td>-0.001787</td>\n      <td>0.005203</td>\n      <td>-0.003645</td>\n      <td>-0.003522</td>\n      <td>...</td>\n      <td>0.052249</td>\n      <td>0.001612</td>\n      <td>-0.001415</td>\n      <td>-0.041639</td>\n      <td>-0.005418</td>\n      <td>0.057007</td>\n      <td>0.001802</td>\n      <td>-0.050587</td>\n      <td>0.046566</td>\n      <td>-0.020510</td>\n    </tr>\n    <tr>\n      <th>2015-02-04</th>\n      <td>0.019586</td>\n      <td>0.019601</td>\n      <td>0.018932</td>\n      <td>0.019947</td>\n      <td>0.019322</td>\n      <td>0.017250</td>\n      <td>0.017899</td>\n      <td>0.000406</td>\n      <td>0.002195</td>\n      <td>0.006445</td>\n      <td>...</td>\n      <td>-0.069453</td>\n      <td>-0.036544</td>\n      <td>0.028329</td>\n      <td>0.040000</td>\n      <td>-0.010506</td>\n      <td>-0.005618</td>\n      <td>-0.042725</td>\n      <td>-0.030888</td>\n      <td>-0.082314</td>\n      <td>-0.017288</td>\n    </tr>\n    <tr>\n      <th>2015-02-11</th>\n      <td>0.014065</td>\n      <td>0.014211</td>\n      <td>0.013651</td>\n      <td>0.014106</td>\n      <td>0.018567</td>\n      <td>-0.003083</td>\n      <td>-0.000703</td>\n      <td>-0.009559</td>\n      <td>-0.016306</td>\n      <td>-0.020244</td>\n      <td>...</td>\n      <td>-0.047281</td>\n      <td>-0.001670</td>\n      <td>-0.019284</td>\n      <td>0.011273</td>\n      <td>-0.025560</td>\n      <td>-0.033145</td>\n      <td>-0.015269</td>\n      <td>-0.016733</td>\n      <td>0.000000</td>\n      <td>-0.023538</td>\n    </tr>\n    <tr>\n      <th>...</th>\n      <td>...</td>\n      <td>...</td>\n      <td>...</td>\n      <td>...</td>\n      <td>...</td>\n      <td>...</td>\n      <td>...</td>\n      <td>...</td>\n      <td>...</td>\n      <td>...</td>\n      <td>...</td>\n      <td>...</td>\n      <td>...</td>\n      <td>...</td>\n      <td>...</td>\n      <td>...</td>\n      <td>...</td>\n      <td>...</td>\n      <td>...</td>\n      <td>...</td>\n      <td>...</td>\n    </tr>\n    <tr>\n      <th>2020-12-02</th>\n      <td>0.011388</td>\n      <td>0.011291</td>\n      <td>0.009119</td>\n      <td>0.011465</td>\n      <td>0.025550</td>\n      <td>0.009851</td>\n      <td>0.007732</td>\n      <td>-0.001227</td>\n      <td>0.004554</td>\n      <td>0.005711</td>\n      <td>...</td>\n      <td>0.004591</td>\n      <td>-0.017192</td>\n      <td>-0.060804</td>\n      <td>0.008802</td>\n      <td>0.001567</td>\n      <td>0.004864</td>\n      <td>0.019194</td>\n      <td>-0.011848</td>\n      <td>0.000000</td>\n      <td>0.013520</td>\n    </tr>\n    <tr>\n      <th>2020-12-09</th>\n      <td>0.000164</td>\n      <td>0.000489</td>\n      <td>0.005338</td>\n      <td>0.000386</td>\n      <td>-0.008359</td>\n      <td>0.009538</td>\n      <td>0.006345</td>\n      <td>-0.000849</td>\n      <td>0.007624</td>\n      <td>0.012861</td>\n      <td>...</td>\n      <td>-0.036563</td>\n      <td>-0.016035</td>\n      <td>-0.022908</td>\n      <td>0.003794</td>\n      <td>-0.017997</td>\n      <td>-0.050339</td>\n      <td>-0.030132</td>\n      <td>0.011191</td>\n      <td>-0.001416</td>\n      <td>0.022467</td>\n    </tr>\n    <tr>\n      <th>2020-12-16</th>\n      <td>0.009050</td>\n      <td>0.008817</td>\n      <td>0.011932</td>\n      <td>0.008958</td>\n      <td>0.025456</td>\n      <td>0.013313</td>\n      <td>0.014989</td>\n      <td>0.003146</td>\n      <td>0.017996</td>\n      <td>0.015998</td>\n      <td>...</td>\n      <td>0.011385</td>\n      <td>-0.026667</td>\n      <td>0.007136</td>\n      <td>0.005669</td>\n      <td>0.005578</td>\n      <td>-0.017329</td>\n      <td>0.001942</td>\n      <td>-0.045059</td>\n      <td>-0.058156</td>\n      <td>-0.027466</td>\n    </tr>\n    <tr>\n      <th>2020-12-23</th>\n      <td>-0.002791</td>\n      <td>-0.002758</td>\n      <td>0.004000</td>\n      <td>-0.002848</td>\n      <td>-0.000716</td>\n      <td>-0.002678</td>\n      <td>-0.000875</td>\n      <td>0.000212</td>\n      <td>-0.005669</td>\n      <td>-0.006406</td>\n      <td>...</td>\n      <td>-0.009381</td>\n      <td>0.004566</td>\n      <td>-0.008097</td>\n      <td>0.006013</td>\n      <td>-0.004754</td>\n      <td>-0.025934</td>\n      <td>-0.015504</td>\n      <td>0.009934</td>\n      <td>-0.006024</td>\n      <td>-0.038597</td>\n    </tr>\n    <tr>\n      <th>2020-12-30</th>\n      <td>0.012025</td>\n      <td>0.011982</td>\n      <td>0.006504</td>\n      <td>0.011959</td>\n      <td>0.015477</td>\n      <td>0.018864</td>\n      <td>0.017070</td>\n      <td>0.001866</td>\n      <td>0.021138</td>\n      <td>0.026616</td>\n      <td>...</td>\n      <td>-0.025568</td>\n      <td>-0.031818</td>\n      <td>-0.009184</td>\n      <td>0.010833</td>\n      <td>-0.011943</td>\n      <td>-0.028754</td>\n      <td>0.001969</td>\n      <td>-0.028688</td>\n      <td>-0.006061</td>\n      <td>0.008813</td>\n    </tr>\n  </tbody>\n</table>\n<p>308 rows × 1126 columns</p>\n</div>"
     },
     "metadata": {},
     "execution_count": 24
    }
   ],
   "source": [
    "pd.read_csv(\"weeklyReturns.csv\", index_col=\"Date\")"
   ]
  },
  {
   "cell_type": "code",
   "execution_count": null,
   "metadata": {},
   "outputs": [],
   "source": []
  }
 ]
}