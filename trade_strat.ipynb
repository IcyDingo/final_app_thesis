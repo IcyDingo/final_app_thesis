{
 "metadata": {
  "language_info": {
   "codemirror_mode": {
    "name": "ipython",
    "version": 3
   },
   "file_extension": ".py",
   "mimetype": "text/x-python",
   "name": "python",
   "nbconvert_exporter": "python",
   "pygments_lexer": "ipython3",
   "version": "3.9.1"
  },
  "orig_nbformat": 2,
  "kernelspec": {
   "name": "python3",
   "display_name": "Python 3.9.1 64-bit",
   "metadata": {
    "interpreter": {
     "hash": "aee8b7b246df8f9039afb4144a1f6fd8d2ca17a180786b69acc140d282b71a49"
    }
   }
  }
 },
 "nbformat": 4,
 "nbformat_minor": 2,
 "cells": [
  {
   "cell_type": "code",
   "execution_count": 112,
   "metadata": {},
   "outputs": [],
   "source": [
    "import pandas as pd\n",
    "import numpy as np \n",
    "import random\n",
    "from sklearn.decomposition import PCA\n",
    "from tqdm import tqdm\n",
    "import plotly.express as px \n",
    "import plotly.io as pio \n",
    "pio.renderers.default = \"browser\""
   ]
  },
  {
   "cell_type": "code",
   "execution_count": 46,
   "metadata": {},
   "outputs": [],
   "source": [
    "import random\n",
    "n = 5\n",
    "w = [[0.2,0.2,0.2,0.2,0.2]]\n",
    "for i in range(1,30000):\n",
    "    weights = [random.random() for _ in range(n)]\n",
    "    sum_weights = sum(weights)\n",
    "    weights = [1*w/sum_weights for w in weights]\n",
    "    w.append(list(np.round(weights,2)))\n",
    "\n",
    "seen = set()\n",
    "samples_mini = [x for x in w if frozenset(x) not in seen and not seen.add(frozenset(x))]"
   ]
  },
  {
   "cell_type": "code",
   "execution_count": 47,
   "metadata": {},
   "outputs": [
    {
     "output_type": "execute_result",
     "data": {
      "text/plain": [
       "21557"
      ]
     },
     "metadata": {},
     "execution_count": 47
    }
   ],
   "source": [
    "len(samples_mini)"
   ]
  },
  {
   "cell_type": "code",
   "execution_count": 104,
   "metadata": {},
   "outputs": [],
   "source": [
    "def calculate_pdi_weights( returns,return_mean_range): \n",
    "\n",
    "    n = len(returns.columns)\n",
    "    w = [[(100/n)/100]*n]\n",
    "    for i in range(1,30000):\n",
    "        weights = [random.random() for _ in range(n)]\n",
    "        sum_weights = sum(weights)\n",
    "        weights = [1*w/sum_weights for w in weights]\n",
    "        w.append(list(np.round(weights,2)))\n",
    "    seen = set()\n",
    "    samples_weigth = [x for x in w if frozenset(x) not in seen and not seen.add(frozenset(x))]\n",
    "\n",
    "\n",
    "    def meanRetAn(data):             \n",
    "        Result = 1\n",
    "        \n",
    "        for i in data:\n",
    "            Result *= (1+i)\n",
    "            \n",
    "        Result = Result**(1/float(len(data)/return_mean_range))-1\n",
    "        \n",
    "        return(Result)\n",
    "\n",
    "    pca = PCA()\n",
    "    PDI_dict = {}\n",
    "\n",
    "    for y,num in tqdm(zip(samples_weigth, range(0,len(samples_weigth),1))):\n",
    "        \n",
    "        port_ret  = returns.mul(y,axis=1).sum(axis=1)\n",
    "\n",
    "        ann_ret = meanRetAn(list(port_ret))\n",
    "        an_cov = returns.cov()\n",
    "        port_std = np.sqrt(np.dot(np.array(y).T, np.dot(an_cov, y)))*np.sqrt(return_mean_range)\n",
    "        corr_matrix = np.array(returns.mul(y).cov())\n",
    "        principalComponents = pca.fit(corr_matrix)\n",
    "        PDI = 2*sum(principalComponents.explained_variance_ratio_*range(1,len(principalComponents.explained_variance_ratio_)+1,1))-1\n",
    "\n",
    "        PDI_dict[num ] = {}\n",
    "        PDI_dict[num ][\"PDI_INDEX\"] = PDI\n",
    "        PDI_dict[num ][\"# of Assets\"] = len(y)\n",
    "        PDI_dict[num ][\"Sharpe Ratio\"] = ann_ret/port_std\n",
    "        PDI_dict[num ][\"Annual Return\"] = ann_ret\n",
    "        PDI_dict[num ][\"weights\"] = y\n",
    "        PDI_dict[num ][\"Annual STD\"] = port_std\n",
    "\n",
    "    df = pd.DataFrame(PDI_dict).T\n",
    "    df[\"PDI_INDEX\"] = df[\"PDI_INDEX\"].astype(float)\n",
    "    df[\"Sharpe Ratio\"] = df[\"Sharpe Ratio\"].astype(float)\n",
    "    df[\"Annual Return\"] = df[\"Annual Return\"].astype(float)\n",
    "    df[\"Annual STD\"] = df[\"Annual STD\"].astype(float)\n",
    "\n",
    "    return df"
   ]
  },
  {
   "cell_type": "code",
   "execution_count": 105,
   "metadata": {},
   "outputs": [
    {
     "output_type": "execute_result",
     "data": {
      "text/plain": [
       "                 SPY       IVV       VTI       VOO       QQQ       VEA  \\\n",
       "Date                                                                     \n",
       "2015-01-14 -0.007167 -0.007018 -0.005752 -0.007006 -0.003946  0.011404   \n",
       "2015-01-21  0.011053  0.010725  0.008968  0.010691  0.011688  0.028725   \n",
       "2015-01-28 -0.014477 -0.014572 -0.010608 -0.014713 -0.011944 -0.001566   \n",
       "2015-02-04  0.019586  0.019601  0.018932  0.019947  0.019322  0.017250   \n",
       "2015-02-11  0.014065  0.014211  0.013651  0.014106  0.018567 -0.003083   \n",
       "\n",
       "                IEFA       AGG       VWO      IEMG  ...       SMN       EFU  \\\n",
       "Date                                                ...                       \n",
       "2015-01-14  0.008895  0.004417  0.006056  0.010519  ...  0.016906 -0.017021   \n",
       "2015-01-21  0.028105  0.000628  0.032104  0.025494  ... -0.051443 -0.059740   \n",
       "2015-01-28 -0.001787  0.005203 -0.003645 -0.003522  ...  0.052249  0.001612   \n",
       "2015-02-04  0.017899  0.000406  0.002195  0.006445  ... -0.069453 -0.036544   \n",
       "2015-02-11 -0.000703 -0.009559 -0.016306 -0.020244  ... -0.047281 -0.001670   \n",
       "\n",
       "                 RXD       EEH       SBM       SZK       SIJ       SCC  \\\n",
       "Date                                                                     \n",
       "2015-01-14 -0.017735  0.012709  0.020985  0.024178  0.010705  0.016117   \n",
       "2015-01-21 -0.018055 -0.000661 -0.034380 -0.068240 -0.020521 -0.016583   \n",
       "2015-01-28 -0.001415 -0.041639 -0.005418  0.057007  0.001802 -0.050587   \n",
       "2015-02-04  0.028329  0.040000 -0.010506 -0.005618 -0.042725 -0.030888   \n",
       "2015-02-11 -0.019284  0.011273 -0.025560 -0.033145 -0.015269 -0.016733   \n",
       "\n",
       "                 FUE        LD  \n",
       "Date                            \n",
       "2015-01-14 -0.011710 -0.040179  \n",
       "2015-01-21  0.017773  0.083463  \n",
       "2015-01-28  0.046566 -0.020510  \n",
       "2015-02-04 -0.082314 -0.017288  \n",
       "2015-02-11  0.000000 -0.023538  \n",
       "\n",
       "[5 rows x 1126 columns]"
      ],
      "text/html": "<div>\n<style scoped>\n    .dataframe tbody tr th:only-of-type {\n        vertical-align: middle;\n    }\n\n    .dataframe tbody tr th {\n        vertical-align: top;\n    }\n\n    .dataframe thead th {\n        text-align: right;\n    }\n</style>\n<table border=\"1\" class=\"dataframe\">\n  <thead>\n    <tr style=\"text-align: right;\">\n      <th></th>\n      <th>SPY</th>\n      <th>IVV</th>\n      <th>VTI</th>\n      <th>VOO</th>\n      <th>QQQ</th>\n      <th>VEA</th>\n      <th>IEFA</th>\n      <th>AGG</th>\n      <th>VWO</th>\n      <th>IEMG</th>\n      <th>...</th>\n      <th>SMN</th>\n      <th>EFU</th>\n      <th>RXD</th>\n      <th>EEH</th>\n      <th>SBM</th>\n      <th>SZK</th>\n      <th>SIJ</th>\n      <th>SCC</th>\n      <th>FUE</th>\n      <th>LD</th>\n    </tr>\n    <tr>\n      <th>Date</th>\n      <th></th>\n      <th></th>\n      <th></th>\n      <th></th>\n      <th></th>\n      <th></th>\n      <th></th>\n      <th></th>\n      <th></th>\n      <th></th>\n      <th></th>\n      <th></th>\n      <th></th>\n      <th></th>\n      <th></th>\n      <th></th>\n      <th></th>\n      <th></th>\n      <th></th>\n      <th></th>\n      <th></th>\n    </tr>\n  </thead>\n  <tbody>\n    <tr>\n      <th>2015-01-14</th>\n      <td>-0.007167</td>\n      <td>-0.007018</td>\n      <td>-0.005752</td>\n      <td>-0.007006</td>\n      <td>-0.003946</td>\n      <td>0.011404</td>\n      <td>0.008895</td>\n      <td>0.004417</td>\n      <td>0.006056</td>\n      <td>0.010519</td>\n      <td>...</td>\n      <td>0.016906</td>\n      <td>-0.017021</td>\n      <td>-0.017735</td>\n      <td>0.012709</td>\n      <td>0.020985</td>\n      <td>0.024178</td>\n      <td>0.010705</td>\n      <td>0.016117</td>\n      <td>-0.011710</td>\n      <td>-0.040179</td>\n    </tr>\n    <tr>\n      <th>2015-01-21</th>\n      <td>0.011053</td>\n      <td>0.010725</td>\n      <td>0.008968</td>\n      <td>0.010691</td>\n      <td>0.011688</td>\n      <td>0.028725</td>\n      <td>0.028105</td>\n      <td>0.000628</td>\n      <td>0.032104</td>\n      <td>0.025494</td>\n      <td>...</td>\n      <td>-0.051443</td>\n      <td>-0.059740</td>\n      <td>-0.018055</td>\n      <td>-0.000661</td>\n      <td>-0.034380</td>\n      <td>-0.068240</td>\n      <td>-0.020521</td>\n      <td>-0.016583</td>\n      <td>0.017773</td>\n      <td>0.083463</td>\n    </tr>\n    <tr>\n      <th>2015-01-28</th>\n      <td>-0.014477</td>\n      <td>-0.014572</td>\n      <td>-0.010608</td>\n      <td>-0.014713</td>\n      <td>-0.011944</td>\n      <td>-0.001566</td>\n      <td>-0.001787</td>\n      <td>0.005203</td>\n      <td>-0.003645</td>\n      <td>-0.003522</td>\n      <td>...</td>\n      <td>0.052249</td>\n      <td>0.001612</td>\n      <td>-0.001415</td>\n      <td>-0.041639</td>\n      <td>-0.005418</td>\n      <td>0.057007</td>\n      <td>0.001802</td>\n      <td>-0.050587</td>\n      <td>0.046566</td>\n      <td>-0.020510</td>\n    </tr>\n    <tr>\n      <th>2015-02-04</th>\n      <td>0.019586</td>\n      <td>0.019601</td>\n      <td>0.018932</td>\n      <td>0.019947</td>\n      <td>0.019322</td>\n      <td>0.017250</td>\n      <td>0.017899</td>\n      <td>0.000406</td>\n      <td>0.002195</td>\n      <td>0.006445</td>\n      <td>...</td>\n      <td>-0.069453</td>\n      <td>-0.036544</td>\n      <td>0.028329</td>\n      <td>0.040000</td>\n      <td>-0.010506</td>\n      <td>-0.005618</td>\n      <td>-0.042725</td>\n      <td>-0.030888</td>\n      <td>-0.082314</td>\n      <td>-0.017288</td>\n    </tr>\n    <tr>\n      <th>2015-02-11</th>\n      <td>0.014065</td>\n      <td>0.014211</td>\n      <td>0.013651</td>\n      <td>0.014106</td>\n      <td>0.018567</td>\n      <td>-0.003083</td>\n      <td>-0.000703</td>\n      <td>-0.009559</td>\n      <td>-0.016306</td>\n      <td>-0.020244</td>\n      <td>...</td>\n      <td>-0.047281</td>\n      <td>-0.001670</td>\n      <td>-0.019284</td>\n      <td>0.011273</td>\n      <td>-0.025560</td>\n      <td>-0.033145</td>\n      <td>-0.015269</td>\n      <td>-0.016733</td>\n      <td>0.000000</td>\n      <td>-0.023538</td>\n    </tr>\n  </tbody>\n</table>\n<p>5 rows × 1126 columns</p>\n</div>"
     },
     "metadata": {},
     "execution_count": 105
    }
   ],
   "source": [
    "returns_weekly = pd.read_csv(\"weeklyReturns.csv\", index_col=\"Date\")\n",
    "returns_weekly.head()"
   ]
  },
  {
   "cell_type": "code",
   "execution_count": 106,
   "metadata": {},
   "outputs": [],
   "source": [
    "ini_porti = list(returns_weekly.columns[:5])\n",
    "test_week = returns_weekly[ini_porti]"
   ]
  },
  {
   "cell_type": "code",
   "execution_count": 124,
   "metadata": {},
   "outputs": [
    {
     "output_type": "execute_result",
     "data": {
      "text/plain": [
       "                 SPY       IVV       VTI       VOO       QQQ\n",
       "Date                                                        \n",
       "2015-01-14 -0.007167 -0.007018 -0.005752 -0.007006 -0.003946\n",
       "2015-01-21  0.011053  0.010725  0.008968  0.010691  0.011688\n",
       "2015-01-28 -0.014477 -0.014572 -0.010608 -0.014713 -0.011944\n",
       "2015-02-04  0.019586  0.019601  0.018932  0.019947  0.019322\n",
       "2015-02-11  0.014065  0.014211  0.013651  0.014106  0.018567\n",
       "...              ...       ...       ...       ...       ...\n",
       "2020-12-02  0.011388  0.011291  0.009119  0.011465  0.025550\n",
       "2020-12-09  0.000164  0.000489  0.005338  0.000386 -0.008359\n",
       "2020-12-16  0.009050  0.008817  0.011932  0.008958  0.025456\n",
       "2020-12-23 -0.002791 -0.002758  0.004000 -0.002848 -0.000716\n",
       "2020-12-30  0.012025  0.011982  0.006504  0.011959  0.015477\n",
       "\n",
       "[308 rows x 5 columns]"
      ],
      "text/html": "<div>\n<style scoped>\n    .dataframe tbody tr th:only-of-type {\n        vertical-align: middle;\n    }\n\n    .dataframe tbody tr th {\n        vertical-align: top;\n    }\n\n    .dataframe thead th {\n        text-align: right;\n    }\n</style>\n<table border=\"1\" class=\"dataframe\">\n  <thead>\n    <tr style=\"text-align: right;\">\n      <th></th>\n      <th>SPY</th>\n      <th>IVV</th>\n      <th>VTI</th>\n      <th>VOO</th>\n      <th>QQQ</th>\n    </tr>\n    <tr>\n      <th>Date</th>\n      <th></th>\n      <th></th>\n      <th></th>\n      <th></th>\n      <th></th>\n    </tr>\n  </thead>\n  <tbody>\n    <tr>\n      <th>2015-01-14</th>\n      <td>-0.007167</td>\n      <td>-0.007018</td>\n      <td>-0.005752</td>\n      <td>-0.007006</td>\n      <td>-0.003946</td>\n    </tr>\n    <tr>\n      <th>2015-01-21</th>\n      <td>0.011053</td>\n      <td>0.010725</td>\n      <td>0.008968</td>\n      <td>0.010691</td>\n      <td>0.011688</td>\n    </tr>\n    <tr>\n      <th>2015-01-28</th>\n      <td>-0.014477</td>\n      <td>-0.014572</td>\n      <td>-0.010608</td>\n      <td>-0.014713</td>\n      <td>-0.011944</td>\n    </tr>\n    <tr>\n      <th>2015-02-04</th>\n      <td>0.019586</td>\n      <td>0.019601</td>\n      <td>0.018932</td>\n      <td>0.019947</td>\n      <td>0.019322</td>\n    </tr>\n    <tr>\n      <th>2015-02-11</th>\n      <td>0.014065</td>\n      <td>0.014211</td>\n      <td>0.013651</td>\n      <td>0.014106</td>\n      <td>0.018567</td>\n    </tr>\n    <tr>\n      <th>...</th>\n      <td>...</td>\n      <td>...</td>\n      <td>...</td>\n      <td>...</td>\n      <td>...</td>\n    </tr>\n    <tr>\n      <th>2020-12-02</th>\n      <td>0.011388</td>\n      <td>0.011291</td>\n      <td>0.009119</td>\n      <td>0.011465</td>\n      <td>0.025550</td>\n    </tr>\n    <tr>\n      <th>2020-12-09</th>\n      <td>0.000164</td>\n      <td>0.000489</td>\n      <td>0.005338</td>\n      <td>0.000386</td>\n      <td>-0.008359</td>\n    </tr>\n    <tr>\n      <th>2020-12-16</th>\n      <td>0.009050</td>\n      <td>0.008817</td>\n      <td>0.011932</td>\n      <td>0.008958</td>\n      <td>0.025456</td>\n    </tr>\n    <tr>\n      <th>2020-12-23</th>\n      <td>-0.002791</td>\n      <td>-0.002758</td>\n      <td>0.004000</td>\n      <td>-0.002848</td>\n      <td>-0.000716</td>\n    </tr>\n    <tr>\n      <th>2020-12-30</th>\n      <td>0.012025</td>\n      <td>0.011982</td>\n      <td>0.006504</td>\n      <td>0.011959</td>\n      <td>0.015477</td>\n    </tr>\n  </tbody>\n</table>\n<p>308 rows × 5 columns</p>\n</div>"
     },
     "metadata": {},
     "execution_count": 124
    }
   ],
   "source": [
    "test_week"
   ]
  },
  {
   "cell_type": "code",
   "execution_count": 107,
   "metadata": {},
   "outputs": [
    {
     "output_type": "stream",
     "name": "stderr",
     "text": [
      "21660it [00:35, 608.72it/s]\n"
     ]
    }
   ],
   "source": [
    "df = calculate_pdi_weights( returns = test_week,return_mean_range = 52)"
   ]
  },
  {
   "cell_type": "code",
   "execution_count": 156,
   "metadata": {},
   "outputs": [
    {
     "output_type": "execute_result",
     "data": {
      "text/plain": [
       "[0.2, 0.2, 0.2, 0.2, 0.2]"
      ]
     },
     "metadata": {},
     "execution_count": 156
    }
   ],
   "source": [
    "df.iloc[0][\"weights\"]"
   ]
  },
  {
   "cell_type": "code",
   "execution_count": 117,
   "metadata": {},
   "outputs": [
    {
     "output_type": "stream",
     "name": "stdout",
     "text": [
      "[0.2, 0.2, 0.2, 0.2, 0.2]\n[0.1, 0.04, 0.38, 0.17, 0.31]\n[0.42, 0.17, 0.26, 0.14, 0.01]\n[0.13, 0.13, 0.36, 0.07, 0.3]\n[0.22, 0.21, 0.21, 0.26, 0.1]\n"
     ]
    }
   ],
   "source": [
    "for i in df[\"weights\"][0:5]:\n",
    "    print(i)"
   ]
  },
  {
   "cell_type": "code",
   "execution_count": 113,
   "metadata": {},
   "outputs": [],
   "source": [
    "fig = px.scatter(df, x = \"PDI_INDEX\", y = \"Annual Return\")\n",
    "fig.show()"
   ]
  },
  {
   "cell_type": "code",
   "execution_count": 161,
   "metadata": {},
   "outputs": [],
   "source": [
    "############################################################## Trading Strategy #################################################################################\n",
    "def pca_per_weights(return_data, portfolio, interval, ret_range_mean):\n",
    "        data = return_data.copy() # data containing weekly returns\n",
    "        tickers = list(data.columns)\n",
    "        data.index = pd.to_datetime(data.index) # Conveting the index which is date to datetime\n",
    "        weeks_list = data.index # grabbing all index dates\n",
    "        data.index = data.index.to_period(interval) # converting the index to quarterly sets\n",
    "        periods = data.index.unique() # taking the unique quarters to loop\n",
    "\n",
    "        \n",
    "        #print(periods)\n",
    "        first_period = periods[0] # the first period of the time frame\n",
    "        remaining_periods = periods[1:] # the remianing periods of the time framr\n",
    "        first_periods = periods[:-1] # all periods minus the last\n",
    "\n",
    "        def meanRetAn(data):             \n",
    "            Result = 1\n",
    "            \n",
    "            for i in data:\n",
    "                Result *= (1+i)\n",
    "                \n",
    "            Result = Result**(1/float(len(data)/ret_range_mean))-1\n",
    "            \n",
    "            return(Result)\n",
    "\n",
    "        \n",
    "        def port_ret(returns, period, weights): # function for calculating returns\n",
    "            portfolio_weights_ew = weights\n",
    "            port_return = returns.loc[period].mul(portfolio_weights_ew,axis=1).sum(axis=1)\n",
    "            return  port_return\n",
    "\n",
    "        pdi_performance_w = []\n",
    "        sharpe_performance_w= []\n",
    "        equal_performance = []\n",
    "\n",
    "        \n",
    "        ############################################################ Calculate first period ####################################################################################\n",
    "        #### Weighted #####\n",
    "        print(first_period)\n",
    "        n_assets = len(portfolio) # equal weigt initialisation\n",
    "        ini_weights = np.repeat(1/n_assets, n_assets) # equal weigt initialisation\n",
    "\n",
    "        pdi_performance_w.extend(port_ret(data, portfolio,first_period,ini_weights))\n",
    "\n",
    "        sharpe_performance_w.extend(port_ret(data, portfolio,first_period,ini_weights))\n",
    "\n",
    "        equal_performance.extend(port_ret(data, portfolio,first_period,ini_weights))\n",
    "\n",
    "        tickers_weekly = list(data.columns)\n",
    "        #number_of_assets = [len(initial_port)]\n",
    "\n",
    "\n",
    "\n",
    "\n",
    "\n",
    "\n",
    "\n",
    "        ######################################################## Calculation of portfolio perfomnce #############################################################################\n",
    "\n",
    "        for init_time, next_time in zip(first_periods,remaining_periods):\n",
    "            ############ Portfolio Creation ##############################\n",
    "            print(\"first time: {} - last time: {}\".format(init_time, next_time))\n",
    "            PDI_DF = calculate_pdi_weights(returns = data.loc[init_time].dropna(axis=1), return_mean_range = ret_range_mean)\n",
    "\n",
    "\n",
    "            ################################################## Taking the higest PDI ##########################################################################\n",
    "\n",
    "            id = PDI_DF[\"PDI_INDEX\"].idxmax()\n",
    "            port_max_pdi_weights = PDI_DF[\"weights\"][id]\n",
    "            \n",
    "            port_max_ret_period = port_ret(data, next_time,port_max_pdi_weights)\n",
    "            pdi_performance_w.extend(port_max_ret_period)\n",
    "\n",
    "            ################################################## Taking the higest Sharpe Ration - PDI ##########################################################################\n",
    "            id_sharpe = PDI_DF[\"Sharpe Ratio\"].idxmax()\n",
    "            port_max_sharpe_weights = PDI_DF[\"weights\"][id_sharpe]\n",
    "\n",
    "            \n",
    "            port_max_ret_period_sharpe = port_ret(data, next_time,port_max_sharpe_weights)\n",
    "            sharpe_performance_w.extend(port_max_ret_period_sharpe)\n",
    "            \n",
    "            ################################################################## Equal Weigths Portoflio ##########################################################################\n",
    "\n",
    "            equal_weights = PDI_DF.iloc[0][\"weights\"]\n",
    "\n",
    "            \n",
    "            port_max_ret_period_equal = port_ret(data, next_time,equal_weights)\n",
    "            equal_performance.extend(port_max_ret_period_equal)\n",
    "\n",
    "\n",
    "\n",
    "\n",
    "        dd = pd.DataFrame()\n",
    "        dd[\"Time\"] = weeks_list\n",
    "        dd[\"Equal Weights\"] = equal_performance\n",
    "        dd[\"Max PDI Weights\"] = pdi_performance_w\n",
    "        dd[\"Max Sharpe Ratio Weights\"] = sharpe_performance_w\n",
    "        dd[\"Equal Weights Cummulative\"] = dd[\"Equal Weights\"].cumsum(axis=0)\n",
    "        dd[\"Max PDI Weights Cummulative\"] = dd[\"Max PDI Weights\"].cumsum(axis=0) # cummulative returns max pdi\n",
    "        dd[\"Max Sharpe Ratio Weights Cummulative\"] = dd[\"Max Sharpe Ratio Weights\"].cumsum(axis=0) #cummulative return sharpe ratio\n",
    "\n",
    "\n",
    "\n",
    "\n",
    "        return dd"
   ]
  },
  {
   "cell_type": "code",
   "execution_count": 162,
   "metadata": {},
   "outputs": [],
   "source": [
    "ini_porti = list(returns_weekly.columns[:5])\n",
    "test_week = returns_weekly[ini_porti]"
   ]
  },
  {
   "cell_type": "code",
   "execution_count": 163,
   "metadata": {},
   "outputs": [
    {
     "output_type": "stream",
     "name": "stdout",
     "text": [
      "2015Q1\n",
      "first time: 2015Q1 - last time: 2015Q2\n",
      "21597it [00:34, 623.94it/s]\n",
      "first time: 2015Q2 - last time: 2015Q3\n",
      "21656it [00:34, 636.53it/s]\n",
      "first time: 2015Q3 - last time: 2015Q4\n",
      "21670it [00:34, 631.65it/s]\n",
      "first time: 2015Q4 - last time: 2016Q1\n",
      "21722it [00:34, 633.03it/s]\n",
      "first time: 2016Q1 - last time: 2016Q2\n",
      "21714it [00:34, 633.50it/s]\n",
      "first time: 2016Q2 - last time: 2016Q3\n",
      "21666it [00:34, 629.99it/s]\n",
      "first time: 2016Q3 - last time: 2016Q4\n",
      "21613it [00:33, 637.29it/s]\n",
      "first time: 2016Q4 - last time: 2017Q1\n",
      "21710it [00:34, 625.57it/s]\n",
      "first time: 2017Q1 - last time: 2017Q2\n",
      "21621it [00:34, 633.41it/s]\n",
      "first time: 2017Q2 - last time: 2017Q3\n",
      "21520it [00:34, 622.01it/s]\n",
      "first time: 2017Q3 - last time: 2017Q4\n",
      "21704it [00:35, 608.28it/s]\n",
      "first time: 2017Q4 - last time: 2018Q1\n",
      "21646it [00:34, 626.90it/s]\n",
      "first time: 2018Q1 - last time: 2018Q2\n",
      "21662it [00:34, 620.52it/s]\n",
      "first time: 2018Q2 - last time: 2018Q3\n",
      "21582it [00:35, 615.22it/s]\n",
      "first time: 2018Q3 - last time: 2018Q4\n",
      "21608it [00:35, 614.06it/s]\n",
      "first time: 2018Q4 - last time: 2019Q1\n",
      "21635it [00:34, 634.81it/s]\n",
      "first time: 2019Q1 - last time: 2019Q2\n",
      "21604it [00:34, 635.08it/s]\n",
      "first time: 2019Q2 - last time: 2019Q3\n",
      "21503it [00:34, 630.37it/s]\n",
      "first time: 2019Q3 - last time: 2019Q4\n",
      "21608it [00:33, 641.15it/s]\n",
      "first time: 2019Q4 - last time: 2020Q1\n",
      "21612it [00:33, 639.77it/s]\n",
      "first time: 2020Q1 - last time: 2020Q2\n",
      "21466it [00:33, 641.03it/s]\n",
      "first time: 2020Q2 - last time: 2020Q3\n",
      "21841it [00:34, 628.40it/s]\n",
      "first time: 2020Q3 - last time: 2020Q4\n",
      "21640it [00:34, 635.78it/s]\n"
     ]
    }
   ],
   "source": [
    "performance = pca_per_weights(return_data = test_week, portfolio = ini_porti, interval = \"Q\", ret_range_mean = 12)"
   ]
  },
  {
   "cell_type": "code",
   "execution_count": 164,
   "metadata": {},
   "outputs": [
    {
     "output_type": "execute_result",
     "data": {
      "text/plain": [
       "          Time  Equal Weights  Max PDI Weights  Max Sharpe Ratio Weights  \\\n",
       "0   2015-01-14      -0.006178        -0.006178                 -0.006178   \n",
       "1   2015-01-21       0.010625         0.010625                  0.010625   \n",
       "2   2015-01-28      -0.013263        -0.013263                 -0.013263   \n",
       "3   2015-02-04       0.019478         0.019478                  0.019478   \n",
       "4   2015-02-11       0.014920         0.014920                  0.014920   \n",
       "..         ...            ...              ...                       ...   \n",
       "303 2020-12-02       0.013763         0.012918                  0.009957   \n",
       "304 2020-12-09      -0.000397         0.000090                  0.004183   \n",
       "305 2020-12-16       0.012843         0.011954                  0.011889   \n",
       "306 2020-12-23      -0.001023        -0.001031                  0.002835   \n",
       "307 2020-12-30       0.011590         0.011239                  0.007593   \n",
       "\n",
       "     Equal Weights Cummulative  Max PDI Weights Cummulative  \\\n",
       "0                    -0.006178                    -0.006178   \n",
       "1                     0.004447                     0.004447   \n",
       "2                    -0.008816                    -0.008816   \n",
       "3                     0.010662                     0.010662   \n",
       "4                     0.025582                     0.025582   \n",
       "..                         ...                          ...   \n",
       "303                   0.878897                     0.873213   \n",
       "304                   0.878500                     0.873304   \n",
       "305                   0.891343                     0.885258   \n",
       "306                   0.890320                     0.884227   \n",
       "307                   0.901910                     0.895466   \n",
       "\n",
       "     Max Sharpe Ratio Weights Cummulative  \n",
       "0                               -0.006178  \n",
       "1                                0.004447  \n",
       "2                               -0.008816  \n",
       "3                                0.010662  \n",
       "4                                0.025582  \n",
       "..                                    ...  \n",
       "303                              1.066640  \n",
       "304                              1.070823  \n",
       "305                              1.082712  \n",
       "306                              1.085547  \n",
       "307                              1.093141  \n",
       "\n",
       "[308 rows x 7 columns]"
      ],
      "text/html": "<div>\n<style scoped>\n    .dataframe tbody tr th:only-of-type {\n        vertical-align: middle;\n    }\n\n    .dataframe tbody tr th {\n        vertical-align: top;\n    }\n\n    .dataframe thead th {\n        text-align: right;\n    }\n</style>\n<table border=\"1\" class=\"dataframe\">\n  <thead>\n    <tr style=\"text-align: right;\">\n      <th></th>\n      <th>Time</th>\n      <th>Equal Weights</th>\n      <th>Max PDI Weights</th>\n      <th>Max Sharpe Ratio Weights</th>\n      <th>Equal Weights Cummulative</th>\n      <th>Max PDI Weights Cummulative</th>\n      <th>Max Sharpe Ratio Weights Cummulative</th>\n    </tr>\n  </thead>\n  <tbody>\n    <tr>\n      <th>0</th>\n      <td>2015-01-14</td>\n      <td>-0.006178</td>\n      <td>-0.006178</td>\n      <td>-0.006178</td>\n      <td>-0.006178</td>\n      <td>-0.006178</td>\n      <td>-0.006178</td>\n    </tr>\n    <tr>\n      <th>1</th>\n      <td>2015-01-21</td>\n      <td>0.010625</td>\n      <td>0.010625</td>\n      <td>0.010625</td>\n      <td>0.004447</td>\n      <td>0.004447</td>\n      <td>0.004447</td>\n    </tr>\n    <tr>\n      <th>2</th>\n      <td>2015-01-28</td>\n      <td>-0.013263</td>\n      <td>-0.013263</td>\n      <td>-0.013263</td>\n      <td>-0.008816</td>\n      <td>-0.008816</td>\n      <td>-0.008816</td>\n    </tr>\n    <tr>\n      <th>3</th>\n      <td>2015-02-04</td>\n      <td>0.019478</td>\n      <td>0.019478</td>\n      <td>0.019478</td>\n      <td>0.010662</td>\n      <td>0.010662</td>\n      <td>0.010662</td>\n    </tr>\n    <tr>\n      <th>4</th>\n      <td>2015-02-11</td>\n      <td>0.014920</td>\n      <td>0.014920</td>\n      <td>0.014920</td>\n      <td>0.025582</td>\n      <td>0.025582</td>\n      <td>0.025582</td>\n    </tr>\n    <tr>\n      <th>...</th>\n      <td>...</td>\n      <td>...</td>\n      <td>...</td>\n      <td>...</td>\n      <td>...</td>\n      <td>...</td>\n      <td>...</td>\n    </tr>\n    <tr>\n      <th>303</th>\n      <td>2020-12-02</td>\n      <td>0.013763</td>\n      <td>0.012918</td>\n      <td>0.009957</td>\n      <td>0.878897</td>\n      <td>0.873213</td>\n      <td>1.066640</td>\n    </tr>\n    <tr>\n      <th>304</th>\n      <td>2020-12-09</td>\n      <td>-0.000397</td>\n      <td>0.000090</td>\n      <td>0.004183</td>\n      <td>0.878500</td>\n      <td>0.873304</td>\n      <td>1.070823</td>\n    </tr>\n    <tr>\n      <th>305</th>\n      <td>2020-12-16</td>\n      <td>0.012843</td>\n      <td>0.011954</td>\n      <td>0.011889</td>\n      <td>0.891343</td>\n      <td>0.885258</td>\n      <td>1.082712</td>\n    </tr>\n    <tr>\n      <th>306</th>\n      <td>2020-12-23</td>\n      <td>-0.001023</td>\n      <td>-0.001031</td>\n      <td>0.002835</td>\n      <td>0.890320</td>\n      <td>0.884227</td>\n      <td>1.085547</td>\n    </tr>\n    <tr>\n      <th>307</th>\n      <td>2020-12-30</td>\n      <td>0.011590</td>\n      <td>0.011239</td>\n      <td>0.007593</td>\n      <td>0.901910</td>\n      <td>0.895466</td>\n      <td>1.093141</td>\n    </tr>\n  </tbody>\n</table>\n<p>308 rows × 7 columns</p>\n</div>"
     },
     "metadata": {},
     "execution_count": 164
    }
   ],
   "source": [
    "performance"
   ]
  },
  {
   "cell_type": "code",
   "execution_count": 166,
   "metadata": {},
   "outputs": [],
   "source": [
    "fig = px.line(performance, x=\"Time\", y=[\"Max PDI Weights Cummulative\",\"Max Sharpe Ratio Weights Cummulative\",\"Equal Weights Cummulative\"])\n",
    "fig.show()"
   ]
  }
 ]
}